{
  "nbformat": 4,
  "nbformat_minor": 0,
  "metadata": {
    "colab": {
      "name": "EA_tarea_2.ipynb",
      "provenance": [],
      "collapsed_sections": [
        "DVvXm6LrhgaY",
        "gGU_nOMXG2-b",
        "wB-53ymhOxEx",
        "fbZ6s8yq7VcX",
        "uZbmhkP5fyLt",
        "oGQcg1I73rRV",
        "Ij_LKwbbinRP",
        "U2DZpvHnzuBN",
        "apc8tASFinRQ",
        "WcU0PSHDywL_",
        "BlCG0t7r-64-",
        "peQ3nfDkVHQW",
        "6zzg8W7DflCu",
        "9xGrjeAzr4zA"
      ],
      "authorship_tag": "ABX9TyNbnYuJ2l34c5LsUcrxeglk",
      "include_colab_link": true
    },
    "kernelspec": {
      "name": "ir",
      "display_name": "R"
    },
    "language_info": {
      "name": "R"
    }
  },
  "cells": [
    {
      "cell_type": "markdown",
      "metadata": {
        "id": "view-in-github",
        "colab_type": "text"
      },
      "source": [
        "<a href=\"https://colab.research.google.com/github/gilesitorr/Estadistica_Avanzada/blob/main/Tarea_2/EA_tarea_2.ipynb\" target=\"_parent\"><img src=\"https://colab.research.google.com/assets/colab-badge.svg\" alt=\"Open In Colab\"/></a>"
      ]
    },
    {
      "cell_type": "markdown",
      "metadata": {
        "id": "pW1HRSR2Gr3s"
      },
      "source": [
        "# __Estadística Avanzada__\n",
        "# Tarea 2\n",
        "## _Gil Estéfano Rodríguez Rivera_"
      ]
    },
    {
      "cell_type": "markdown",
      "metadata": {
        "id": "REd6lbfrLgGH"
      },
      "source": [
        "## Primera parte"
      ]
    },
    {
      "cell_type": "markdown",
      "metadata": {
        "id": "4S2-1QNRHvu7"
      },
      "source": [
        "__For\teach\tof\tthe\tfollowing\texercises\tconstruct\t90,\t95,\tand\t99\tpercent\tconfidence\tintervals\tfor\tthe\tpopulation\tmean,\t and\tstate\tthe\tpractical\tand\tprobabilistic\tinterpretations\tof\teach.__\n",
        "\n",
        "__Indicate\twhich\tinterpretation\tyou\tthink\twould\tbe\t more\tappropriate\tto\tuse\twhen\tdiscussing\tconfidence\tintervals\twith someone\twho\thas\tnot\thad\ta\tcourse\tin\tstatistics,\t and\tstate\tthe\treason\tfor\tyour\tchoice.\tExplain\twhy\tthe\tthree\tintervals\tthat\tyou\tconstruct\tare\tnot\tof\tequal\twidth.__\n",
        "\n",
        "__Indicate\twhich\tof\tthe\tthree\tintervals\tyou\twould\tprefer\tto\tuse\tas\tan\testimate\tof\tthe\tpopulation\tmean,\tand\tstate\tthe\treason\tfor\tyour\tchoice.__"
      ]
    },
    {
      "cell_type": "markdown",
      "metadata": {
        "id": "4u4okjBMxTH0"
      },
      "source": [
        "__En respuesta al segundo inciso__: El intervalo de confianza es un rango de valores, este rango se define a partir de la renuencia a _equivocarse_ al rechazar la hipótesis inicial. Entre más _confianza_ (o fe) le tengas a la hipótesis inicial, menos vas a querer rechazarla y vas a requerir de información muy contundente para que cambies de opinión y rechaces esa hipótesis.\n",
        "\n",
        "__En respuesta al tercer inciso__: El valor más usado en general es la confianza del 95%, por ello, salvo que quiera estar muy seguro de mi afirmación y requiera de información más contundente (en tal caso usaría uno de 99% o más).\n",
        "\n"
      ]
    },
    {
      "cell_type": "markdown",
      "metadata": {
        "id": "DVvXm6LrhgaY"
      },
      "source": [
        "### Funciones útiles"
      ]
    },
    {
      "cell_type": "markdown",
      "metadata": {
        "id": "uH_gW3ElhJil"
      },
      "source": [
        "Se definen algunas funciones que servirán para armar los intervalos de confianza (Si bien existen funciones que lo hacen automáticamente en R, al ser una de las partes que se evalúan en esta parte del curso, se optó por hacer las cosas \"a mano\")."
      ]
    },
    {
      "cell_type": "code",
      "metadata": {
        "id": "7WfohItXPXo-"
      },
      "source": [
        "#Antes, se define la función para calcular los intervalos de confianza de\n",
        "#distribuciones normales\n",
        "normal.confidence.intervals <- function(mean, std){\n",
        "\n",
        "  #Vectores de los intervalos\n",
        "  #Se definen con una secuencia por el tamaño de datos que se introduciran, pero\n",
        "  #los valores de cada entrada son irrelevantes\n",
        "  confidence.up <- 1:3\n",
        "  confidence.down <- 1:3\n",
        "\n",
        "  #Se hacen los cálculos para cada valor de confianza\n",
        "  j=1\n",
        "\n",
        "  for (i in c(90,95,99)){\n",
        "    alpha <- 1-i/100\n",
        "    z.value <- qnorm(1-alpha/2, mean = 0, sd = 1)\n",
        "    confidence.up[j] <- mean + z.value*std\n",
        "    confidence.down[j] <- mean - z.value*std\n",
        "    j=j+1\n",
        "  }\n",
        "\n",
        "  #Se regresa una lista con cada uno de los valores de los intervalos\n",
        "  return.list <- list(\"up\"=confidence.up, \"down\"=confidence.down)\n",
        "\n",
        "  return( return.list )\n",
        "}"
      ],
      "execution_count": 1,
      "outputs": []
    },
    {
      "cell_type": "code",
      "metadata": {
        "id": "wxIcGO5EdYsL"
      },
      "source": [
        "#Antes, se define la función para calcular los intervalos de confianza de\n",
        "#distribuciones Student con varianzas diferentes\n",
        "student.confidence.intervals <- function(mean.1, mean.2, std.1, std.2, n.1, n.2){\n",
        "\n",
        "  mean <- mean.1-mean.2\n",
        "\n",
        "  w.1 <- (std.1**2)/n.1\n",
        "  w.2 <- (std.2**2)/n.2\n",
        "  deviation <- sqrt(w.1+w.2)\n",
        "\n",
        "  #Vectores de los intervalos\n",
        "  #Se definen con una secuencia por el tamaño de datos que se introduciran, pero\n",
        "  #los valores de cada entrada son irrelevantes\n",
        "  confidence.up <- 1:3\n",
        "  confidence.down <- 1:3\n",
        "\n",
        "  #Se hacen los cálculos para cada valor de confianza\n",
        "  j=1\n",
        "\n",
        "  for (i in c(90,95,99)){\n",
        "    alpha <- 1-i/100\n",
        "\n",
        "    #El t-value de la distribución de cada muestra\n",
        "    t.1 <- qt(1-alpha/2, n.1-1)\n",
        "    t.2 <- qt(1-alpha/2, n.2-1)\n",
        "\n",
        "    #El t-value de la prueba con varianzas diferentes\n",
        "    t.prime <- (w.1*t.1 + w.2*t.2)/(w.1+w.2)\n",
        "\n",
        "    confidence.up[j] <- mean + t.prime*deviation\n",
        "    confidence.down[j] <- mean - t.prime*deviation\n",
        "    j=j+1\n",
        "  }\n",
        "\n",
        "  #Se regresa una lista con cada uno de los valores de los intervalos\n",
        "  return.list <- list(\"up\"=confidence.up, \"down\"=confidence.down)\n",
        "\n",
        "  return( return.list )\n",
        "}"
      ],
      "execution_count": 2,
      "outputs": []
    },
    {
      "cell_type": "code",
      "metadata": {
        "id": "AFoPjF1d65AG"
      },
      "source": [
        "#Antes, se define la función para calcular los intervalos de confianza de\n",
        "#distribuciones Student con varianzas iguales\n",
        "student.confidence.intervals.same.variance <- function(mean.1, mean.2, std.1, std.2, n.1, n.2){\n",
        "\n",
        "  mean <- mean.1-mean.2\n",
        "\n",
        "  #Se calcula s_p\n",
        "  sp <- (n.1-1)*(std.1**2) + (n.2-1)*(std.2**2)\n",
        "  sp <- sqrt( sp/(n.1+n.2-2) )\n",
        "\n",
        "  #Se calcula el error estándar de la distribución\n",
        "  deviation <- sqrt( (sp**2)/n.1 + (sp**2)/n.2 )\n",
        "\n",
        "  #Vectores de los intervalos\n",
        "  #Se definen con una secuencia por el tamaño de datos que se introduciran, pero\n",
        "  #los valores de cada entrada son irrelevantes\n",
        "  confidence.up <- 1:3\n",
        "  confidence.down <- 1:3\n",
        "\n",
        "  #Se hacen los cálculos para cada valor de confianza\n",
        "  j=1\n",
        "\n",
        "  for (i in c(90,95,99)){\n",
        "    alpha <- 1-i/100\n",
        "\n",
        "    #El t-value para la prueba con varianzas iguales\n",
        "    t <- qt(1-alpha/2, n.1+n.2-1)\n",
        "\n",
        "    confidence.up[j] <- mean + t*deviation\n",
        "    confidence.down[j] <- mean - t*deviation\n",
        "    j=j+1\n",
        "  }\n",
        "\n",
        "  #Se regresa una lista con cada uno de los valores de los intervalos\n",
        "  return.list <- list(\"up\"=confidence.up, \"down\"=confidence.down)\n",
        "\n",
        "  return( return.list )\n",
        "}"
      ],
      "execution_count": 3,
      "outputs": []
    },
    {
      "cell_type": "markdown",
      "metadata": {
        "id": "gGU_nOMXG2-b"
      },
      "source": [
        "### 6.2.5\n"
      ]
    },
    {
      "cell_type": "markdown",
      "metadata": {
        "id": "leMbcoWci-5a"
      },
      "source": [
        "__Some studies of Alzheimer’s disease (AD) have shown an increase in 14CO2 production in patients with the disease. In one such study the following 14CO2 values were obtained from 16 neocortical biopsy samples from AD patients.__\n",
        "\n",
        "1009 1280 1180 1255 1547 2352 1956 1080\n",
        "\n",
        "1776 1767 1680 2050 1452 2857 3100 1621\n",
        "\n",
        "__Assume that the population of such values is normally distributed with a standard deviation of 350__"
      ]
    },
    {
      "cell_type": "markdown",
      "metadata": {
        "id": "CTl6JZlrxHid"
      },
      "source": [
        "Se usará una distribución normal por indicación del problema."
      ]
    },
    {
      "cell_type": "code",
      "metadata": {
        "id": "SlyFFwJR5r88"
      },
      "source": [
        "#Se define la muestra a estudiar\n",
        "data <- c(1009, 1280, 1180, 1255, 1547, 2352, 1956, 1080,\n",
        "                1776, 1767, 1680, 2050, 1452, 2857, 3100, 1621)\n",
        "\n",
        "#La desviación dada por el problema\n",
        "std <- 350\n",
        "\n",
        "#Se calcula el promedio de la muestra\n",
        "mean <- mean(data)\n",
        "#Se calcula el tamaño de la muestra\n",
        "n <- length(data)\n",
        "\n",
        "#Se calcula el error estándar respecto a la media\n",
        "std.error <- std/sqrt(n)"
      ],
      "execution_count": 4,
      "outputs": []
    },
    {
      "cell_type": "code",
      "metadata": {
        "id": "cWfg7iVsIDM0"
      },
      "source": [
        "#Calcula los intervalos\n",
        "confidence <- normal.confidence.intervals(mean, std.error)\n",
        "\n",
        "confidence.up <- confidence$up\n",
        "confidence.down <- confidence$down"
      ],
      "execution_count": 5,
      "outputs": []
    },
    {
      "cell_type": "markdown",
      "metadata": {
        "id": "oeD-65iROhEg"
      },
      "source": [
        "Como referencia, el promedio"
      ]
    },
    {
      "cell_type": "code",
      "metadata": {
        "colab": {
          "base_uri": "https://localhost:8080/",
          "height": 35
        },
        "id": "vvJmEWaPOQan",
        "outputId": "9a3f4927-a438-411e-a137-7b2558e08341"
      },
      "source": [
        "mean"
      ],
      "execution_count": 6,
      "outputs": [
        {
          "output_type": "display_data",
          "data": {
            "text/plain": [
              "[1] 1747.625"
            ],
            "text/latex": "1747.625",
            "text/markdown": "1747.625",
            "text/html": [
              "1747.625"
            ]
          },
          "metadata": {}
        }
      ]
    },
    {
      "cell_type": "markdown",
      "metadata": {
        "id": "QRpU7pg9OW5s"
      },
      "source": [
        "Las primeras componentes de cada vector corresponden a los intervalos del 90%, la segunda al de 95% y la tercera al de 99%."
      ]
    },
    {
      "cell_type": "code",
      "metadata": {
        "colab": {
          "base_uri": "https://localhost:8080/",
          "height": 35
        },
        "id": "CHJqdwSHN6ca",
        "outputId": "46d23874-e90d-4557-97d8-b85d8061642f"
      },
      "source": [
        "confidence.up"
      ],
      "execution_count": 7,
      "outputs": [
        {
          "output_type": "display_data",
          "data": {
            "text/plain": [
              "[1] 1891.550 1919.122 1973.010"
            ],
            "text/latex": "\\begin{enumerate*}\n\\item 1891.54969235825\n\\item 1919.12184864725\n\\item 1973.01006406053\n\\end{enumerate*}\n",
            "text/markdown": "1. 1891.54969235825\n2. 1919.12184864725\n3. 1973.01006406053\n\n\n",
            "text/html": [
              "<style>\n",
              ".list-inline {list-style: none; margin:0; padding: 0}\n",
              ".list-inline>li {display: inline-block}\n",
              ".list-inline>li:not(:last-child)::after {content: \"\\00b7\"; padding: 0 .5ex}\n",
              "</style>\n",
              "<ol class=list-inline><li>1891.54969235825</li><li>1919.12184864725</li><li>1973.01006406053</li></ol>\n"
            ]
          },
          "metadata": {}
        }
      ]
    },
    {
      "cell_type": "code",
      "metadata": {
        "colab": {
          "base_uri": "https://localhost:8080/",
          "height": 35
        },
        "id": "m3nSezksOOAp",
        "outputId": "28fe13a4-69ae-407f-8860-126ba4aa0702"
      },
      "source": [
        "confidence.down"
      ],
      "execution_count": 8,
      "outputs": [
        {
          "output_type": "display_data",
          "data": {
            "text/plain": [
              "[1] 1603.700 1576.128 1522.240"
            ],
            "text/latex": "\\begin{enumerate*}\n\\item 1603.70030764175\n\\item 1576.12815135275\n\\item 1522.23993593947\n\\end{enumerate*}\n",
            "text/markdown": "1. 1603.70030764175\n2. 1576.12815135275\n3. 1522.23993593947\n\n\n",
            "text/html": [
              "<style>\n",
              ".list-inline {list-style: none; margin:0; padding: 0}\n",
              ".list-inline>li {display: inline-block}\n",
              ".list-inline>li:not(:last-child)::after {content: \"\\00b7\"; padding: 0 .5ex}\n",
              "</style>\n",
              "<ol class=list-inline><li>1603.70030764175</li><li>1576.12815135275</li><li>1522.23993593947</li></ol>\n"
            ]
          },
          "metadata": {}
        }
      ]
    },
    {
      "cell_type": "markdown",
      "metadata": {
        "id": "wB-53ymhOxEx"
      },
      "source": [
        "### 6.3.5\n"
      ]
    },
    {
      "cell_type": "markdown",
      "metadata": {
        "id": "9U6huWjAjB_v"
      },
      "source": [
        "__A sample of 16 ten-year-old girls had a mean weight of 71.5 and a standard deviation of 12 pounds, respectively.__\n",
        "\n",
        "__Assuming normality, find the 90, 95, and 99 percent confidence intervals for m.__"
      ]
    },
    {
      "cell_type": "markdown",
      "metadata": {
        "id": "q4WpiRzSzMqU"
      },
      "source": [
        "Se usará una distribución normal por indicación del problema."
      ]
    },
    {
      "cell_type": "code",
      "metadata": {
        "id": "fq1m8nDEOxEy"
      },
      "source": [
        "#La desviación dada por el problema\n",
        "std <- 12\n",
        "\n",
        "#El promedio dado por el problema\n",
        "mean <- 71.5\n",
        "\n",
        "#El tamaño de la muestra\n",
        "n <- 16\n",
        "\n",
        "#Se calcula el error estándar\n",
        "std.error <- std/sqrt(n)"
      ],
      "execution_count": 9,
      "outputs": []
    },
    {
      "cell_type": "code",
      "metadata": {
        "id": "s8QHNt7UOxEz"
      },
      "source": [
        "#Calcula los intervalos\n",
        "confidence <- normal.confidence.intervals(mean, std.error)\n",
        "\n",
        "confidence.up <- confidence$up\n",
        "confidence.down <- confidence$down"
      ],
      "execution_count": 10,
      "outputs": []
    },
    {
      "cell_type": "markdown",
      "metadata": {
        "id": "LLj7-TvzOxE7"
      },
      "source": [
        "Las primeras componentes de cada vector corresponden a los intervalos del 90%, la segunda al de 95% y la tercera al de 99%."
      ]
    },
    {
      "cell_type": "code",
      "metadata": {
        "colab": {
          "base_uri": "https://localhost:8080/",
          "height": 35
        },
        "id": "OERbhEumOxE7",
        "outputId": "9d8c3cf4-ff48-4141-ac27-b6c207da01b3"
      },
      "source": [
        "confidence.up"
      ],
      "execution_count": 11,
      "outputs": [
        {
          "output_type": "display_data",
          "data": {
            "text/plain": [
              "[1] 76.43456 77.37989 79.22749"
            ],
            "text/latex": "\\begin{enumerate*}\n\\item 76.4345608808544\n\\item 77.3798919536202\n\\item 79.2274879106467\n\\end{enumerate*}\n",
            "text/markdown": "1. 76.4345608808544\n2. 77.3798919536202\n3. 79.2274879106467\n\n\n",
            "text/html": [
              "<style>\n",
              ".list-inline {list-style: none; margin:0; padding: 0}\n",
              ".list-inline>li {display: inline-block}\n",
              ".list-inline>li:not(:last-child)::after {content: \"\\00b7\"; padding: 0 .5ex}\n",
              "</style>\n",
              "<ol class=list-inline><li>76.4345608808544</li><li>77.3798919536202</li><li>79.2274879106467</li></ol>\n"
            ]
          },
          "metadata": {}
        }
      ]
    },
    {
      "cell_type": "code",
      "metadata": {
        "colab": {
          "base_uri": "https://localhost:8080/",
          "height": 35
        },
        "id": "zPBH9_cUOxE8",
        "outputId": "72ac42ec-1043-43b6-fc2e-1ebe6f0f5e35"
      },
      "source": [
        "confidence.down"
      ],
      "execution_count": 12,
      "outputs": [
        {
          "output_type": "display_data",
          "data": {
            "text/plain": [
              "[1] 66.56544 65.62011 63.77251"
            ],
            "text/latex": "\\begin{enumerate*}\n\\item 66.5654391191456\n\\item 65.6201080463798\n\\item 63.7725120893533\n\\end{enumerate*}\n",
            "text/markdown": "1. 66.5654391191456\n2. 65.6201080463798\n3. 63.7725120893533\n\n\n",
            "text/html": [
              "<style>\n",
              ".list-inline {list-style: none; margin:0; padding: 0}\n",
              ".list-inline>li {display: inline-block}\n",
              ".list-inline>li:not(:last-child)::after {content: \"\\00b7\"; padding: 0 .5ex}\n",
              "</style>\n",
              "<ol class=list-inline><li>66.5654391191456</li><li>65.6201080463798</li><li>63.7725120893533</li></ol>\n"
            ]
          },
          "metadata": {}
        }
      ]
    },
    {
      "cell_type": "markdown",
      "metadata": {
        "id": "TCJQn34TSntd"
      },
      "source": [
        "### 6.4.5\n"
      ]
    },
    {
      "cell_type": "markdown",
      "metadata": {
        "id": "pLrxC9TujFDB"
      },
      "source": [
        "__Krantz et al. (A-12) investigated dose-related effects of methadone in subjects with torsade de pointes a polymorphic ventricular tachycardia.__\n",
        "\n",
        "__In the study of 17 subjects, nine were being treated with methadone for opiate dependency and eight for chronic pain.__\n",
        "\n",
        "__The mean daily dose of methadone in the opiate dependency group was 541 mg/day with a standard deviation of 156, while the chronic pain group received a mean dose of 269 mg/day with a standard deviation of 316.__"
      ]
    },
    {
      "cell_type": "markdown",
      "metadata": {
        "id": "iyJslOhAzSqj"
      },
      "source": [
        "Se usará una distribución t porque el tamaño de las muestras es muy pequeño (menor a 30).\n",
        "\n",
        "En la prueba de hipótesis, se hará la suposición de que las varianzas de las dos muestras son diferentes. Esto es porque aunque ambos grupos son suministrados con la misma sustancia, sus condiciones y, por ende, sus posibles reacciones sean diferentes."
      ]
    },
    {
      "cell_type": "code",
      "metadata": {
        "id": "VphvkNloSiyX"
      },
      "source": [
        "#La desviación dada por el problema\n",
        "std.1 <- 156\n",
        "std.2 <- 316\n",
        "\n",
        "#El promedio dado por el problema\n",
        "mean.1 <- 541\n",
        "mean.2 <- 269\n",
        "\n",
        "#Número de cada muestra\n",
        "n.1 <- 9\n",
        "n.2 <- 8\n"
      ],
      "execution_count": 13,
      "outputs": []
    },
    {
      "cell_type": "markdown",
      "metadata": {
        "id": "sVmXTSIzTd8R"
      },
      "source": [
        "Se hará una prueba para determinar si los tratamientos tienen resultados diferentes o no."
      ]
    },
    {
      "cell_type": "code",
      "metadata": {
        "id": "oKtZArXzSiyY"
      },
      "source": [
        "#Calcula los intervalos\n",
        "confidence <- student.confidence.intervals(mean.1, mean.2, std.1, std.2, n.1, n.2)\n",
        "\n",
        "confidence.up <- confidence$up\n",
        "confidence.down <- confidence$down"
      ],
      "execution_count": 14,
      "outputs": []
    },
    {
      "cell_type": "markdown",
      "metadata": {
        "id": "1QH9NLdQfjMr"
      },
      "source": [
        "La diferencia de los promedios como referencia"
      ]
    },
    {
      "cell_type": "code",
      "metadata": {
        "colab": {
          "base_uri": "https://localhost:8080/",
          "height": 35
        },
        "id": "lfMHjthtfnSJ",
        "outputId": "93d10ab0-938c-4d4a-d280-5493af76c5ab"
      },
      "source": [
        "mean.1-mean.2"
      ],
      "execution_count": 15,
      "outputs": [
        {
          "output_type": "display_data",
          "data": {
            "text/plain": [
              "[1] 272"
            ],
            "text/latex": "272",
            "text/markdown": "272",
            "text/html": [
              "272"
            ]
          },
          "metadata": {}
        }
      ]
    },
    {
      "cell_type": "markdown",
      "metadata": {
        "id": "KSF3KmEYSiyZ"
      },
      "source": [
        "Las primeras componentes de cada vector corresponden a los intervalos del 90%, la segunda al de 95% y la tercera al de 99%."
      ]
    },
    {
      "cell_type": "code",
      "metadata": {
        "colab": {
          "base_uri": "https://localhost:8080/",
          "height": 35
        },
        "id": "40z04w3YSiyZ",
        "outputId": "d6358477-a6d2-4422-ae5d-b0dc8b3a7870"
      },
      "source": [
        "confidence.up"
      ],
      "execution_count": 16,
      "outputs": [
        {
          "output_type": "display_data",
          "data": {
            "text/plain": [
              "[1] 504.7031 562.1099 700.0847"
            ],
            "text/latex": "\\begin{enumerate*}\n\\item 504.703087195587\n\\item 562.10989999548\n\\item 700.084721552254\n\\end{enumerate*}\n",
            "text/markdown": "1. 504.703087195587\n2. 562.10989999548\n3. 700.084721552254\n\n\n",
            "text/html": [
              "<style>\n",
              ".list-inline {list-style: none; margin:0; padding: 0}\n",
              ".list-inline>li {display: inline-block}\n",
              ".list-inline>li:not(:last-child)::after {content: \"\\00b7\"; padding: 0 .5ex}\n",
              "</style>\n",
              "<ol class=list-inline><li>504.703087195587</li><li>562.10989999548</li><li>700.084721552254</li></ol>\n"
            ]
          },
          "metadata": {}
        }
      ]
    },
    {
      "cell_type": "code",
      "metadata": {
        "colab": {
          "base_uri": "https://localhost:8080/",
          "height": 35
        },
        "id": "T95sR9JeSiyb",
        "outputId": "5008d16d-ad8e-4f7e-8d41-2ade1a771ae3"
      },
      "source": [
        "confidence.down"
      ],
      "execution_count": 17,
      "outputs": [
        {
          "output_type": "display_data",
          "data": {
            "text/plain": [
              "[1]   39.29691  -18.10990 -156.08472"
            ],
            "text/latex": "\\begin{enumerate*}\n\\item 39.2969128044127\n\\item -18.1098999954797\n\\item -156.084721552254\n\\end{enumerate*}\n",
            "text/markdown": "1. 39.2969128044127\n2. -18.1098999954797\n3. -156.084721552254\n\n\n",
            "text/html": [
              "<style>\n",
              ".list-inline {list-style: none; margin:0; padding: 0}\n",
              ".list-inline>li {display: inline-block}\n",
              ".list-inline>li:not(:last-child)::after {content: \"\\00b7\"; padding: 0 .5ex}\n",
              "</style>\n",
              "<ol class=list-inline><li>39.2969128044127</li><li>-18.1098999954797</li><li>-156.084721552254</li></ol>\n"
            ]
          },
          "metadata": {}
        }
      ]
    },
    {
      "cell_type": "markdown",
      "metadata": {
        "id": "2hSsGU6oT-pL"
      },
      "source": [
        "Los intervalos de confianza de 95% y 99% contienen el 0, por lo que en ese caso, se puede inferir que los tratamientos son iguales."
      ]
    },
    {
      "cell_type": "markdown",
      "metadata": {
        "id": "fbZ6s8yq7VcX"
      },
      "source": [
        "#### __Extra__: Si se usa una prueba pero suponiendo varianzas iguales"
      ]
    },
    {
      "cell_type": "code",
      "metadata": {
        "id": "UkkvuCDS7i-o"
      },
      "source": [
        "#Calcula los intervalos\n",
        "confidence <- student.confidence.intervals.same.variance(mean.1, mean.2, std.1, std.2, n.1, n.2)\n",
        "\n",
        "confidence.up <- confidence$up\n",
        "confidence.down <- confidence$down"
      ],
      "execution_count": 18,
      "outputs": []
    },
    {
      "cell_type": "code",
      "metadata": {
        "colab": {
          "base_uri": "https://localhost:8080/",
          "height": 35
        },
        "id": "7QvpQcJT7pqx",
        "outputId": "e14222fb-324e-4270-9ef4-13e10d722e6b"
      },
      "source": [
        "confidence.up"
      ],
      "execution_count": 19,
      "outputs": [
        {
          "output_type": "display_data",
          "data": {
            "text/plain": [
              "[1] 479.0708 523.4317 618.4198"
            ],
            "text/latex": "\\begin{enumerate*}\n\\item 479.070821646491\n\\item 523.431717981787\n\\item 618.419786509212\n\\end{enumerate*}\n",
            "text/markdown": "1. 479.070821646491\n2. 523.431717981787\n3. 618.419786509212\n\n\n",
            "text/html": [
              "<style>\n",
              ".list-inline {list-style: none; margin:0; padding: 0}\n",
              ".list-inline>li {display: inline-block}\n",
              ".list-inline>li:not(:last-child)::after {content: \"\\00b7\"; padding: 0 .5ex}\n",
              "</style>\n",
              "<ol class=list-inline><li>479.070821646491</li><li>523.431717981787</li><li>618.419786509212</li></ol>\n"
            ]
          },
          "metadata": {}
        }
      ]
    },
    {
      "cell_type": "code",
      "metadata": {
        "colab": {
          "base_uri": "https://localhost:8080/",
          "height": 35
        },
        "id": "Ofutf_JQ7qV3",
        "outputId": "ec030908-c829-4a1d-cc33-3891c6d27999"
      },
      "source": [
        "confidence.down"
      ],
      "execution_count": 20,
      "outputs": [
        {
          "output_type": "display_data",
          "data": {
            "text/plain": [
              "[1]  64.92918  20.56828 -74.41979"
            ],
            "text/latex": "\\begin{enumerate*}\n\\item 64.9291783535089\n\\item 20.5682820182129\n\\item -74.419786509212\n\\end{enumerate*}\n",
            "text/markdown": "1. 64.9291783535089\n2. 20.5682820182129\n3. -74.419786509212\n\n\n",
            "text/html": [
              "<style>\n",
              ".list-inline {list-style: none; margin:0; padding: 0}\n",
              ".list-inline>li {display: inline-block}\n",
              ".list-inline>li:not(:last-child)::after {content: \"\\00b7\"; padding: 0 .5ex}\n",
              "</style>\n",
              "<ol class=list-inline><li>64.9291783535089</li><li>20.5682820182129</li><li>-74.419786509212</li></ol>\n"
            ]
          },
          "metadata": {}
        }
      ]
    },
    {
      "cell_type": "markdown",
      "metadata": {
        "id": "7cAZzHB97r-1"
      },
      "source": [
        "En este caso, se obtienen intervalos _menos conservadores_. Es decir, desde los intervalos de confianza del 95% ya se infiere que las dosis son diferentes."
      ]
    },
    {
      "cell_type": "markdown",
      "metadata": {
        "id": "uZbmhkP5fyLt"
      },
      "source": [
        "## Segunda parte\n"
      ]
    },
    {
      "cell_type": "markdown",
      "metadata": {
        "id": "qb7GPLwei5QD"
      },
      "source": [
        "__For each of the following exercises state the practical and probabilistic interpretations of the interval that you construct.__\n",
        "\n",
        "__Identify each component of the interval: point estimate, reliability coefficient, and standard error. Explain why the reliability coefficients are not the same for all exercises__"
      ]
    },
    {
      "cell_type": "markdown",
      "metadata": {
        "id": "oGQcg1I73rRV"
      },
      "source": [
        "### Funciones útiles"
      ]
    },
    {
      "cell_type": "code",
      "metadata": {
        "id": "CuUvMa0wjcSa"
      },
      "source": [
        "#Antes, se define la función para calcular el intervalo de confianza del 95%\n",
        "#para una distribución binomial (distribución de proporciones)\n",
        "proportion.confidence.95 <- function(mean, var, n){\n",
        "\n",
        "  #Se hacen los cálculos para el valor de confianza de 95%\n",
        "  alpha <- 1-95/100\n",
        "  z.value <- qnorm(1-alpha/2, mean = 0, sd = 1)\n",
        "\n",
        "  confidence.up <- mean + z.value*sqrt(var/n)\n",
        "  confidence.down <- mean - z.value*sqrt(var/n)\n",
        "\n",
        "  #Se regresa una lista con cada uno de los valores de los intervalos\n",
        "  return.list <- list(\"up\"=confidence.up, \"down\"=confidence.down)\n",
        "\n",
        "  return( return.list )\n",
        "}"
      ],
      "execution_count": 21,
      "outputs": []
    },
    {
      "cell_type": "markdown",
      "metadata": {
        "id": "1n_ay4qkgGHd"
      },
      "source": [
        "### 6.5.1\n",
        "__Luna et al. (A-14) studied patients who were mechanically ventilated in the intensive care unit of six hospitals in Buenos Aires, Argentina.__\n",
        "\n",
        "__The researchers found that of 472 mechanically ventilated patients, 63 had clinical evidence of ventilator-associated pneumonia (VAP).__\n",
        "\n",
        "__Construct a 95 percent confidence interval for the proportion of all mechanically ventilated patients at these hospitals who may be expected to develop VAP__"
      ]
    },
    {
      "cell_type": "markdown",
      "metadata": {
        "id": "onjlaCPIzxVk"
      },
      "source": [
        "Se usará una distribución binomial, pues se trata de un problema de lidiar con proporciones."
      ]
    },
    {
      "cell_type": "code",
      "metadata": {
        "id": "NMbyR86ugGHe"
      },
      "source": [
        "#Se calcula la proporción de la muestra\n",
        "mean <- 63/472\n",
        "\n",
        "#La varianza dada por el problema\n",
        "var <- mean*(1-mean)\n",
        "\n",
        "#El tamaño de la muestra\n",
        "n <- 472"
      ],
      "execution_count": 22,
      "outputs": []
    },
    {
      "cell_type": "code",
      "metadata": {
        "id": "QIwxbdgugGHg"
      },
      "source": [
        "#Calcula los intervalos\n",
        "confidence <- proportion.confidence.95(mean, var, n)\n",
        "\n",
        "confidence.up <- confidence$up\n",
        "confidence.down <- confidence$down"
      ],
      "execution_count": 23,
      "outputs": []
    },
    {
      "cell_type": "markdown",
      "metadata": {
        "id": "S1ZbaUtTgGHl"
      },
      "source": [
        "Como referencia, la proporción"
      ]
    },
    {
      "cell_type": "code",
      "metadata": {
        "colab": {
          "base_uri": "https://localhost:8080/",
          "height": 35
        },
        "id": "a093SDregGHn",
        "outputId": "59f9a996-2b54-4338-db5d-0c5f491d12ce"
      },
      "source": [
        "mean"
      ],
      "execution_count": 24,
      "outputs": [
        {
          "output_type": "display_data",
          "data": {
            "text/plain": [
              "[1] 0.1334746"
            ],
            "text/latex": "0.133474576271186",
            "text/markdown": "0.133474576271186",
            "text/html": [
              "0.133474576271186"
            ]
          },
          "metadata": {}
        }
      ]
    },
    {
      "cell_type": "markdown",
      "metadata": {
        "id": "MDRxSIsMgGHt"
      },
      "source": [
        "Los intervalos del 95%"
      ]
    },
    {
      "cell_type": "code",
      "metadata": {
        "colab": {
          "base_uri": "https://localhost:8080/",
          "height": 35
        },
        "id": "Z1jsHlq1gGHu",
        "outputId": "b00ba186-2b37-430b-cd4b-3c3aea2fee32"
      },
      "source": [
        "confidence.up"
      ],
      "execution_count": 25,
      "outputs": [
        {
          "output_type": "display_data",
          "data": {
            "text/plain": [
              "[1] 0.1641554"
            ],
            "text/latex": "0.164155400444031",
            "text/markdown": "0.164155400444031",
            "text/html": [
              "0.164155400444031"
            ]
          },
          "metadata": {}
        }
      ]
    },
    {
      "cell_type": "code",
      "metadata": {
        "colab": {
          "base_uri": "https://localhost:8080/",
          "height": 35
        },
        "id": "x5DdH1NYgGHv",
        "outputId": "12856a66-bbf1-4776-b0f3-d14dd86e7816"
      },
      "source": [
        "confidence.down"
      ],
      "execution_count": 26,
      "outputs": [
        {
          "output_type": "display_data",
          "data": {
            "text/plain": [
              "[1] 0.1027938"
            ],
            "text/latex": "0.102793752098342",
            "text/markdown": "0.102793752098342",
            "text/html": [
              "0.102793752098342"
            ]
          },
          "metadata": {}
        }
      ]
    },
    {
      "cell_type": "markdown",
      "metadata": {
        "id": "Ij_LKwbbinRP"
      },
      "source": [
        "## Tercera parte\n"
      ]
    },
    {
      "cell_type": "markdown",
      "metadata": {
        "id": "oRSOefLhy4Sy"
      },
      "source": [
        "__For each of the following exercises state the practical and probabilistic interpretations of the interval that you construct.__\n",
        "\n",
        "__Identify each component of the interval: point estimate, reliability coefficient, and standard error. Explain why the reliability coefficients are not the same for all exercises__"
      ]
    },
    {
      "cell_type": "markdown",
      "metadata": {
        "id": "U2DZpvHnzuBN"
      },
      "source": [
        "### Funciones útiles"
      ]
    },
    {
      "cell_type": "code",
      "metadata": {
        "id": "51G8XvdkxXpi"
      },
      "source": [
        "#Antes, se define la función para calcular el intervalo de confianza del 95%\n",
        "#para una distribución binomial (distribución de proporciones) donde se \n",
        "#estudie la diferencia de dos muestras\n",
        "proportion.difference.95 <- function(mean.1, mean.2, var.1, var.2, n.1, n.2){\n",
        "\n",
        "  #Se hacen los cálculos para el valor de confianza de 95%\n",
        "  alpha <- 1-95/100\n",
        "  z.value <- qnorm(1-alpha/2, mean = 0, sd = 1)\n",
        "\n",
        "  #Los valores para comparar las muestras\n",
        "  deviation <- sqrt(var.1/n.1 + var.2/n.2)\n",
        "  mean <- mean.1-mean.2\n",
        "\n",
        "  confidence.up <- mean + z.value*deviation\n",
        "  confidence.down <- mean - z.value*deviation\n",
        "\n",
        "  #Se regresa una lista con cada uno de los valores de los intervalos\n",
        "  return.list <- list(\"up\"=confidence.up, \"down\"=confidence.down)\n",
        "\n",
        "  return( return.list )\n",
        "}"
      ],
      "execution_count": 27,
      "outputs": []
    },
    {
      "cell_type": "markdown",
      "metadata": {
        "id": "apc8tASFinRQ"
      },
      "source": [
        "### 6.6.1\n"
      ]
    },
    {
      "cell_type": "markdown",
      "metadata": {
        "id": "Y3hSJ6UMv_fJ"
      },
      "source": [
        "__Horwitz et al. (A-18) studied 637 persons who were identified by court records from 1967 to 1971 as having experienced abuse or neglect. For a control group, they located 510 subjects who as children attended the same elementary school and lived within a five-block radius of those in the abused/neglected group.__\n",
        "\n",
        "__In the abused/neglected group, and control group, 114 and 57 subjects,\n",
        "respectively, had developed antisocial personality disorders over their lifetimes.__\n",
        "\n",
        "__Construct a 95 percent confidence interval for the difference between the proportions of subjects developing antisocial personality disorders one might expect to find in the populations of subjects from which the subjects of this study may be presumed to have been drawn__"
      ]
    },
    {
      "cell_type": "markdown",
      "metadata": {
        "id": "ASc3JvtD16P9"
      },
      "source": [
        "Se usará una distribución binomial, pues se trata de un problema de lidiar con proporciones."
      ]
    },
    {
      "cell_type": "code",
      "metadata": {
        "id": "_PQaR_C-wI1G"
      },
      "source": [
        "#Se calcula la proporción de la muestra\n",
        "mean.1 <- 114/637\n",
        "mean.2 <- 57/510\n",
        "\n",
        "#La varianza dada por el problema\n",
        "var.1 <- mean.1*(1-mean.1)\n",
        "var.2 <- mean.2*(1-mean.2)\n",
        "\n",
        "#El tamaño de la muestra\n",
        "n.1 <- 637\n",
        "n.2 <- 510"
      ],
      "execution_count": 28,
      "outputs": []
    },
    {
      "cell_type": "code",
      "metadata": {
        "id": "7NYF3862wI1G"
      },
      "source": [
        "#Calcula los intervalos\n",
        "confidence <- proportion.difference.95(mean.1, mean.2, var.1, var.2, n.1, n.2)\n",
        "\n",
        "confidence.up <- confidence$up\n",
        "confidence.down <- confidence$down"
      ],
      "execution_count": 29,
      "outputs": []
    },
    {
      "cell_type": "markdown",
      "metadata": {
        "id": "_P6rQLJvwI1H"
      },
      "source": [
        "Como referencia, la proporción"
      ]
    },
    {
      "cell_type": "code",
      "metadata": {
        "colab": {
          "base_uri": "https://localhost:8080/",
          "height": 35
        },
        "id": "rsPGkyZowI1H",
        "outputId": "9d05e64e-d45c-4bb2-d411-0bec9f78386f"
      },
      "source": [
        "mean.1-mean.2"
      ],
      "execution_count": 30,
      "outputs": [
        {
          "output_type": "display_data",
          "data": {
            "text/plain": [
              "[1] 0.06719919"
            ],
            "text/latex": "0.0671991873672546",
            "text/markdown": "0.0671991873672546",
            "text/html": [
              "0.0671991873672546"
            ]
          },
          "metadata": {}
        }
      ]
    },
    {
      "cell_type": "markdown",
      "metadata": {
        "id": "SX1Q2AyYwI1J"
      },
      "source": [
        "Los intervalos del 95%"
      ]
    },
    {
      "cell_type": "code",
      "metadata": {
        "colab": {
          "base_uri": "https://localhost:8080/",
          "height": 35
        },
        "id": "6nKc7iSdwI1L",
        "outputId": "c5500cc6-9471-4bb5-c42e-1ef72b8685de"
      },
      "source": [
        "confidence.up"
      ],
      "execution_count": 31,
      "outputs": [
        {
          "output_type": "display_data",
          "data": {
            "text/plain": [
              "[1] 0.1076202"
            ],
            "text/latex": "0.107620189183466",
            "text/markdown": "0.107620189183466",
            "text/html": [
              "0.107620189183466"
            ]
          },
          "metadata": {}
        }
      ]
    },
    {
      "cell_type": "code",
      "metadata": {
        "colab": {
          "base_uri": "https://localhost:8080/",
          "height": 35
        },
        "id": "fHG3A4YSwI1M",
        "outputId": "961de1a9-6ba0-43a5-884e-60605cfae31d"
      },
      "source": [
        "confidence.down"
      ],
      "execution_count": 32,
      "outputs": [
        {
          "output_type": "display_data",
          "data": {
            "text/plain": [
              "[1] 0.02677819"
            ],
            "text/latex": "0.0267781855510433",
            "text/markdown": "0.0267781855510433",
            "text/html": [
              "0.0267781855510433"
            ]
          },
          "metadata": {}
        }
      ]
    },
    {
      "cell_type": "markdown",
      "metadata": {
        "id": "WcU0PSHDywL_"
      },
      "source": [
        "### 6.7.3\n"
      ]
    },
    {
      "cell_type": "markdown",
      "metadata": {
        "id": "DfMLWnQoywML"
      },
      "source": [
        "__A physician would like to know the mean fasting blood glucose value (miligrams per 100ml) of patients seen in a diabetes clinic over the past 10 years.__\n",
        "\n",
        "__Determine the number of records the physician should examine in order to obtain a 90 percent confidence interval for mu if the desired width of the interval is 6 units and a pilot sample yields a variance of 60.__"
      ]
    },
    {
      "cell_type": "code",
      "metadata": {
        "id": "gwOFcrf21e1t"
      },
      "source": [
        "var <- 60 #Varianza medida\n",
        "\n",
        "alpha <- 1-90/100 #Significancia deseada\n",
        "z.value <- qnorm(1-alpha/2, mean = 0, sd = 1) #Valor de z_{1-\\alpha/2}"
      ],
      "execution_count": 33,
      "outputs": []
    },
    {
      "cell_type": "markdown",
      "metadata": {
        "id": "no4q6C8y2JuB"
      },
      "source": [
        "Dado que se nos proporciona un tamaño deseado para el intervalo de confianza, de éste se puede inferir el error estándar que se desea."
      ]
    },
    {
      "cell_type": "code",
      "metadata": {
        "id": "QWZte7GoBOpN"
      },
      "source": [
        "R <- 6 #Tamaño del intervalo de confianza\n",
        "\n",
        "#La definición del intervalo de confianza:\n",
        "# intervalo = estadístico +/- (Z score)*(error estándar)\n",
        "\n",
        "#El tamaño del intervalo de confianza es de:\n",
        "# R = 2*(Z score)*(error estándar).\n",
        "\n",
        "#Al despejar, se obtiene que el error estándar dado el\n",
        "#tamaño del intervalo es de:\n",
        "# error estándar = R / ( 2*(Z score) )\n",
        "\n",
        "standard.error <- R/(2*z.value) #Error estándar deseado"
      ],
      "execution_count": 34,
      "outputs": []
    },
    {
      "cell_type": "code",
      "metadata": {
        "id": "lDg1Ga7v-Jrv"
      },
      "source": [
        "#La d de Cohen\n",
        "d <- z.value * standard.error"
      ],
      "execution_count": 35,
      "outputs": []
    },
    {
      "cell_type": "code",
      "metadata": {
        "colab": {
          "base_uri": "https://localhost:8080/",
          "height": 35
        },
        "id": "toQpc2eA17e7",
        "outputId": "b92d8184-f46a-47dd-ffb9-d1752b735d23"
      },
      "source": [
        "#El tamaño de la muestra\n",
        "n <- (z.value**2)*var/(d**2)\n",
        "n"
      ],
      "execution_count": 36,
      "outputs": [
        {
          "output_type": "display_data",
          "data": {
            "text/plain": [
              "[1] 18.03696"
            ],
            "text/latex": "18.0369563606361",
            "text/markdown": "18.0369563606361",
            "text/html": [
              "18.0369563606361"
            ]
          },
          "metadata": {}
        }
      ]
    },
    {
      "cell_type": "markdown",
      "metadata": {
        "id": "F2YiVYUY5IWy"
      },
      "source": [
        "El tamaño estimado de la muestra es de 18 personas."
      ]
    },
    {
      "cell_type": "markdown",
      "metadata": {
        "id": "BlCG0t7r-64-"
      },
      "source": [
        "### 6.8.3\n"
      ]
    },
    {
      "cell_type": "markdown",
      "metadata": {
        "id": "5C6aNgPi-65A"
      },
      "source": [
        "__A hospital administrator wishes to know what proportion of discharged patients is unhappy with the care received during hospitalization.__\n",
        "\n",
        "__How large a sample should be drawn if we let d=0.05, the confidence coefficient is .95, and no other information is available?__\n",
        "\n",
        "__How large should the sample be if p is approximated by .25?__"
      ]
    },
    {
      "cell_type": "code",
      "metadata": {
        "id": "hu9uohkj-65B"
      },
      "source": [
        "alpha <- 1-95/100 #Significancia deseada\n",
        "z.value <- qnorm(1-alpha/2, mean = 0, sd = 1) #Valor de z_{1-\\alpha/2}\n",
        "\n",
        "d <- 0.05 #La d de Cohen"
      ],
      "execution_count": 37,
      "outputs": []
    },
    {
      "cell_type": "markdown",
      "metadata": {
        "id": "dIbisHSeInGA"
      },
      "source": [
        "No es posible determinar el tamaño de la distribución si no se conoce la varianza de la muestra (o alguna cantidad relacionada a ésta). Sin embargo, para una distribución binomial (de proporciones), el máximo del tamaño mínimo de la muestra se da cuando p=0.5.\n",
        "¿Cuál es ese valor?"
      ]
    },
    {
      "cell_type": "code",
      "metadata": {
        "colab": {
          "base_uri": "https://localhost:8080/",
          "height": 35
        },
        "id": "CDyyWlznUp6y",
        "outputId": "da57e578-a742-4731-bcf2-eaaadc5e8063"
      },
      "source": [
        "#Sea p=0.5\n",
        "p <- 0.5\n",
        "var <- p*(1-p)\n",
        "\n",
        "#El tamaño de la muestra\n",
        "n <- (z.value**2)*var/(d**2)\n",
        "n"
      ],
      "execution_count": 38,
      "outputs": [
        {
          "output_type": "display_data",
          "data": {
            "text/plain": [
              "[1] 384.1459"
            ],
            "text/latex": "384.145882069412",
            "text/markdown": "384.145882069412",
            "text/html": [
              "384.145882069412"
            ]
          },
          "metadata": {}
        }
      ]
    },
    {
      "cell_type": "markdown",
      "metadata": {
        "id": "wDvAYRLnUvkR"
      },
      "source": [
        "En el caso máximo (p=0.5), se requiere de una muestra de 384 personas."
      ]
    },
    {
      "cell_type": "code",
      "metadata": {
        "colab": {
          "base_uri": "https://localhost:8080/",
          "height": 35
        },
        "id": "_CDIOGJg-65C",
        "outputId": "d27f66c9-8591-4b8a-ea2b-8a98ac06326e"
      },
      "source": [
        "#Si se define p\n",
        "p <- 0.25\n",
        "var <- p*(1-p)\n",
        "\n",
        "#El tamaño de la muestra\n",
        "n <- (z.value**2)*var/(d**2)\n",
        "n"
      ],
      "execution_count": 39,
      "outputs": [
        {
          "output_type": "display_data",
          "data": {
            "text/plain": [
              "[1] 288.1094"
            ],
            "text/latex": "288.109411552059",
            "text/markdown": "288.109411552059",
            "text/html": [
              "288.109411552059"
            ]
          },
          "metadata": {}
        }
      ]
    },
    {
      "cell_type": "markdown",
      "metadata": {
        "id": "6aC-pTRd-65D"
      },
      "source": [
        "Si p=0.25, entonces el tamaño estimado de la muestra es de 288 personas."
      ]
    },
    {
      "cell_type": "markdown",
      "metadata": {
        "id": "peQ3nfDkVHQW"
      },
      "source": [
        "### 6.9.7"
      ]
    },
    {
      "cell_type": "markdown",
      "metadata": {
        "id": "V4xXFai5VHQs"
      },
      "source": [
        "__Twenty air samples taken at the same site over a period of 6 months showed the following amounts of suspendes particulate matter (micrograms per cubic meter of air):__\n",
        "\n",
        "68 22 36 32\n",
        "\n",
        "42 24 28 38\n",
        "\n",
        "30 44 28 27\n",
        "\n",
        "28 43 45 50\n",
        "\n",
        "79 74 57 21\n",
        "\n",
        "__Consider these measurements to be a random sample from a population of normally distributed measurements, and construct a 95 percent confidence interval for the population variance.__"
      ]
    },
    {
      "cell_type": "code",
      "metadata": {
        "id": "1atGfVE-WAul"
      },
      "source": [
        "data <- c(68, 22, 36, 32,\n",
        "          42, 24, 28, 38,\n",
        "          30, 44, 28, 27,\n",
        "          28, 43, 45, 50,\n",
        "          79, 74, 57, 21) #Muestra\n",
        "\n",
        "n <- length(data) #Tamaño de la muestra\n",
        "std <- sd(data) #Desviación de la muestra"
      ],
      "execution_count": 40,
      "outputs": []
    },
    {
      "cell_type": "markdown",
      "metadata": {
        "id": "hRLWlEmu2mqf"
      },
      "source": [
        "Como se está estudiando la desviación de la distribución, se usará una prubea chi cuadrada."
      ]
    },
    {
      "cell_type": "code",
      "metadata": {
        "id": "AJu7ahiSVHQu"
      },
      "source": [
        "alpha <- 1-95/100 #Significancia deseada\n",
        "chi.value.down <- qchisq(1-alpha/2, df= n-1) #Valor de \\chi^2_{1-\\alpha/2}\n",
        "chi.value.up <- qchisq(alpha/2, df= n-1) #Valor de \\chi^2_{\\alpha/2}"
      ],
      "execution_count": 41,
      "outputs": []
    },
    {
      "cell_type": "code",
      "metadata": {
        "id": "tK9rfmSOZdwZ"
      },
      "source": [
        "confidence.up <- sqrt( (n-1)/chi.value.up ) * std #Cota superior de la desviación estándar\n",
        "confidence.down <- sqrt( (n-1)/chi.value.down ) * std #Cota inferior de la desviación estándar"
      ],
      "execution_count": 42,
      "outputs": []
    },
    {
      "cell_type": "markdown",
      "metadata": {
        "id": "v0sTSh4zdPPE"
      },
      "source": [
        "Como referencia, la varianza de la muestra"
      ]
    },
    {
      "cell_type": "code",
      "metadata": {
        "colab": {
          "base_uri": "https://localhost:8080/",
          "height": 35
        },
        "id": "ErH2gDShZwl2",
        "outputId": "3376b1c1-2bfc-4fe2-9252-b93de25939b4"
      },
      "source": [
        "std**2"
      ],
      "execution_count": 43,
      "outputs": [
        {
          "output_type": "display_data",
          "data": {
            "text/plain": [
              "[1] 295.6421"
            ],
            "text/latex": "295.642105263158",
            "text/markdown": "295.642105263158",
            "text/html": [
              "295.642105263158"
            ]
          },
          "metadata": {}
        }
      ]
    },
    {
      "cell_type": "markdown",
      "metadata": {
        "id": "xX_uPBnpdSgz"
      },
      "source": [
        "Los intervalos de confianza del 95% la desviación poblacional"
      ]
    },
    {
      "cell_type": "code",
      "metadata": {
        "colab": {
          "base_uri": "https://localhost:8080/",
          "height": 35
        },
        "id": "vqadO2_AVHQy",
        "outputId": "877d2981-5407-4c67-c695-64fd1ab498de"
      },
      "source": [
        "confidence.up**2 #Cota superior"
      ],
      "execution_count": 44,
      "outputs": [
        {
          "output_type": "display_data",
          "data": {
            "text/plain": [
              "[1] 630.6843"
            ],
            "text/latex": "630.684287326016",
            "text/markdown": "630.684287326016",
            "text/html": [
              "630.684287326016"
            ]
          },
          "metadata": {}
        }
      ]
    },
    {
      "cell_type": "code",
      "metadata": {
        "colab": {
          "base_uri": "https://localhost:8080/",
          "height": 35
        },
        "id": "SZZzSPBTZraS",
        "outputId": "5f6ab109-2426-49a0-ec09-04568d929395"
      },
      "source": [
        "confidence.down**2 #Cota inferior"
      ],
      "execution_count": 45,
      "outputs": [
        {
          "output_type": "display_data",
          "data": {
            "text/plain": [
              "[1] 170.9833"
            ],
            "text/latex": "170.983322540346",
            "text/markdown": "170.983322540346",
            "text/html": [
              "170.983322540346"
            ]
          },
          "metadata": {}
        }
      ]
    },
    {
      "cell_type": "markdown",
      "metadata": {
        "id": "6zzg8W7DflCu"
      },
      "source": [
        "### 6.10.7"
      ]
    },
    {
      "cell_type": "markdown",
      "metadata": {
        "id": "-QqBomCQflDK"
      },
      "source": [
        "__Measurements of gastric secretion of hydrochloric acid (milliequivalents per hour) in 16 normal subjects and 10 subjects with duodenal ulcer yielded the following results:__\n",
        "\n",
        "Normal subjects: 6.3, 2.0, 2.3, 0.5, 1.9, 3.2, 4.1, 4.0, 6.2, 6.1, 3.5, 1.3, 1.7, 4.5, 6.3, 6.2\n",
        "\n",
        "Ulcer subjects: 13.7, 20.6, 15.9, 28.4, 29.4, 18.4, 21.1, 3.0, 26.2, 13.0\n",
        "\n",
        "__Construct a 95 percent confidence interval for the ratio of the two population variances.__\n",
        "\n",
        "__What assumptions must be met for this procedure to be valid?__"
      ]
    },
    {
      "cell_type": "code",
      "metadata": {
        "id": "hYhXsQ0_flDL"
      },
      "source": [
        "#Los datos de las dos muestras\n",
        "data.1 <- c(13.7, 20.6, 15.9, 28.4, 29.4,\n",
        "            18.4, 21.1, 3.0, 26.2, 13.0) #Pacientes ulcerados\n",
        "\n",
        "data.2 <- c(6.3, 2.0, 2.3, 0.5, 1.9, 3.2, 4.1, 4.0,\n",
        "            6.2, 6.1, 3.5, 1.3, 1.7, 4.5, 6.3, 6.2) #Grupo de control\n",
        "            \n",
        "\n",
        "#El tamaño de cada muestra\n",
        "n.1 <- length(data.1)\n",
        "n.2 <- length(data.2)\n",
        "\n",
        "#Las desviaiones estándar\n",
        "std.1 <- sd(data.1)\n",
        "std.2 <- sd(data.2)\n",
        "\n",
        "#La proproción de las varianzas\n",
        "var.proportion <- (std.1/std.2)**2"
      ],
      "execution_count": 46,
      "outputs": []
    },
    {
      "cell_type": "markdown",
      "metadata": {
        "id": "mNyPLdv-2yDy"
      },
      "source": [
        "Como se estudia la proporción de las desviaciones de dos distribuciones, se usará una distribución F"
      ]
    },
    {
      "cell_type": "code",
      "metadata": {
        "id": "lQuLrEk9flDM"
      },
      "source": [
        "alpha <- 1-95/100 #Significancia deseada\n",
        "\n",
        "f.value.down <- qf(1-alpha/2, df1= n.1-1, df = n.2-1) #Valor de F_{1-\\alpha/2}\n",
        "f.value.up <- qf(alpha/2, df1= n.1-1, df = n.2-1) #Valor de F_{\\alpha/2}"
      ],
      "execution_count": 47,
      "outputs": []
    },
    {
      "cell_type": "code",
      "metadata": {
        "id": "SnQZ6EvWflDM"
      },
      "source": [
        "confidence.up <- var.proportion/f.value.up #Intervalo superior\n",
        "confidence.down <- var.proportion/f.value.down #Intervalo inferior"
      ],
      "execution_count": 48,
      "outputs": []
    },
    {
      "cell_type": "markdown",
      "metadata": {
        "id": "V9a6V8z-flDN"
      },
      "source": [
        "Como referencia, la porporción de las varianzas de las muestras (la de los pacientes con úlceras entre la del grupo de control)"
      ]
    },
    {
      "cell_type": "code",
      "metadata": {
        "colab": {
          "base_uri": "https://localhost:8080/",
          "height": 35
        },
        "id": "D1EDnd--flDN",
        "outputId": "3db296f4-72d2-4c69-8339-5a38e5dd1f32"
      },
      "source": [
        "var.proportion"
      ],
      "execution_count": 49,
      "outputs": [
        {
          "output_type": "display_data",
          "data": {
            "text/plain": [
              "[1] 15.99418"
            ],
            "text/latex": "15.9941802682405",
            "text/markdown": "15.9941802682405",
            "text/html": [
              "15.9941802682405"
            ]
          },
          "metadata": {}
        }
      ]
    },
    {
      "cell_type": "markdown",
      "metadata": {
        "id": "tXAAtJ4PflDP"
      },
      "source": [
        "Los intervalos de confianza del 95% la proporción de las varianzas"
      ]
    },
    {
      "cell_type": "code",
      "metadata": {
        "colab": {
          "base_uri": "https://localhost:8080/",
          "height": 35
        },
        "id": "qlef4v8NflDQ",
        "outputId": "087015b4-0786-4723-c432-2f1f136021ee"
      },
      "source": [
        "confidence.up #Cota superior"
      ],
      "execution_count": 50,
      "outputs": [
        {
          "output_type": "display_data",
          "data": {
            "text/plain": [
              "[1] 60.28778"
            ],
            "text/latex": "60.2877798204776",
            "text/markdown": "60.2877798204776",
            "text/html": [
              "60.2877798204776"
            ]
          },
          "metadata": {}
        }
      ]
    },
    {
      "cell_type": "code",
      "metadata": {
        "colab": {
          "base_uri": "https://localhost:8080/",
          "height": 35
        },
        "id": "_9PZHuHPflDQ",
        "outputId": "12501a9c-48cd-408a-8187-84cf98ca202b"
      },
      "source": [
        "confidence.down #Cota inferior"
      ],
      "execution_count": 51,
      "outputs": [
        {
          "output_type": "display_data",
          "data": {
            "text/plain": [
              "[1] 5.121888"
            ],
            "text/latex": "5.12188817607394",
            "text/markdown": "5.12188817607394",
            "text/html": [
              "5.12188817607394"
            ]
          },
          "metadata": {}
        }
      ]
    },
    {
      "cell_type": "markdown",
      "metadata": {
        "id": "9xGrjeAzr4zA"
      },
      "source": [
        "## Review Questions and Exercises"
      ]
    },
    {
      "cell_type": "markdown",
      "metadata": {
        "id": "QUf6QRwdsK8b"
      },
      "source": [
        "### 1. What is statistical inference?"
      ]
    },
    {
      "cell_type": "markdown",
      "metadata": {
        "id": "OLNMU0s5djUH"
      },
      "source": [
        "Es el proceso de deducir las características de una población a partir del estudio de una muestra (que es un subconjunto de tal población)."
      ]
    },
    {
      "cell_type": "markdown",
      "metadata": {
        "id": "b316R50osPGT"
      },
      "source": [
        "### 2. Why is estimation an important type of inference?"
      ]
    },
    {
      "cell_type": "markdown",
      "metadata": {
        "id": "xcQjWFNigtha"
      },
      "source": [
        "Porque es un método que permite obtener información relevante sobre una población sin tener que estudiar la totalidad de la misma (proceso que puede ser incluso imposible en el mundo real)."
      ]
    },
    {
      "cell_type": "markdown",
      "metadata": {
        "id": "llY3xhKsureR"
      },
      "source": [
        "### 3. What is a point estimate?"
      ]
    },
    {
      "cell_type": "markdown",
      "metadata": {
        "id": "Jj0qOMLPjMdL"
      },
      "source": [
        "Es un valor que se obtiene de la muestra y que se usa para estimar un parámetro de la población."
      ]
    },
    {
      "cell_type": "markdown",
      "metadata": {
        "id": "NeGjxQnZutOc"
      },
      "source": [
        "### 4. Explain the meaning of unbiasedness"
      ]
    },
    {
      "cell_type": "markdown",
      "metadata": {
        "id": "HTvZKMFLjhkp"
      },
      "source": [
        "Un valor estimador __no está sesgado__ cuando, luego de medir _muchas veces_ el mismo, se obtiene que el promedio de los estimadores es _similar_ al parámetro real de la población que se pretendía estimar."
      ]
    },
    {
      "cell_type": "markdown",
      "metadata": {
        "id": "UsGojHyvwXO-"
      },
      "source": [
        "### 5. Define the following:\n",
        "(a) Reliability coefficient (b) Confidence coefficient (c) Precision\n",
        "\n",
        "(d) Standard error (e) Estimator (f) Margin of error"
      ]
    },
    {
      "cell_type": "markdown",
      "metadata": {
        "id": "aIeton9Sk1PA"
      },
      "source": [
        "__Reliability coefficient (Coeficiente de confiabilidad)__:\n",
        "\n",
        "Es el valor de la distribución estandarizada (ya sea la z -o normal estandarizada-, la t, la chi cuadrada, la F, etc) que se asocia al coeficiente de confianza que se desea.\n"
      ]
    },
    {
      "cell_type": "markdown",
      "metadata": {
        "id": "xFx75hUpntvX"
      },
      "source": [
        "__Confidence coefficient (Coeficiente de confianza)__:\n",
        "\n",
        "En el sentido práctico, es el valor entre 1 y 0 que determina cuánta certeza hay de que el parámetro real que se está estimando se encuentre dentro del intervalo de confianza. El intervalo se define como:\n",
        "\n",
        " _estimador_ +/- ( _coeficiente de confiabilidad_ )x( _error estándar_ )"
      ]
    },
    {
      "cell_type": "markdown",
      "metadata": {
        "id": "tUy_muC1nujD"
      },
      "source": [
        "__Precision (Precisión)__:\n",
        "\n",
        "Es la distancia del estimador hacia uno de los extremos del intervalo de confianza:\n",
        "\n",
        "_precisión_ = ( _coeficiente de confiabilidad_ )x( _error estándar de la media_ )"
      ]
    },
    {
      "cell_type": "markdown",
      "metadata": {
        "id": "SVsmObwYn1gD"
      },
      "source": [
        "__Standard error (Error estándar)__:\n",
        "\n",
        "Es la desviación estándar de un estimador. Es decir, es una medida de la dispersión de la muestra en torno a ese estadístico."
      ]
    },
    {
      "cell_type": "markdown",
      "metadata": {
        "id": "UYMkbswrpWgq"
      },
      "source": [
        "__Estimator (Estimador)__:\n",
        "\n",
        "Es una regla que indica cómo estimar un parámetro. Puede haber diversos estimadores para calcular un mismo parámetro.\n"
      ]
    },
    {
      "cell_type": "markdown",
      "metadata": {
        "id": "wdTIZv6tpX5X"
      },
      "source": [
        "__Margin of error (Margen de error)__:\n",
        "\n",
        "Es un sinónimo de la __precisión__."
      ]
    },
    {
      "cell_type": "markdown",
      "metadata": {
        "id": "B5HPw88gwb6D"
      },
      "source": [
        "### 6. Give the general formula for a confidence interval"
      ]
    },
    {
      "cell_type": "markdown",
      "metadata": {
        "id": "nhjnMmsj91oB"
      },
      "source": [
        "estimador +/- ( coeficiente de confiabilidad )x( error estándar )"
      ]
    },
    {
      "cell_type": "markdown",
      "metadata": {
        "id": "3HhIESpywi8k"
      },
      "source": [
        "### 7. State the probabilistic and practical interpretations of a confidence interval."
      ]
    },
    {
      "cell_type": "markdown",
      "metadata": {
        "id": "PYAYXFWyGGiI"
      },
      "source": [
        "__Probabilística__:\n",
        "\n",
        "Luego de múltiples muestreos, la proporción del número de muestras correspondiente (usualmente el 95% y, en general, el porcentaje que se desee) va a tener intervalos de confianza que contengan el parámetro real."
      ]
    },
    {
      "cell_type": "markdown",
      "metadata": {
        "id": "d3WeIibbGJtw"
      },
      "source": [
        "__Práctica__:\n",
        "\n",
        "La proporción que se escoja (usualmente el 95% y, en general, el porcentaje que se desee) indica la probabilidad de que el intervalo de confianza de la muestra de estudio contenga el parámetro real."
      ]
    },
    {
      "cell_type": "markdown",
      "metadata": {
        "id": "GVGIy_qfwkZ5"
      },
      "source": [
        "### 8. Of what use is the central limit theorem in estimation?"
      ]
    },
    {
      "cell_type": "markdown",
      "metadata": {
        "id": "xslmga_XHy4B"
      },
      "source": [
        "El Teorema del Límite Central indica que, dadas n variables aleatorias con distribuciones de probabilidad con varianzas no nulas y finitas y medias conocidas, entonces la suma de variables tiende a una distribución normal.\n",
        "\n",
        "Este teorema es útil porque permite hacer estimaciones sobre los parámetros de la población (con un valor promedio y un error estándar) con sólo hacer diferentes muestreos."
      ]
    },
    {
      "cell_type": "markdown",
      "metadata": {
        "id": "D4xPWUnQwoHJ"
      },
      "source": [
        "### 9. Describe the t distribution."
      ]
    },
    {
      "cell_type": "markdown",
      "metadata": {
        "id": "kKhWwv7s0uEa"
      },
      "source": [
        "Es una distribución simétrica con media 0. Tiene forma de campana y tiene como dominio los números reales. Depende de un parámetro conocido como __grados de libertad__ (que es igual al tamaño de la muestra de estudio menos uno). Tiende a una distribución normal para muestras _grandes_."
      ]
    },
    {
      "cell_type": "markdown",
      "metadata": {
        "id": "6WvGedbLwqxt"
      },
      "source": [
        "### 10. What are the assumptions underlying the use of the t distribution in estimating a single population mean?"
      ]
    },
    {
      "cell_type": "markdown",
      "metadata": {
        "id": "ijEo3efj1gnl"
      },
      "source": [
        "Lo primero a considerar es el tamaño de la muestra (la distribución t se usa cuando la muestra tiene menos de 30 elementos).\n",
        "\n",
        "Se tiene que hacer la suposición de que se conoce la varianza de la población. También se debe hacer lasuposición de que la población sigue una distribución normal."
      ]
    },
    {
      "cell_type": "markdown",
      "metadata": {
        "id": "-j8dbbmIwwqo"
      },
      "source": [
        "### 11. What is the finite population correction? When can it be ignored?"
      ]
    },
    {
      "cell_type": "markdown",
      "metadata": {
        "id": "qL6lmU7e2MxV"
      },
      "source": [
        "El cálculo del tamaño de población más elemental parte de suponer que se tienen poblaciones _grandes_ (o infinitas, en el sentido práctico). En éstas, se supone que los muestreos sin reemplazo no suponen un traslape de datos en distintas muestras. Es decir, es un método que funciona cuando se tiene _certeza_ de que un mismo elemento no va a aparecer en dos muestras diferentes. Esta fórmula no depende del tamaño de la población (pues éste no tiene efecto al ser infinito).\n",
        "\n",
        "Cuando no se puede asegurar lo último, es decir, cuando la muestra es _suficientemente pequeña_ (o finita), se utiliza una corrección para el cálculo de la muestra. Esa corrección depende del tamaño de la población."
      ]
    },
    {
      "cell_type": "markdown",
      "metadata": {
        "id": "5Z3hvEajwx8w"
      },
      "source": [
        "### 12. What are the assumptions underlying the use of the t distribution in estimating the difference between two population means?"
      ]
    },
    {
      "cell_type": "markdown",
      "metadata": {
        "id": "HRhZrVL92NRk"
      },
      "source": [
        "Se supone que ambas muestras de estudio vienen de poblaciones normalmente distribuidas. Asimismo, se puede suponer que las varianzas de ambas muestras son iguales o distintas: lo importante es que sean conocidas."
      ]
    }
  ]
}