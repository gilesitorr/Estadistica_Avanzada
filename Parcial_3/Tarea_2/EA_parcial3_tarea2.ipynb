{
  "nbformat": 4,
  "nbformat_minor": 0,
  "metadata": {
    "colab": {
      "name": "EA_parcial3_tarea2.ipynb",
      "provenance": [],
      "collapsed_sections": [
        "apc8tASFinRQ",
        "WcU0PSHDywL_",
        "BlCG0t7r-64-"
      ],
      "include_colab_link": true
    },
    "kernelspec": {
      "name": "ir",
      "display_name": "R"
    },
    "language_info": {
      "name": "R"
    }
  },
  "cells": [
    {
      "cell_type": "markdown",
      "metadata": {
        "id": "view-in-github",
        "colab_type": "text"
      },
      "source": [
        "<a href=\"https://colab.research.google.com/github/gilesitorr/Estadistica_Avanzada/blob/main/Parcial_3/Tarea_2/EA_parcial3_tarea2.ipynb\" target=\"_parent\"><img src=\"https://colab.research.google.com/assets/colab-badge.svg\" alt=\"Open In Colab\"/></a>"
      ]
    },
    {
      "cell_type": "markdown",
      "metadata": {
        "id": "pW1HRSR2Gr3s"
      },
      "source": [
        "# __Estadística Avanzada__\n",
        "# Parcial 3 - Tarea 2\n",
        "## _Gil Estéfano Rodríguez Rivera_"
      ]
    },
    {
      "cell_type": "markdown",
      "metadata": {
        "id": "BnmoSaZN_6YD"
      },
      "source": [
        "Todas las bases de datos utilizadas así como el desarrollo se encuentra en _GitHub_ en https://github.com/gilesitorr/Estadistica_Avanzada/tree/main/Parcial_3/Tarea_2\n",
        "\n",
        "__Nota:__ En este Notebook se usó el kernel de R, aunque la extensión sea ipynb."
      ]
    },
    {
      "cell_type": "code",
      "metadata": {
        "colab": {
          "base_uri": "https://localhost:8080/"
        },
        "id": "lFB20TwB2jAB",
        "outputId": "4516522f-84b5-4159-a161-78793d4ea47a"
      },
      "source": [
        "install.packages(\"agricolae\")"
      ],
      "execution_count": null,
      "outputs": [
        {
          "output_type": "stream",
          "name": "stderr",
          "text": [
            "Installing package into ‘/usr/local/lib/R/site-library’\n",
            "(as ‘lib’ is unspecified)\n",
            "\n",
            "also installing the dependencies ‘sass’, ‘R.methodsS3’, ‘R.oo’, ‘R.utils’, ‘httpuv’, ‘xtable’, ‘fontawesome’, ‘sourcetools’, ‘promises’, ‘bslib’, ‘R.cache’, ‘e1071’, ‘shiny’, ‘miniUI’, ‘styler’, ‘classInt’, ‘labelled’, ‘combinat’, ‘questionr’, ‘klaR’, ‘AlgDesign’\n",
            "\n",
            "\n"
          ]
        }
      ]
    },
    {
      "cell_type": "code",
      "metadata": {
        "id": "G-t3LbBtXXRE"
      },
      "source": [
        "# Antes de comenzar, se importan las librerías a usar\n",
        "library(dplyr)\n",
        "library(agricolae)"
      ],
      "execution_count": null,
      "outputs": []
    },
    {
      "cell_type": "markdown",
      "metadata": {
        "id": "Ij_LKwbbinRP"
      },
      "source": [
        "## Biostatistics: A Foundation for Analysis in the Health Sciences\n",
        "### Wayne W. Daniel & Chad L. Cross"
      ]
    },
    {
      "cell_type": "markdown",
      "metadata": {
        "id": "BlCG0t7r-64-"
      },
      "source": [
        "### Ejemplo 13.3.3\n"
      ]
    },
    {
      "cell_type": "markdown",
      "metadata": {
        "id": "5C6aNgPi-65A"
      },
      "source": [
        "__A sample of 15 patients suffering from asthma participated in an experiment to study the effect of a\n",
        "new treatment on pulmonary function. Among the various measurements recorded were those of\n",
        "forced expiratory volume (liters) in 1 second (FEV1) before and after application of the treatment.\n",
        "The results were as follows:__\n",
        "\n",
        "__On the basis of these data, can one conclude that the treatment is effective in increasing the FEV1\n",
        "level? Let $\\alpha=0.05$ and find the p value__"
      ]
    },
    {
      "cell_type": "code",
      "metadata": {
        "id": "sIE0p-9q3Dl_"
      },
      "source": [
        "# Se leen los datos de cada sujeto\n",
        "before <- c(1.69, 2.77, 1.00, 1.66, 3.00, 0.85, 1.42, 2.82,\n",
        "            2.58, 1.84, 1.89, 1.91, 1.75, 2.46, 2.35) # Antes del tratamiento\n",
        "\n",
        "after <- c(1.69, 2.22, 3.07, 3.35, 3.00, 2.74, 3.61, 5.14,\n",
        "           2.44, 4.17, 2.42, 2.94, 3.04, 4.62, 4.42) # Luego del tratamiento\n",
        "\n",
        "# Se calcula la diferencia\n",
        "diferencia <- after-before"
      ],
      "execution_count": 15,
      "outputs": []
    },
    {
      "cell_type": "code",
      "metadata": {
        "colab": {
          "base_uri": "https://localhost:8080/",
          "height": 208
        },
        "id": "eJ4i9r7g5KOE",
        "outputId": "d9a848d2-90c2-404d-a10e-ba2b6fb39d44"
      },
      "source": [
        "# Se cuentan los números positivos\n",
        "no.cero <- length(diferencia[diferencia!=0])\n",
        "negativos <- length(diferencia[diferencia<0])\n",
        "\n",
        "# Se hace la prueba binomial para la cantidad de diferencias de signo positivo\n",
        "binom.test(negativos, no.cero, alternative=\"l\")"
      ],
      "execution_count": 42,
      "outputs": [
        {
          "output_type": "display_data",
          "data": {
            "text/plain": [
              "\n",
              "\tExact binomial test\n",
              "\n",
              "data:  negativos and no.cero\n",
              "number of successes = 2, number of trials = 13, p-value = 0.01123\n",
              "alternative hypothesis: true probability of success is less than 0.5\n",
              "95 percent confidence interval:\n",
              " 0.0000000 0.4100986\n",
              "sample estimates:\n",
              "probability of success \n",
              "             0.1538462 \n"
            ]
          },
          "metadata": {}
        }
      ]
    },
    {
      "cell_type": "markdown",
      "metadata": {
        "id": "Np-0Hw0VAYYZ"
      },
      "source": [
        "De acuerdo con la prueba del signo para 13 diferencias diferentes de 0 contra 2 valores menores a cero, se concluye que hay evidencia estadísticamente significativa ($\\alpha=0.05$) para afirmar que el tratamiento si implica un aumento del nivel de FEV1 luego del tratamiento ($p=0.0112$). "
      ]
    },
    {
      "cell_type": "markdown",
      "metadata": {
        "id": "wn9lzsRKlNNw"
      },
      "source": [
        "### Ejemplo 13.4.3\n"
      ]
    },
    {
      "cell_type": "markdown",
      "metadata": {
        "id": "696CA6WIlNNw"
      },
      "source": [
        "__In a study by Zuckerman and Heneghan (A-3), hemodynamic stresses were measured on subjects\n",
        "undergoing laparoscopic cholecystectomy. An outcome variable of interest was the ventricular end\n",
        "diastolic volume (LVEDV) measured in milliliters. A portion of the data appear in the following table.\n",
        "Baseline refers to a measurement taken 5 minutes after induction of anesthesia, and the term “5\n",
        "minutes” refers to a measurement taken 5 minutes after baseline.__\n",
        "\n",
        "__May we conclude, on the basis of these data, that among subjects undergoing laparoscopic\n",
        "cholecystectomy, the average LVEDV levels change? Let $\\alpha=0.01$.__"
      ]
    },
    {
      "cell_type": "code",
      "metadata": {
        "id": "2_FgtvHWlNNx"
      },
      "source": [
        "# Se define el url donde está guardado el archivo csv a usar\n",
        "url = \"https://github.com/gilesitorr/Estadistica_Avanzada/raw/main/Parcial_3/Tarea_2/EXR_C13_S04_03.csv\"\n",
        "\n",
        "# Se lee el archivo csv desde el url que se definió\n",
        "df <- read.csv(url, header=TRUE)"
      ],
      "execution_count": null,
      "outputs": []
    },
    {
      "cell_type": "code",
      "metadata": {
        "colab": {
          "base_uri": "https://localhost:8080/",
          "height": 411
        },
        "id": "oUazZvBMlNNy",
        "outputId": "b0ab9413-5fd7-4829-e227-e2256242dc51"
      },
      "source": [
        "# La base de datos correcta\n",
        "df"
      ],
      "execution_count": null,
      "outputs": [
        {
          "output_type": "display_data",
          "data": {
            "text/plain": [
              "   Subject Baseline X5_Minutes\n",
              "1   1      51.7      49.3     \n",
              "2   2      79.0      72.0     \n",
              "3   3      78.7      87.3     \n",
              "4   4      80.3      88.3     \n",
              "5   5      72.0     103.3     \n",
              "6   6      85.0      94.0     \n",
              "7   7      69.7      94.7     \n",
              "8   8      71.3      46.3     \n",
              "9   9      55.7      71.7     \n",
              "10 10      56.3      72.3     "
            ],
            "text/latex": "A data.frame: 10 × 3\n\\begin{tabular}{lll}\n Subject & Baseline & X5\\_Minutes\\\\\n <int> & <dbl> & <dbl>\\\\\n\\hline\n\t  1 & 51.7 &  49.3\\\\\n\t  2 & 79.0 &  72.0\\\\\n\t  3 & 78.7 &  87.3\\\\\n\t  4 & 80.3 &  88.3\\\\\n\t  5 & 72.0 & 103.3\\\\\n\t  6 & 85.0 &  94.0\\\\\n\t  7 & 69.7 &  94.7\\\\\n\t  8 & 71.3 &  46.3\\\\\n\t  9 & 55.7 &  71.7\\\\\n\t 10 & 56.3 &  72.3\\\\\n\\end{tabular}\n",
            "text/markdown": "\nA data.frame: 10 × 3\n\n| Subject &lt;int&gt; | Baseline &lt;dbl&gt; | X5_Minutes &lt;dbl&gt; |\n|---|---|---|\n|  1 | 51.7 |  49.3 |\n|  2 | 79.0 |  72.0 |\n|  3 | 78.7 |  87.3 |\n|  4 | 80.3 |  88.3 |\n|  5 | 72.0 | 103.3 |\n|  6 | 85.0 |  94.0 |\n|  7 | 69.7 |  94.7 |\n|  8 | 71.3 |  46.3 |\n|  9 | 55.7 |  71.7 |\n| 10 | 56.3 |  72.3 |\n\n",
            "text/html": [
              "<table class=\"dataframe\">\n",
              "<caption>A data.frame: 10 × 3</caption>\n",
              "<thead>\n",
              "\t<tr><th scope=col>Subject</th><th scope=col>Baseline</th><th scope=col>X5_Minutes</th></tr>\n",
              "\t<tr><th scope=col>&lt;int&gt;</th><th scope=col>&lt;dbl&gt;</th><th scope=col>&lt;dbl&gt;</th></tr>\n",
              "</thead>\n",
              "<tbody>\n",
              "\t<tr><td> 1</td><td>51.7</td><td> 49.3</td></tr>\n",
              "\t<tr><td> 2</td><td>79.0</td><td> 72.0</td></tr>\n",
              "\t<tr><td> 3</td><td>78.7</td><td> 87.3</td></tr>\n",
              "\t<tr><td> 4</td><td>80.3</td><td> 88.3</td></tr>\n",
              "\t<tr><td> 5</td><td>72.0</td><td>103.3</td></tr>\n",
              "\t<tr><td> 6</td><td>85.0</td><td> 94.0</td></tr>\n",
              "\t<tr><td> 7</td><td>69.7</td><td> 94.7</td></tr>\n",
              "\t<tr><td> 8</td><td>71.3</td><td> 46.3</td></tr>\n",
              "\t<tr><td> 9</td><td>55.7</td><td> 71.7</td></tr>\n",
              "\t<tr><td>10</td><td>56.3</td><td> 72.3</td></tr>\n",
              "</tbody>\n",
              "</table>\n"
            ]
          },
          "metadata": {}
        }
      ]
    },
    {
      "cell_type": "code",
      "metadata": {
        "colab": {
          "base_uri": "https://localhost:8080/",
          "height": 156
        },
        "id": "9D-4mTy7lONO",
        "outputId": "7be46240-6e3f-450c-ff6f-12be4f59fa24"
      },
      "source": [
        "# Se realiza una prueba de Wilcozon pareada porque cada sujeto\n",
        "# de la muestra tuvo una medición base y otra luego de 5 minutos\n",
        "wilcox.test(x=df$Baseline, y=df$X5_Minutes, paired=TRUE)"
      ],
      "execution_count": null,
      "outputs": [
        {
          "output_type": "stream",
          "name": "stderr",
          "text": [
            "Warning message in wilcox.test.default(x = df$Baseline, y = df$X5_Minutes, paired = TRUE):\n",
            "“cannot compute exact p-value with ties”\n"
          ]
        },
        {
          "output_type": "display_data",
          "data": {
            "text/plain": [
              "\n",
              "\tWilcoxon signed rank test with continuity correction\n",
              "\n",
              "data:  df$Baseline and df$X5_Minutes\n",
              "V = 11.5, p-value = 0.1137\n",
              "alternative hypothesis: true location shift is not equal to 0\n"
            ]
          },
          "metadata": {}
        }
      ]
    },
    {
      "cell_type": "markdown",
      "metadata": {
        "id": "5yqbfeOM_jxd"
      },
      "source": [
        "Con base a la prueba de Wilcoxon, a una significancia de $\\alpha=0.01$, se infiere que no hay suficiente evidencia para afirmar que se produce un cambio estadísticamente significativo en los niveles promedio de LVEDV en los cinco minutos entre mediciones ($p=0.1137$)."
      ]
    },
    {
      "cell_type": "markdown",
      "metadata": {
        "id": "qFH3yV2ElOco"
      },
      "source": [
        "### Ejemplo 13.5.1\n"
      ]
    },
    {
      "cell_type": "markdown",
      "metadata": {
        "id": "sP6yOEWalOco"
      },
      "source": [
        "__Fifteen patient records from each of two hospitals were reviewed and assigned a score designed to\n",
        "measure level of care. The scores were as follows:__\n",
        "\n",
        "Hospital A: 99, 85, 73, 98, 83, 88, 99, 80, 74, 91, 80, 94, 94, 98, 80\n",
        "\n",
        "Hospital B: 78, 74, 69, 79, 57, 78, 79, 68, 59, 91, 89, 55, 60, 55, 79\n",
        "\n",
        "__Would you conclude, at the .05 level of significance, that the two population medians are different?\n",
        "Determine the p value.__"
      ]
    },
    {
      "cell_type": "code",
      "metadata": {
        "id": "2_RucPWklOcp"
      },
      "source": [
        "# Se definen las medidas de ambas muestras\n",
        "a <- c(99, 85, 73, 98, 83, 88, 99, 80, 74, 91, 80, 94, 94, 98, 80) # Hospital A\n",
        "b <- c(78, 74, 69, 79, 57, 78, 79, 68, 59, 91, 89, 55, 60, 55, 79) # Hospital B\n",
        "\n",
        "# Se separa por hospital y se genera un solo dataframe\n",
        "df <- data.frame(x=c(a,b), y=c(rep(\"A\", length(a)), rep(\"B\", length(a))))\n"
      ],
      "execution_count": null,
      "outputs": []
    },
    {
      "cell_type": "code",
      "metadata": {
        "colab": {
          "base_uri": "https://localhost:8080/"
        },
        "id": "0NYy2dJPlPKS",
        "outputId": "9994d837-72f5-405d-d363-253145598520"
      },
      "source": [
        "# Se realiza la prueba de la mediana para ambos hospitales\n",
        "Median.test(df$x,df$y)"
      ],
      "execution_count": null,
      "outputs": [
        {
          "output_type": "stream",
          "name": "stdout",
          "text": [
            "\n",
            "The Median Test for df$x ~ df$y \n",
            "\n",
            "Chi Square = 16.13333   DF = 1   P.Value 5.903578e-05\n",
            "Median = 79.5 \n",
            "\n",
            "  Median  r Min Max  Q25 Q75\n",
            "A     88 15  73  99 80.0  96\n",
            "B     74 15  55  91 59.5  79\n",
            "\n",
            "Post Hoc Analysis\n",
            "\n",
            "Groups according to probability of treatment differences and alpha level.\n",
            "\n",
            "Treatments with the same letter are not significantly different.\n",
            "\n",
            "  df$x groups\n",
            "A   88      a\n",
            "B   74      b\n"
          ]
        }
      ]
    },
    {
      "cell_type": "markdown",
      "metadata": {
        "id": "Vc7rqsrg4lWX"
      },
      "source": [
        "De acuerdo a la prueba de la mediana, a una significancia de $0.05$, se concluye que hay suficiente evidencia para afirmar que la diferencia entre las medianas de las puntuaciones de ambos hospitales es estadíticamente significativa ($X^2=16.13$, $p\\sim6\\times10^{-5}$)."
      ]
    },
    {
      "cell_type": "markdown",
      "metadata": {
        "id": "NHIoVG1HlPW6"
      },
      "source": [
        "### Ejemplo 13.5.2\n"
      ]
    },
    {
      "cell_type": "markdown",
      "metadata": {
        "id": "wVVpM5xXlPW6"
      },
      "source": [
        "__The following serum albumin values were obtained from 17 normal and 13 hospitalized subjects:__\n",
        "\n",
        "__Would you conclude at the .05 level of significance that the medians of the two populations sampled\n",
        "are different? Determine the p value.__"
      ]
    },
    {
      "cell_type": "code",
      "metadata": {
        "id": "2g2DlJ-tn80B"
      },
      "source": [
        "# Se definen las medidas de ambas muestras\n",
        "normal <- c(2.4, 3.0, 3.4, 4.0, 3.5, 3.2, 4.5, 3.5, 3.1,\n",
        "            3.5, 5.0, 3.6, 4.0, 3.8, 2.9, 4.2, 3.9)\n",
        "\n",
        "hospital <- c(1.5, 3.1, 3.8, 1.5, 2.0, 1.3, 3.5,\n",
        "              3.4, 1.5, 1.7, 1.8, 2.0, 2.0)\n",
        "\n",
        "# Se separa por grupo y se genera un solo dataframe\n",
        "df <- data.frame(x=c(normal,hospital),\n",
        "                 y=c(rep(\"N\", length(normal)), rep(\"H\", length(hospital))))"
      ],
      "execution_count": null,
      "outputs": []
    },
    {
      "cell_type": "code",
      "metadata": {
        "colab": {
          "base_uri": "https://localhost:8080/"
        },
        "id": "F1I1RcSNlPW7",
        "outputId": "27172a48-1868-4a68-9d4f-19a941918ab4"
      },
      "source": [
        "# Se realiza la prueba de la mediana para ambos grupos\n",
        "Median.test(df$x,df$y)"
      ],
      "execution_count": null,
      "outputs": [
        {
          "output_type": "stream",
          "name": "stdout",
          "text": [
            "\n",
            "The Median Test for df$x ~ df$y \n",
            "\n",
            "Chi Square = 6.651584   DF = 1   P.Value 0.009906773\n",
            "Median = 3.3 \n",
            "\n",
            "  Median  r Min Max Q25 Q75\n",
            "H    2.0 13 1.3 3.8 1.5 3.1\n",
            "N    3.5 17 2.4 5.0 3.2 4.0\n",
            "\n",
            "Post Hoc Analysis\n",
            "\n",
            "Groups according to probability of treatment differences and alpha level.\n",
            "\n",
            "Treatments with the same letter are not significantly different.\n",
            "\n",
            "  df$x groups\n",
            "N  3.5      a\n",
            "H  2.0      b\n"
          ]
        }
      ]
    },
    {
      "cell_type": "markdown",
      "metadata": {
        "id": "yWeK5C4656lB"
      },
      "source": [
        "De acuerdo a la prueba de la mediana, a una significancia de $0.05$, se concluye que hay suficiente evidencia para afirmar que la diferencia entre las medianas de los niveles de albúmina de cada grupo de pacientes es estadíticamente significativa ($X^2=6.65$, $p=0.0099$)."
      ]
    }
  ]
}