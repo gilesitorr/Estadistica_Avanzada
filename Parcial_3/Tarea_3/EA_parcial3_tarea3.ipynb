{
  "nbformat": 4,
  "nbformat_minor": 0,
  "metadata": {
    "colab": {
      "name": "EA_parcial3_tarea3.ipynb",
      "provenance": [],
      "collapsed_sections": [
        "apc8tASFinRQ",
        "WcU0PSHDywL_",
        "BlCG0t7r-64-"
      ],
      "include_colab_link": true
    },
    "kernelspec": {
      "name": "ir",
      "display_name": "R"
    },
    "language_info": {
      "name": "R"
    }
  },
  "cells": [
    {
      "cell_type": "markdown",
      "metadata": {
        "id": "view-in-github",
        "colab_type": "text"
      },
      "source": [
        "<a href=\"https://colab.research.google.com/github/gilesitorr/Estadistica_Avanzada/blob/main/Parcial_3/Tarea_3/EA_parcial3_tarea3.ipynb\" target=\"_parent\"><img src=\"https://colab.research.google.com/assets/colab-badge.svg\" alt=\"Open In Colab\"/></a>"
      ]
    },
    {
      "cell_type": "markdown",
      "metadata": {
        "id": "pW1HRSR2Gr3s"
      },
      "source": [
        "# __Estadística Avanzada__\n",
        "# Parcial 3 - Tarea 3\n",
        "## _Gil Estéfano Rodríguez Rivera_"
      ]
    },
    {
      "cell_type": "markdown",
      "metadata": {
        "id": "BnmoSaZN_6YD"
      },
      "source": [
        "Todas las bases de datos utilizadas así como el desarrollo se encuentra en _GitHub_ en https://github.com/gilesitorr/Estadistica_Avanzada/tree/main/Parcial_3/Tarea_3\n",
        "\n",
        "__Nota:__ En este Notebook se usó el kernel de R, aunque la extensión sea ipynb."
      ]
    },
    {
      "cell_type": "markdown",
      "metadata": {
        "id": "2HYfi4YM76tk"
      },
      "source": [
        "## Librerías"
      ]
    },
    {
      "cell_type": "code",
      "metadata": {
        "colab": {
          "base_uri": "https://localhost:8080/"
        },
        "id": "JZudmQC4715q",
        "outputId": "28134d0b-762e-44c6-af8e-3cbf465e9703"
      },
      "source": [
        "install.packages(\"pspearman\")"
      ],
      "execution_count": 1,
      "outputs": [
        {
          "output_type": "stream",
          "name": "stderr",
          "text": [
            "Installing package into ‘/usr/local/lib/R/site-library’\n",
            "(as ‘lib’ is unspecified)\n",
            "\n"
          ]
        }
      ]
    },
    {
      "cell_type": "code",
      "metadata": {
        "id": "G-t3LbBtXXRE",
        "colab": {
          "base_uri": "https://localhost:8080/"
        },
        "outputId": "ae9d345c-9a50-42d7-822e-ab37fb5a957c"
      },
      "source": [
        "# Antes de comenzar, se importan las librerías a usar\n",
        "library(dplyr) # Para manipular dataframes\n",
        "library(pspearman) # Para el test de Spearman"
      ],
      "execution_count": 2,
      "outputs": [
        {
          "output_type": "stream",
          "name": "stderr",
          "text": [
            "\n",
            "Attaching package: ‘dplyr’\n",
            "\n",
            "\n",
            "The following objects are masked from ‘package:stats’:\n",
            "\n",
            "    filter, lag\n",
            "\n",
            "\n",
            "The following objects are masked from ‘package:base’:\n",
            "\n",
            "    intersect, setdiff, setequal, union\n",
            "\n",
            "\n"
          ]
        }
      ]
    },
    {
      "cell_type": "markdown",
      "metadata": {
        "id": "Ij_LKwbbinRP"
      },
      "source": [
        "## Biostatistics: A Foundation for Analysis in the Health Sciences\n",
        "### Wayne W. Daniel & Chad L. Cross"
      ]
    },
    {
      "cell_type": "markdown",
      "metadata": {
        "id": "BlCG0t7r-64-"
      },
      "source": [
        "### Ejemplo 13.6.3\n"
      ]
    },
    {
      "cell_type": "markdown",
      "metadata": {
        "id": "5C6aNgPi-65A"
      },
      "source": [
        "__The purpose of a study by researchers at the Cleveland (Ohio) Clinic (A-6) was to determine if the use\n",
        "of Flomax® reduced the urinary side effects commonly experienced by patients following brachytherapy (permanent radioactive seed implant) treatment for prostate cancer. The following table\n",
        "shows the American Urological Association (AUA) symptom index scores for two groups of subjects\n",
        "after 8 weeks of treatment. The higher the AUA index, the more severe the urinary obstruction and\n",
        "irritation__\n",
        "\n",
        "__May we conclude, on the basis of these data, that the median AUA index in the Flomax® group differs\n",
        "significantly from the median AUA index of the placebo group? Let $\\alpha=0.05$.__"
      ]
    },
    {
      "cell_type": "code",
      "metadata": {
        "id": "g-5b4lEAQauH"
      },
      "source": [
        "# Se define el url donde está guardado el archivo csv a usar\n",
        "url = \"https://github.com/gilesitorr/Estadistica_Avanzada/raw/main/Parcial_3/Tarea_3/EXR_C13_S06_03.csv\"\n",
        "\n",
        "# Se lee el archivo csv desde el url que se definió\n",
        "df <- read.csv(url, header=TRUE)"
      ],
      "execution_count": null,
      "outputs": []
    },
    {
      "cell_type": "code",
      "metadata": {
        "id": "S0_ww-mFlNA3",
        "colab": {
          "base_uri": "https://localhost:8080/",
          "height": 121
        },
        "outputId": "8a578687-33d4-4494-bb28-4b1ce54db4c6"
      },
      "source": [
        "# Se realiza una prueba de Mann-Whitney\n",
        "wilcox.test(AUA~GROUP, data=df, exact=FALSE, correct=FALSE)"
      ],
      "execution_count": null,
      "outputs": [
        {
          "output_type": "display_data",
          "data": {
            "text/plain": [
              "\n",
              "\tWilcoxon rank sum test\n",
              "\n",
              "data:  AUA by GROUP\n",
              "W = 826.5, p-value = 0.7596\n",
              "alternative hypothesis: true location shift is not equal to 0\n"
            ]
          },
          "metadata": {}
        }
      ]
    },
    {
      "cell_type": "markdown",
      "metadata": {
        "id": "SvfE4t3mF8gG"
      },
      "source": [
        "Con base a la prueba de Mann-Whitey, a una significancia de $\\alpha=0.05$, se infiere que no hay suficiente evidencia para afirmar que hay una diferencia estadísticamente significativa en las medianas del índice AUA entre el grupo de control y el que consume Flomax ($p=0.7596$)."
      ]
    },
    {
      "cell_type": "markdown",
      "metadata": {
        "id": "wn9lzsRKlNNw"
      },
      "source": [
        "### Ejemplo 13.7.3\n"
      ]
    },
    {
      "cell_type": "markdown",
      "metadata": {
        "id": "696CA6WIlNNw"
      },
      "source": [
        "__For a sample of apparently normal subjects who served as controls in an experiment, the following\n",
        "systolic blood pressure readings were recorded at the beginning of the experiment:__\n",
        "\n",
        "162 177 151 167\n",
        "\n",
        "130 154 179 146\n",
        "\n",
        "147 157 141 157\n",
        "\n",
        "153 157 134 143\n",
        "\n",
        "141 137 151 161\n",
        "\n",
        "__Can one conclude on the basis of these data that the population of blood pressures from\n",
        "which the sample was drawn is not normally distributed with $\\mu=150$ and $\\sigma=12$? Determine\n",
        "the p value.__"
      ]
    },
    {
      "cell_type": "code",
      "metadata": {
        "id": "2_FgtvHWlNNx"
      },
      "source": [
        "# Se define la muestra\n",
        "data <- data.frame(x=c(162, 177, 151, 167,\n",
        "          130, 154, 179, 146,\n",
        "          147, 157, 141, 157,\n",
        "          153, 157, 134, 143,\n",
        "          141, 137, 151, 161))\n",
        "\n",
        "# Los parámetros de la distribución teórica\n",
        "mu <- 150\n",
        "std <- 12"
      ],
      "execution_count": null,
      "outputs": []
    },
    {
      "cell_type": "code",
      "metadata": {
        "colab": {
          "base_uri": "https://localhost:8080/",
          "height": 156
        },
        "id": "f_zuRfY_IdEy",
        "outputId": "2184aa7c-665a-4569-95cb-2dfb908d358d"
      },
      "source": [
        "# Se realiza una prueba de Kologorov-Smirnov\n",
        "ks.test(data$x, \"pnorm\", mean=mu, sd=std)"
      ],
      "execution_count": null,
      "outputs": [
        {
          "output_type": "stream",
          "name": "stderr",
          "text": [
            "Warning message in ks.test(data$x, \"pnorm\", mean = mu, sd = std):\n",
            "“ties should not be present for the Kolmogorov-Smirnov test”\n"
          ]
        },
        {
          "output_type": "display_data",
          "data": {
            "text/plain": [
              "\n",
              "\tOne-sample Kolmogorov-Smirnov test\n",
              "\n",
              "data:  data$x\n",
              "D = 0.13321, p-value = 0.8699\n",
              "alternative hypothesis: two-sided\n"
            ]
          },
          "metadata": {}
        }
      ]
    },
    {
      "cell_type": "markdown",
      "metadata": {
        "id": "5yqbfeOM_jxd"
      },
      "source": [
        "De acuerdo con la prueba de Kolmogorov-Smirnov, a una significancia de $\\alpha=0.05$, se concluye que no hay evidencia suficiente para afirmar que existen valores para los que la distribución teórica y la muestra difieren de manera estadísticamente significativa ($D=0.1321$, $p=8699$)."
      ]
    },
    {
      "cell_type": "markdown",
      "metadata": {
        "id": "qFH3yV2ElOco"
      },
      "source": [
        "### Ejemplo 13.8.3\n"
      ]
    },
    {
      "cell_type": "markdown",
      "metadata": {
        "id": "sP6yOEWalOco"
      },
      "source": [
        "__A study of young children by Flexer et al. (A-9) published in the Hearing Journal examines the\n",
        "effectiveness of an FM sound field when teaching phonics to children. In the study, children in a\n",
        "classroom with no phonological or phonemic awareness training (control) were compared to a class\n",
        "with phonological and phonemic awareness (PPA) and to a class that utilized phonological and\n",
        "phonemic awareness training and the FM sound field (PPA/FM). A total of 53 students from three\n",
        "separate preschool classrooms participated in this study. Students were given a measure of phonemic\n",
        "awareness in preschool and then at the end of the first semester of kindergarten. The improvement\n",
        "scores are listed in the following table as measured by the Yopp–Singer Test of Phonemic\n",
        "Segmentation.__\n",
        "\n",
        "__Test for a significant difference among the three groups. Let $\\alpha=0.05$.__"
      ]
    },
    {
      "cell_type": "code",
      "metadata": {
        "id": "2_RucPWklOcp"
      },
      "source": [
        "# Se define el url donde está guardado el archivo csv a usar\n",
        "url = \"https://github.com/gilesitorr/Estadistica_Avanzada/raw/main/Parcial_3/Tarea_3/EXR_C13_S08_03.csv\"\n",
        "\n",
        "# Se lee el archivo csv desde el url que se definió\n",
        "df <- read.csv(url, header=TRUE)"
      ],
      "execution_count": 6,
      "outputs": []
    },
    {
      "cell_type": "code",
      "metadata": {
        "colab": {
          "base_uri": "https://localhost:8080/",
          "height": 104
        },
        "id": "2pnTxM1JNH3g",
        "outputId": "fdf5ba95-a7f9-4549-b926-ae325709256f"
      },
      "source": [
        "# Se realiza una prueba de Kruskal-Wallis\n",
        "kruskal.test(IMP ~ GROUP, data=df)"
      ],
      "execution_count": 7,
      "outputs": [
        {
          "output_type": "display_data",
          "data": {
            "text/plain": [
              "\n",
              "\tKruskal-Wallis rank sum test\n",
              "\n",
              "data:  IMP by GROUP\n",
              "Kruskal-Wallis chi-squared = 18.214, df = 2, p-value = 0.0001109\n"
            ]
          },
          "metadata": {}
        }
      ]
    },
    {
      "cell_type": "markdown",
      "metadata": {
        "id": "Vc7rqsrg4lWX"
      },
      "source": [
        "De acuerdo a la prueba de Kruskal-Wallis, a una significancia de $0.05$, se concluye que hay suficiente evidencia para afirmar que la diferencia entre las distribuciones de la mejora entre los 3 grupos es estadísticamente significativa ($X^2=18.2140$, $p=0.0001$)."
      ]
    },
    {
      "cell_type": "markdown",
      "metadata": {
        "id": "NHIoVG1HlPW6"
      },
      "source": [
        "### Ejemplo 13.8.6\n"
      ]
    },
    {
      "cell_type": "markdown",
      "metadata": {
        "id": "wVVpM5xXlPW6"
      },
      "source": [
        "__Hepatic g-glutamyl transpeptidase (GGTP) activity was measured in 22 patients undergoing\n",
        "percutaneous liver biopsy. The results were as follows:__\n",
        "\n",
        "__Can we conclude from these sample data that the average population GGTP level differs among the\n",
        "five diagnostic groups? Let $\\alpha=0.05$ and find the p value.__"
      ]
    },
    {
      "cell_type": "code",
      "metadata": {
        "id": "2g2DlJ-tn80B"
      },
      "source": [
        "# Se define el url donde está guardado el archivo csv a usar\n",
        "url = \"https://github.com/gilesitorr/Estadistica_Avanzada/raw/main/Parcial_3/Tarea_3/EXR_C13_S08_06.csv\"\n",
        "\n",
        "# Se lee el archivo csv desde el url que se definió\n",
        "df <- read.csv(url, header=TRUE)"
      ],
      "execution_count": 12,
      "outputs": []
    },
    {
      "cell_type": "code",
      "metadata": {
        "colab": {
          "base_uri": "https://localhost:8080/",
          "height": 104
        },
        "id": "F1I1RcSNlPW7",
        "outputId": "c74f50e1-ab03-4b66-98d4-562a181d33b8"
      },
      "source": [
        "# e realiza una prueba de Kruskall-Wallis\n",
        "kruskal.test(LEVEL ~ DIAG, data=df)"
      ],
      "execution_count": 13,
      "outputs": [
        {
          "output_type": "display_data",
          "data": {
            "text/plain": [
              "\n",
              "\tKruskal-Wallis rank sum test\n",
              "\n",
              "data:  LEVEL by DIAG\n",
              "Kruskal-Wallis chi-squared = 17.17, df = 4, p-value = 0.001792\n"
            ]
          },
          "metadata": {}
        }
      ]
    },
    {
      "cell_type": "markdown",
      "metadata": {
        "id": "yWeK5C4656lB"
      },
      "source": [
        "De acuerdo a la prueba de Kruskal-Wallis, a una significancia de $0.05$, se concluye que hay suficiente evidencia para afirmar que la diferencia entre las distribuciones de los niveles de GGTP entre los 5 grupos es estadísticamente significativa ($X^2=17.17$, $p=0.0018$)."
      ]
    },
    {
      "cell_type": "markdown",
      "metadata": {
        "id": "NFHKNvbu7pRT"
      },
      "source": [
        "### Ejemplo 13.9.3\n"
      ]
    },
    {
      "cell_type": "markdown",
      "metadata": {
        "id": "tV8zG7j87pRU"
      },
      "source": [
        "__Ten subjects with exercise-induced asthma participated in an experiment to compare the\n",
        "protective effect of a drug administered in four dose levels. Saline was used as a control. The\n",
        "variable of interest was change in FEV1 after administration of the drug or saline. The results\n",
        "were as follows:__\n",
        "\n",
        "__Can one conclude on the basis of these data that different dose levels have different effects?\n",
        "Let $\\alpha=0.05$ and find the p value.__"
      ]
    },
    {
      "cell_type": "code",
      "metadata": {
        "id": "e0BGfZyd7pRV"
      },
      "source": [
        "# Se define el url donde está guardado el archivo csv a usar\n",
        "url = \"https://github.com/gilesitorr/Estadistica_Avanzada/raw/main/Parcial_3/Tarea_3/EXR_C13_S09_03.csv\"\n",
        "\n",
        "# Se lee el archivo csv desde el url que se definió\n",
        "df <- read.csv(url, header=TRUE)"
      ],
      "execution_count": 14,
      "outputs": []
    },
    {
      "cell_type": "code",
      "metadata": {
        "colab": {
          "base_uri": "https://localhost:8080/",
          "height": 104
        },
        "id": "IqEyC2292XcD",
        "outputId": "59ddca0a-ac33-462c-85c3-bd8764f2e84c"
      },
      "source": [
        "# Se hace una prueba de Friedman\n",
        "friedman.test(cbind(df$SALINE, df$T2, df$T10, df$T20, df$T40))"
      ],
      "execution_count": 25,
      "outputs": [
        {
          "output_type": "display_data",
          "data": {
            "text/plain": [
              "\n",
              "\tFriedman rank sum test\n",
              "\n",
              "data:  cbind(df$SALINE, df$T2, df$T10, df$T20, df$T40)\n",
              "Friedman chi-squared = 29.528, df = 4, p-value = 6.107e-06\n"
            ]
          },
          "metadata": {}
        }
      ]
    },
    {
      "cell_type": "markdown",
      "metadata": {
        "id": "08fNKiG17pRX"
      },
      "source": [
        "De acuerdo a la prueba de Friedmans, a una significancia de $0.05$, se concluye que hay suficiente evidencia para afirmar que los distintos tratamientos producen distintos cambios en el FEV1 del paciente ($X^2=29.5280$, $p\\sim6\\times10^{-6}$)."
      ]
    },
    {
      "cell_type": "markdown",
      "metadata": {
        "id": "ZJsfYuG87pzp"
      },
      "source": [
        "### Ejemplo 13.10.3\n"
      ]
    },
    {
      "cell_type": "markdown",
      "metadata": {
        "id": "dFqALWb87pzp"
      },
      "source": [
        "__The purpose of a study by Nozawa et al. (A-10) was to evaluate the outcome of surgical repair of pars\n",
        "interarticularis defect by segmental wire fixation in young adults with lumbar spondylolysis. The\n",
        "authors cite literature indicating that segmental wire fixation has been successful in the treatment of\n",
        "nonathletes with spondylolysis and point out that no information existed on the results of this type of\n",
        "surgery in athletes. In a retrospective study of subjects having surgery between 1993 and 2000, the\n",
        "authors found 20 subjects who had undergone the surgery. The following table shows the age (years)\n",
        "at surgery and duration (months) of follow-up care for these subjects.__\n",
        "\n",
        "__May we conclude, on the basis of these data, that in a population of similar subjects there is an\n",
        "association between age and duration of follow-up? Let $\\alpha=0.05$.__"
      ]
    },
    {
      "cell_type": "code",
      "metadata": {
        "id": "0JOk69Y97pzs"
      },
      "source": [
        "# Se define el url donde está guardado el archivo csv a usar\n",
        "url = \"https://github.com/gilesitorr/Estadistica_Avanzada/raw/main/Parcial_3/Tarea_3/EXR_C13_S10_03.csv\"\n",
        "\n",
        "# Se lee el archivo csv desde el url que se definió\n",
        "df <- read.csv(url, header=TRUE)"
      ],
      "execution_count": 26,
      "outputs": []
    },
    {
      "cell_type": "code",
      "metadata": {
        "colab": {
          "base_uri": "https://localhost:8080/",
          "height": 208
        },
        "id": "IE3-v27A7sOj",
        "outputId": "d3e9dd2d-ba73-46cc-98d1-cbbf474217ac"
      },
      "source": [
        "# Se realiza un test de correlación de Spearman\n",
        "spearman.test(df$FOLLOWUP, df$AGE)"
      ],
      "execution_count": 31,
      "outputs": [
        {
          "output_type": "stream",
          "name": "stderr",
          "text": [
            "Warning message in spearman.test(df$FOLLOWUP, df$AGE):\n",
            "“Cannot compute exact p-values with ties”\n"
          ]
        },
        {
          "output_type": "display_data",
          "data": {
            "text/plain": [
              "\n",
              "\tSpearman's rank correlation rho\n",
              "\n",
              "data:  df$FOLLOWUP and df$AGE\n",
              "S = 1305.8, p-value = 0.9411\n",
              "alternative hypothesis: true rho is not equal to 0\n",
              "sample estimates:\n",
              "       rho \n",
              "0.01823019 \n"
            ]
          },
          "metadata": {}
        }
      ]
    },
    {
      "cell_type": "markdown",
      "metadata": {
        "id": "2CGHKjP67pz0"
      },
      "source": [
        "De acuerdo a la prueba de correlación de Spearman, a una significancia de $0.05$, se concluye que no hay suficiente evidencia para afirmar que las variables de edad y seguimiento tengan correlación ($r_s=0.0182$, $p=0.9411$)."
      ]
    },
    {
      "cell_type": "markdown",
      "metadata": {
        "id": "Ai9ezOMi7qW_"
      },
      "source": [
        "### Ejemplo 13.10.6\n"
      ]
    },
    {
      "cell_type": "markdown",
      "metadata": {
        "id": "ahQhPRJ07qXA"
      },
      "source": [
        "__Seventeen patients with a history of congestive heart failure participated in a study to assess the\n",
        "effects of exercise on various bodily functions. During a period of exercise the following data were\n",
        "collected on the percent change in plasma norepinephrine (Y) and the percent change in oxygen\n",
        "consumption (X):__\n",
        "\n",
        "__On the basis of these data can one conclude that there is an association between the two variables? Let\n",
        "$\\alpha=0.05$.__"
      ]
    },
    {
      "cell_type": "code",
      "metadata": {
        "id": "SEHq2huF7qXA"
      },
      "source": [
        "# Se define el url donde está guardado el archivo csv a usar\n",
        "url = \"https://github.com/gilesitorr/Estadistica_Avanzada/raw/main/Parcial_3/Tarea_3/EXR_C13_S10_06.csv\"\n",
        "\n",
        "# Se lee el archivo csv desde el url que se definió\n",
        "df <- read.csv(url, header=TRUE)"
      ],
      "execution_count": 32,
      "outputs": []
    },
    {
      "cell_type": "code",
      "metadata": {
        "colab": {
          "base_uri": "https://localhost:8080/",
          "height": 208
        },
        "id": "I20X-mw5_Y8A",
        "outputId": "0d60d815-2954-4d76-c4ac-9b2408ae5e8a"
      },
      "source": [
        "# Se realiza un test de correlación de Spearman\n",
        "spearman.test(df$X, df$Y)"
      ],
      "execution_count": 34,
      "outputs": [
        {
          "output_type": "stream",
          "name": "stderr",
          "text": [
            "Warning message in spearman.test(df$X, df$Y):\n",
            "“Cannot compute exact p-values with ties”\n"
          ]
        },
        {
          "output_type": "display_data",
          "data": {
            "text/plain": [
              "\n",
              "\tSpearman's rank correlation rho\n",
              "\n",
              "data:  df$X and df$Y\n",
              "S = 246.95, p-value = 0.00252\n",
              "alternative hypothesis: true rho is not equal to 0\n",
              "sample estimates:\n",
              "      rho \n",
              "0.6973605 \n"
            ]
          },
          "metadata": {}
        }
      ]
    },
    {
      "cell_type": "markdown",
      "metadata": {
        "id": "JdDtD7qH7qXB"
      },
      "source": [
        "De acuerdo a la prueba de correlación de Spearman, a una significancia de $0.05$, se concluye que hay suficiente evidencia para afirmar que las variables X y Y tienen correlación ($r_s=0.6974$, $p=0.0025$)."
      ]
    },
    {
      "cell_type": "markdown",
      "metadata": {
        "id": "RzPYzMOk7q2p"
      },
      "source": [
        "### Ejemplo 13.11.2\n"
      ]
    },
    {
      "cell_type": "markdown",
      "metadata": {
        "id": "iEqXRq3y7q2q"
      },
      "source": [
        "__The following are the body weights (grams) and total surface area (cm2\n",
        ") of nine laboratory\n",
        "animals:__\n",
        "\n",
        "Body weight (X): 660.2 706.0 924.0 936.0 992.1 888.9 999.4 890.3 841.2\n",
        "\n",
        "Surface area (Y): 781.7 888.7 1038.1 1040.0 1120.0 1071.5 1134.5 965.3 925.0\n",
        "\n",
        "__Compute the slope estimator and two intercept estimators.__"
      ]
    },
    {
      "cell_type": "code",
      "metadata": {
        "colab": {
          "base_uri": "https://localhost:8080/",
          "height": 35
        },
        "id": "sF1k8Sx5BkRe",
        "outputId": "779e420b-b658-4769-8536-5ddff7532a60"
      },
      "source": [
        "# Se definen las medidas de ambas muestras\n",
        "X <- c(660.2, 706.0, 924.0, 936.0, 992.1, 888.9, 999.4, 890.3, 841.2)\n",
        "Y <- c(781.7, 888.7, 1038.1, 1040.0, 1120.0, 1071.5, 1134.5, 965.3, 925.0)\n",
        "\n",
        "# Se calcula el estimador de la pendiente\n",
        "S <- c()\n",
        "for(i in 1:(length(X)-1)){\n",
        "  for(j in (i+1):length(X)){\n",
        "    S <- cbind(S, (Y[j]-Y[i])/(X[j]-X[i]) )\n",
        "  }\n",
        "}\n",
        "(beta.1 <- median(S))"
      ],
      "execution_count": 26,
      "outputs": [
        {
          "output_type": "display_data",
          "data": {
            "text/plain": [
              "[1] 1.009368"
            ],
            "text/latex": "1.00936808484246",
            "text/markdown": "1.00936808484246",
            "text/html": [
              "1.00936808484246"
            ]
          },
          "metadata": {}
        }
      ]
    },
    {
      "cell_type": "code",
      "metadata": {
        "colab": {
          "base_uri": "https://localhost:8080/",
          "height": 35
        },
        "id": "lO18-k-CIV_5",
        "outputId": "38545054-b5d9-45b8-821c-2d2076dc7c8d"
      },
      "source": [
        "# Se calcula el primer estimador de la intersección\n",
        "first.intercept <- c()\n",
        "for(i in 1:length(X)){\n",
        "  first.intercept <- cbind(first.intercept,  Y[i]-beta.1*X[i])\n",
        "}\n",
        "(beta.0.A <- median(first.intercept))"
      ],
      "execution_count": 27,
      "outputs": [
        {
          "output_type": "display_data",
          "data": {
            "text/plain": [
              "[1] 115.3152"
            ],
            "text/latex": "115.315190387008",
            "text/markdown": "115.315190387008",
            "text/html": [
              "115.315190387008"
            ]
          },
          "metadata": {}
        }
      ]
    },
    {
      "cell_type": "code",
      "metadata": {
        "colab": {
          "base_uri": "https://localhost:8080/",
          "height": 35
        },
        "id": "M7AkygYhJwHH",
        "outputId": "4eef5cec-5c67-42f6-d0ff-794514b87103"
      },
      "source": [
        "# Se calcula el segundo estimador de la intersección\n",
        "second.intercept <- c()\n",
        "for(i in 1:length(X)){\n",
        "  for(j in i:length(X)){\n",
        "    second.intercept <- cbind(second.intercept,  (first.intercept[i]+first.intercept[j])/2)\n",
        "  }\n",
        "}\n",
        "(beta.0.B <- median(second.intercept))"
      ],
      "execution_count": 28,
      "outputs": [
        {
          "output_type": "display_data",
          "data": {
            "text/plain": [
              "[1] 115.5907"
            ],
            "text/latex": "115.590712807006",
            "text/markdown": "115.590712807006",
            "text/html": [
              "115.590712807006"
            ]
          },
          "metadata": {}
        }
      ]
    },
    {
      "cell_type": "markdown",
      "metadata": {
        "id": "SEG3rJD27q2y"
      },
      "source": [
        "Según el método de Theil, la pendiente de la regresión es $\\beta_1 = 1.0094$. Por su parte, los estimadores de la intersección son $\\beta_{0,A}=115.3152$ y $\\beta_{0,B}=115.5907$."
      ]
    }
  ]
}