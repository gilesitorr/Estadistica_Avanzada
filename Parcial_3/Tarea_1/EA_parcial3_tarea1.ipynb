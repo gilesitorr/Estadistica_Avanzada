{
  "nbformat": 4,
  "nbformat_minor": 0,
  "metadata": {
    "colab": {
      "name": "EA_parcial3_tarea1.ipynb",
      "provenance": [],
      "collapsed_sections": [
        "apc8tASFinRQ",
        "WcU0PSHDywL_",
        "BlCG0t7r-64-"
      ],
      "include_colab_link": true
    },
    "kernelspec": {
      "name": "ir",
      "display_name": "R"
    },
    "language_info": {
      "name": "R"
    }
  },
  "cells": [
    {
      "cell_type": "markdown",
      "metadata": {
        "id": "view-in-github",
        "colab_type": "text"
      },
      "source": [
        "<a href=\"https://colab.research.google.com/github/gilesitorr/Estadistica_Avanzada/blob/main/Parcial_3/Tarea_1/EA_parcial3_tarea1.ipynb\" target=\"_parent\"><img src=\"https://colab.research.google.com/assets/colab-badge.svg\" alt=\"Open In Colab\"/></a>"
      ]
    },
    {
      "cell_type": "markdown",
      "metadata": {
        "id": "pW1HRSR2Gr3s"
      },
      "source": [
        "# __Estadística Avanzada__\n",
        "# Parcial 3 - Tarea 1\n",
        "## _Gil Estéfano Rodríguez Rivera_"
      ]
    },
    {
      "cell_type": "markdown",
      "metadata": {
        "id": "BnmoSaZN_6YD"
      },
      "source": [
        "Todas las bases de datos utilizadas así como el desarrollo se encuentra en _GitHub_ en https://github.com/gilesitorr/Estadistica_Avanzada/tree/main/Parcial_3/Tarea_1\n",
        "\n",
        "__Nota:__ En este Notebook se usó el kernel de R, aunque la extensión sea ipynb."
      ]
    },
    {
      "cell_type": "code",
      "metadata": {
        "id": "G-t3LbBtXXRE",
        "colab": {
          "base_uri": "https://localhost:8080/"
        },
        "outputId": "3f4eb710-6ffd-49b4-a334-50a8f07e3121"
      },
      "source": [
        "# Antes de comenzar, se importan las librerías a usar\n",
        "library(dplyr)"
      ],
      "execution_count": 1,
      "outputs": [
        {
          "output_type": "stream",
          "name": "stderr",
          "text": [
            "\n",
            "Attaching package: ‘dplyr’\n",
            "\n",
            "\n",
            "The following objects are masked from ‘package:stats’:\n",
            "\n",
            "    filter, lag\n",
            "\n",
            "\n",
            "The following objects are masked from ‘package:base’:\n",
            "\n",
            "    intersect, setdiff, setequal, union\n",
            "\n",
            "\n"
          ]
        }
      ]
    },
    {
      "cell_type": "markdown",
      "metadata": {
        "id": "Ij_LKwbbinRP"
      },
      "source": [
        "## Biostatistics: A Foundation for Analysis in the Health Sciences\n",
        "### Wayne W. Daniel & Chad L. Cross"
      ]
    },
    {
      "cell_type": "markdown",
      "metadata": {
        "id": "BlCG0t7r-64-"
      },
      "source": [
        "### Ejemplo 13.8.2\n"
      ]
    },
    {
      "cell_type": "markdown",
      "metadata": {
        "id": "5C6aNgPi-65A"
      },
      "source": [
        "__Table 13.8.3 shows the net book value of equipment capital per bed for a sample of hospitals from each of five types of hospitals. We wish to determine, by means of the Kruskal–Wallis test, if we can conclude that the average net book value of equipment capital per bed differs among the five types of hospitals. The ranks of the 41 values, along\n",
        "with the sum of ranks for each sample, are shown in the table.__"
      ]
    },
    {
      "cell_type": "code",
      "metadata": {
        "id": "g-5b4lEAQauH"
      },
      "source": [
        "# Se define el url donde está guardado el archivo csv a usar\n",
        "url = \"https://github.com/gilesitorr/Estadistica_Avanzada/raw/main/Parcial_3/Tarea_1/EXA_C13_S08_02.csv\"\n",
        "\n",
        "# Se lee el archivo csv desde el url que se definió\n",
        "df <- read.csv(url, header=TRUE)"
      ],
      "execution_count": 4,
      "outputs": []
    },
    {
      "cell_type": "code",
      "metadata": {
        "colab": {
          "base_uri": "https://localhost:8080/",
          "height": 411
        },
        "id": "DF78IESfhy9t",
        "outputId": "776d363f-c2a4-4d9e-aff4-e289b50a4e44"
      },
      "source": [
        "# La base de datos correcta\n",
        "df"
      ],
      "execution_count": 5,
      "outputs": [
        {
          "output_type": "display_data",
          "data": {
            "text/plain": [
              "   A    B    C    D    E   \n",
              "1  1735 5260 2790 3475 6090\n",
              "2  1520 4455 2400 3115 6000\n",
              "3  1476 4480 2655 3050 5894\n",
              "4  1688 4325 2500 3125 5705\n",
              "5  1702 5075 2755 3275 6050\n",
              "6  2667 5225 2592 3300 6150\n",
              "7  1575 4613 2601 2730 5110\n",
              "8  1602 4887 1648   NA   NA\n",
              "9  1530   NA 1700   NA   NA\n",
              "10 1698   NA   NA   NA   NA"
            ],
            "text/latex": "A data.frame: 10 × 5\n\\begin{tabular}{lllll}\n A & B & C & D & E\\\\\n <int> & <int> & <int> & <int> & <int>\\\\\n\\hline\n\t 1735 & 5260 & 2790 & 3475 & 6090\\\\\n\t 1520 & 4455 & 2400 & 3115 & 6000\\\\\n\t 1476 & 4480 & 2655 & 3050 & 5894\\\\\n\t 1688 & 4325 & 2500 & 3125 & 5705\\\\\n\t 1702 & 5075 & 2755 & 3275 & 6050\\\\\n\t 2667 & 5225 & 2592 & 3300 & 6150\\\\\n\t 1575 & 4613 & 2601 & 2730 & 5110\\\\\n\t 1602 & 4887 & 1648 &   NA &   NA\\\\\n\t 1530 &   NA & 1700 &   NA &   NA\\\\\n\t 1698 &   NA &   NA &   NA &   NA\\\\\n\\end{tabular}\n",
            "text/markdown": "\nA data.frame: 10 × 5\n\n| A &lt;int&gt; | B &lt;int&gt; | C &lt;int&gt; | D &lt;int&gt; | E &lt;int&gt; |\n|---|---|---|---|---|\n| 1735 | 5260 | 2790 | 3475 | 6090 |\n| 1520 | 4455 | 2400 | 3115 | 6000 |\n| 1476 | 4480 | 2655 | 3050 | 5894 |\n| 1688 | 4325 | 2500 | 3125 | 5705 |\n| 1702 | 5075 | 2755 | 3275 | 6050 |\n| 2667 | 5225 | 2592 | 3300 | 6150 |\n| 1575 | 4613 | 2601 | 2730 | 5110 |\n| 1602 | 4887 | 1648 |   NA |   NA |\n| 1530 |   NA | 1700 |   NA |   NA |\n| 1698 |   NA |   NA |   NA |   NA |\n\n",
            "text/html": [
              "<table class=\"dataframe\">\n",
              "<caption>A data.frame: 10 × 5</caption>\n",
              "<thead>\n",
              "\t<tr><th scope=col>A</th><th scope=col>B</th><th scope=col>C</th><th scope=col>D</th><th scope=col>E</th></tr>\n",
              "\t<tr><th scope=col>&lt;int&gt;</th><th scope=col>&lt;int&gt;</th><th scope=col>&lt;int&gt;</th><th scope=col>&lt;int&gt;</th><th scope=col>&lt;int&gt;</th></tr>\n",
              "</thead>\n",
              "<tbody>\n",
              "\t<tr><td>1735</td><td>5260</td><td>2790</td><td>3475</td><td>6090</td></tr>\n",
              "\t<tr><td>1520</td><td>4455</td><td>2400</td><td>3115</td><td>6000</td></tr>\n",
              "\t<tr><td>1476</td><td>4480</td><td>2655</td><td>3050</td><td>5894</td></tr>\n",
              "\t<tr><td>1688</td><td>4325</td><td>2500</td><td>3125</td><td>5705</td></tr>\n",
              "\t<tr><td>1702</td><td>5075</td><td>2755</td><td>3275</td><td>6050</td></tr>\n",
              "\t<tr><td>2667</td><td>5225</td><td>2592</td><td>3300</td><td>6150</td></tr>\n",
              "\t<tr><td>1575</td><td>4613</td><td>2601</td><td>2730</td><td>5110</td></tr>\n",
              "\t<tr><td>1602</td><td>4887</td><td>1648</td><td>  NA</td><td>  NA</td></tr>\n",
              "\t<tr><td>1530</td><td>  NA</td><td>1700</td><td>  NA</td><td>  NA</td></tr>\n",
              "\t<tr><td>1698</td><td>  NA</td><td>  NA</td><td>  NA</td><td>  NA</td></tr>\n",
              "</tbody>\n",
              "</table>\n"
            ]
          },
          "metadata": {}
        }
      ]
    },
    {
      "cell_type": "markdown",
      "metadata": {
        "id": "WZFWwvRu4fXU"
      },
      "source": [
        "### Prueba de Bonferroni"
      ]
    },
    {
      "cell_type": "code",
      "metadata": {
        "colab": {
          "base_uri": "https://localhost:8080/",
          "height": 437
        },
        "id": "ZMKYcluQ4iHG",
        "outputId": "285682e0-2cb8-4e7c-8627-141e0ca5a2c7"
      },
      "source": [
        "# Se realiza un boxplot para ilustrar la distribución\n",
        "# entre grupos de la muestra\n",
        "boxplot(df, main = \"Precio de camas por tipo de hospital\",\n",
        "        xlab = \"Tipo de hospital\", ylab = \"Precios\", #col = \"steelblue\",\n",
        "        border = \"black\")"
      ],
      "execution_count": 15,
      "outputs": [
        {
          "output_type": "display_data",
          "data": {
            "image/png": "[encoded data removed]",
            "text/plain": [
              "Plot with title “Precio de camas por tipo de hospital”"
            ]
          },
          "metadata": {
            "image/png": {
              "width": 420,
              "height": 420
            }
          }
        }
      ]
    },
    {
      "cell_type": "code",
      "metadata": {
        "id": "-_OES3kgIMTj"
      },
      "source": [
        "# La tabla se separa en dos vectores\n",
        "valor <- c()\n",
        "tipo <- c()\n",
        "\n",
        "for (i in 1:length(names(df))){\n",
        "  for (j in 1:length(df[,i])){\n",
        "    valor <- rbind(valor, df[j, i]) # Costos de cama\n",
        "    tipo <- rbind(tipo, names(df)[i]) # Tipo de hospital\n",
        "  }\n",
        "}"
      ],
      "execution_count": 98,
      "outputs": []
    },
    {
      "cell_type": "code",
      "metadata": {
        "colab": {
          "base_uri": "https://localhost:8080/",
          "height": 225
        },
        "id": "3nHy6LcZ7nR-",
        "outputId": "6c9d84fa-ef57-4626-e61d-84ff05bba962"
      },
      "source": [
        "# Se realiza una prueba t a pares con la correción de Bonferroni\n",
        "pairwise.t.test(valor, tipo, p.adjust.method=\"bonferroni\")"
      ],
      "execution_count": 99,
      "outputs": [
        {
          "output_type": "display_data",
          "data": {
            "text/plain": [
              "\n",
              "\tPairwise comparisons using t tests with pooled SD \n",
              "\n",
              "data:  valor and tipo \n",
              "\n",
              "  A       B       C       D      \n",
              "B < 2e-16 -       -       -      \n",
              "C 0.0019  7.6e-15 -       -      \n",
              "D 1.2e-08 1.6e-09 0.0020  -      \n",
              "E < 2e-16 1.5e-05 < 2e-16 3.0e-15\n",
              "\n",
              "P value adjustment method: bonferroni "
            ]
          },
          "metadata": {}
        }
      ]
    },
    {
      "cell_type": "markdown",
      "metadata": {
        "id": "QeYXsZl04iXO"
      },
      "source": [
        "### Prueba de Tukey"
      ]
    },
    {
      "cell_type": "code",
      "metadata": {
        "colab": {
          "base_uri": "https://localhost:8080/",
          "height": 139
        },
        "id": "ykdIhVKwQTTv",
        "outputId": "305807fd-11d8-4884-fb54-5cf6de7af6a0"
      },
      "source": [
        "# Se construye un dataset con los vectores extraidos anteriormente\n",
        "data <- data.frame(\"valor\"=valor, \"tipo\"=tipo)"
      ],
      "execution_count": 102,
      "outputs": [
        {
          "output_type": "display_data",
          "data": {
            "text/plain": [
              "\n",
              "Call:\n",
              "lm(formula = valor ~ tipo, data = data)\n",
              "\n",
              "Coefficients:\n",
              "(Intercept)        tipoB        tipoC        tipoD        tipoE  \n",
              "     1719.3       3070.7        685.3       1433.6       4137.7  \n"
            ]
          },
          "metadata": {}
        }
      ]
    },
    {
      "cell_type": "code",
      "metadata": {
        "id": "nIsAUYCfNiYi"
      },
      "source": [
        "# Se ajusta un modelo ANOVA\n",
        "modelo <- aov(lm(valor~tipo, data=data))"
      ],
      "execution_count": 107,
      "outputs": []
    },
    {
      "cell_type": "code",
      "metadata": {
        "colab": {
          "base_uri": "https://localhost:8080/",
          "height": 312
        },
        "id": "1lhuxeeS4mah",
        "outputId": "8d08d60c-4ab8-4b84-8d01-37c67cefca5e"
      },
      "source": [
        "# Se realiza la prueba HSD de Tukey para determinar la diferencia\n",
        "# entre tipos de hospital\n",
        "TukeyHSD(modelo, conf.level=.95)"
      ],
      "execution_count": 106,
      "outputs": [
        {
          "output_type": "display_data",
          "data": {
            "text/plain": [
              "  Tukey multiple comparisons of means\n",
              "    95% family-wise confidence level\n",
              "\n",
              "Fit: aov(formula = lm(valor ~ tipo, data = data))\n",
              "\n",
              "$tipo\n",
              "          diff        lwr       upr     p adj\n",
              "B-A  3070.7000  2582.6547  3558.745 0.0000000\n",
              "C-A   685.2556   212.5133  1157.998 0.0016607\n",
              "D-A  1433.5571   926.5147  1940.600 0.0000000\n",
              "E-A  4137.7000  3630.6575  4644.742 0.0000000\n",
              "C-B -2385.4444 -2885.3951 -1885.494 0.0000000\n",
              "D-B -1637.1429 -2169.6440 -1104.642 0.0000000\n",
              "E-B  1067.0000   534.4989  1599.501 0.0000142\n",
              "D-C   748.3016   229.7898  1266.813 0.0017500\n",
              "E-C  3452.4444  2933.9327  3970.956 0.0000000\n",
              "E-D  2704.1429  2154.1781  3254.108 0.0000000\n"
            ]
          },
          "metadata": {}
        }
      ]
    },
    {
      "cell_type": "markdown",
      "metadata": {
        "id": "Y2ZzCDnv4m7u"
      },
      "source": [
        "### Discusión"
      ]
    },
    {
      "cell_type": "code",
      "metadata": {
        "colab": {
          "base_uri": "https://localhost:8080/"
        },
        "id": "zGb8xxM_jDs1",
        "outputId": "6b730999-2027-4c71-af95-84c8c5bd8f13"
      },
      "source": [
        "# La prueba de normalidad de la muestra\n",
        "print(shapiro.test(data$valor))"
      ],
      "execution_count": 129,
      "outputs": [
        {
          "output_type": "stream",
          "name": "stdout",
          "text": [
            "\n",
            "\tShapiro-Wilk normality test\n",
            "\n",
            "data:  data$valor\n",
            "W = 0.89413, p-value = 0.001118\n",
            "\n"
          ]
        }
      ]
    },
    {
      "cell_type": "code",
      "metadata": {
        "colab": {
          "base_uri": "https://localhost:8080/"
        },
        "id": "1QcAp6rahLxK",
        "outputId": "5db9f67c-9938-4bcf-b0e7-9d82a05c7169"
      },
      "source": [
        "# La prueba de normalidad por grupo de la muestra\n",
        "for (i in 1:length(colnames(df))){\n",
        "  print(paste(\"Columna \",colnames(df)[i]))\n",
        "  print(shapiro.test(df[,i]))\n",
        "  print(\"\")\n",
        "  print(\"\")\n",
        "}"
      ],
      "execution_count": 128,
      "outputs": [
        {
          "output_type": "stream",
          "name": "stdout",
          "text": [
            "[1] \"Columna  A\"\n",
            "\n",
            "\tShapiro-Wilk normality test\n",
            "\n",
            "data:  df[, i]\n",
            "W = 0.61265, p-value = 7.829e-05\n",
            "\n",
            "[1] \"\"\n",
            "[1] \"\"\n",
            "[1] \"Columna  B\"\n",
            "\n",
            "\tShapiro-Wilk normality test\n",
            "\n",
            "data:  df[, i]\n",
            "W = 0.90207, p-value = 0.3016\n",
            "\n",
            "[1] \"\"\n",
            "[1] \"\"\n",
            "[1] \"Columna  C\"\n",
            "\n",
            "\tShapiro-Wilk normality test\n",
            "\n",
            "data:  df[, i]\n",
            "W = 0.77711, p-value = 0.01116\n",
            "\n",
            "[1] \"\"\n",
            "[1] \"\"\n",
            "[1] \"Columna  D\"\n",
            "\n",
            "\tShapiro-Wilk normality test\n",
            "\n",
            "data:  df[, i]\n",
            "W = 0.95336, p-value = 0.7602\n",
            "\n",
            "[1] \"\"\n",
            "[1] \"\"\n",
            "[1] \"Columna  E\"\n",
            "\n",
            "\tShapiro-Wilk normality test\n",
            "\n",
            "data:  df[, i]\n",
            "W = 0.79315, p-value = 0.03503\n",
            "\n",
            "[1] \"\"\n",
            "[1] \"\"\n"
          ]
        }
      ]
    },
    {
      "cell_type": "markdown",
      "metadata": {
        "id": "HKWwLVSaYM9C"
      },
      "source": [
        "En el libro, se concluye, por medio de la prueba de Kruskal–Wallis, que al menos una de los tipos de hospital tiene camas con un valor que difiere del promedio de todas los tipos de hospital (con un p-value menor a 0.005).\n",
        "\n",
        "En este ejercicio se corrobora que sí hay una diferencia entre tipos de hospital. Esto es por medio de dos pruebas que comparan los tipos de hospital a pares. Con ese fin, se considerará una significancia del 0.005.\n",
        "\n",
        "Primero se usaron pruebas-t pareadas usando la corrección de Bonferroni. En este caso, todas los tipos de hospital difieren entre sí, con p-values menores a la significancia.\n",
        "\n",
        "El segundo método de comprobación se basó en la prueba HSD de Tukey, con la cual también se concluyó que los tipos de hospital difieren entre sí, con p-values menores a la significancia.\n",
        "\n",
        "La diferencia entre ambos métodos no es muy relevaante en este caso, pero destaca la diferencia entre los pares A-C y C-D. Ambos pares tuvieron p-values menores en la segunda prueba que en la primera. Esto se puede deber a meras diferencias numéricas más que estadísticas.\n",
        "\n",
        "Al final, con mucho margen, ambas pruebas corroboran los resultados de la prueba de Wallis. Como se mostró, la muestra completa sí cumple con la prueba de normalidad. Sin embargo, como también se mostró anteriormente, algunos grupos de la muestra no cumplen con la prueba de normalidad de Shapiro-Wilk.\n",
        "\n",
        "Si hubiera que optar por algo, es preferible optar por la prueba que de Wallis, pues, sólo los hospitales de tipo A, C y B cumplen con la prueba de Shapiro. En todo caso, la validez de las pruebas pareadas entre esos grupos que cumplen con la normalidad, son válidas.\n",
        "\n",
        "En conclusión, los resultados obtenidos por el libro han sido corroborados."
      ]
    }
  ]
}