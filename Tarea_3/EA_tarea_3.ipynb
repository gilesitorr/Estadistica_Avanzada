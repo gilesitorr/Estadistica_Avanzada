{
  "nbformat": 4,
  "nbformat_minor": 0,
  "metadata": {
    "colab": {
      "name": "EA_tarea_3.ipynb",
      "provenance": [],
      "collapsed_sections": [
        "DVvXm6LrhgaY",
        "gGU_nOMXG2-b",
        "wB-53ymhOxEx",
        "fbZ6s8yq7VcX",
        "uZbmhkP5fyLt",
        "oGQcg1I73rRV",
        "Ij_LKwbbinRP",
        "U2DZpvHnzuBN",
        "apc8tASFinRQ",
        "WcU0PSHDywL_",
        "BlCG0t7r-64-",
        "peQ3nfDkVHQW",
        "6zzg8W7DflCu",
        "9xGrjeAzr4zA"
      ],
      "authorship_tag": "ABX9TyPyKd852O726kp54HvtMcty",
      "include_colab_link": true
    },
    "kernelspec": {
      "name": "ir",
      "display_name": "R"
    },
    "language_info": {
      "name": "R"
    }
  },
  "cells": [
    {
      "cell_type": "markdown",
      "metadata": {
        "id": "view-in-github",
        "colab_type": "text"
      },
      "source": [
        "<a href=\"https://colab.research.google.com/github/gilesitorr/Estadistica_Avanzada/blob/main/Tarea_3/EA_tarea_3.ipynb\" target=\"_parent\"><img src=\"https://colab.research.google.com/assets/colab-badge.svg\" alt=\"Open In Colab\"/></a>"
      ]
    },
    {
      "cell_type": "markdown",
      "metadata": {
        "id": "pW1HRSR2Gr3s"
      },
      "source": [
        "# __Estadística Avanzada__\n",
        "# Tarea 3\n",
        "## _Gil Estéfano Rodríguez Rivera_"
      ]
    },
    {
      "cell_type": "markdown",
      "metadata": {
        "id": "BnmoSaZN_6YD"
      },
      "source": [
        "__Nota:__ En este Notebook se usó el kernel de R, aunque la extensión sea ipynb.\n",
        "\n",
        "__Nota:__ También puede encontrar el desarrollo en _GitHub_ en https://github.com/gilesitorr/Estadistica_Avanzada/tree/main/Tarea_3"
      ]
    },
    {
      "cell_type": "markdown",
      "metadata": {
        "id": "REd6lbfrLgGH"
      },
      "source": [
        "## Introduction to Probability and Statistics for Engineers and Scientists\n",
        "### Sheldon M. Ross"
      ]
    },
    {
      "cell_type": "markdown",
      "metadata": {
        "id": "gGU_nOMXG2-b"
      },
      "source": [
        "### 42\n"
      ]
    },
    {
      "cell_type": "markdown",
      "metadata": {
        "id": "leMbcoWci-5a"
      },
      "source": [
        "__Ten pregnant women given an injection of pitocin to induce labor. Their systolic blood pressures immediately before and after the injection were:__\n",
        "\n",
        "_Before_: 134 122 132 130 128\n",
        "          140 118 127 125 142\n",
        "\n",
        "_After_: 140 130 135 126 134\n",
        "         138 124 126 132 144\n",
        "\n",
        "__Do the data indicate that injection of this drug changes blood pressure__"
      ]
    },
    {
      "cell_type": "markdown",
      "metadata": {
        "id": "CTl6JZlrxHid"
      },
      "source": [
        "Se usará una distribución normal por indicación del problema."
      ]
    },
    {
      "cell_type": "code",
      "metadata": {
        "id": "SlyFFwJR5r88",
        "colab": {
          "base_uri": "https://localhost:8080/",
          "height": 0
        },
        "outputId": "a2505a0b-88c6-4f5f-c272-4dad5d8b6b01"
      },
      "source": [
        "# Se define la muestra a estudiar\n",
        "before <- c(134, 122, 132, 130, 128,\n",
        "            140, 118, 127, 125, 142)\n",
        "\n",
        "after <- c(140, 130, 135, 126, 134,\n",
        "           138, 124, 126, 132, 144)\n",
        "\n",
        "# Se hace la prueba de hipótesis de las dos muestras\n",
        "# (donde H_0 es que la diferencia de las  muestras es 0)\n",
        "t.test(before, after)"
      ],
      "execution_count": 1,
      "outputs": [
        {
          "output_type": "display_data",
          "data": {
            "text/plain": [
              "\n",
              "\tWelch Two Sample t-test\n",
              "\n",
              "data:  before and after\n",
              "t = -0.98112, df = 17.681, p-value = 0.3398\n",
              "alternative hypothesis: true difference in means is not equal to 0\n",
              "95 percent confidence interval:\n",
              " -9.746757  3.546757\n",
              "sample estimates:\n",
              "mean of x mean of y \n",
              "    129.8     132.9 \n"
            ]
          },
          "metadata": {}
        }
      ]
    },
    {
      "cell_type": "markdown",
      "metadata": {
        "id": "AB0fx_RfKxoC"
      },
      "source": [
        "Se concluye que no se puede inferir que hay una diferencia en la presión sanguínea."
      ]
    },
    {
      "cell_type": "markdown",
      "metadata": {
        "id": "wB-53ymhOxEx"
      },
      "source": [
        "### 57\n"
      ]
    },
    {
      "cell_type": "markdown",
      "metadata": {
        "id": "9U6huWjAjB_v"
      },
      "source": [
        "__An ambulance service claims that at least 45 percent of its calls involve life-threatening emergencies. To check this claim, a random sample of 200 calls was selected from the service's files. If 70 of these calls involved life-threatening emergencies, is the service's claim believable at the__\n",
        "\n",
        "__(a) 5 percent level of significance.__\n",
        "\n",
        "__(b) 1 percent level of significance.__"
      ]
    },
    {
      "cell_type": "markdown",
      "metadata": {
        "id": "q4WpiRzSzMqU"
      },
      "source": [
        "Se usará una distribución normal por indicación del problema."
      ]
    },
    {
      "cell_type": "code",
      "metadata": {
        "id": "fq1m8nDEOxEy",
        "colab": {
          "base_uri": "https://localhost:8080/",
          "height": 0
        },
        "outputId": "d3723e13-98d9-48c2-8ceb-e186c420b229"
      },
      "source": [
        "# Las proporciones dadas por el problema\n",
        "p.hipotesis <- .45\n",
        "\n",
        "# Número de valores deseados\n",
        "x <- 70\n",
        "\n",
        "#El tamaño de la muestra\n",
        "n <- 200\n",
        "\n",
        "# Se hace una prueba de hipótesis usando la distribución binomial\n",
        "# significancia = 0.5\n",
        "binom.test(x, n, p.hipotesis, conf.level = 0.95)"
      ],
      "execution_count": 2,
      "outputs": [
        {
          "output_type": "display_data",
          "data": {
            "text/plain": [
              "\n",
              "\tExact binomial test\n",
              "\n",
              "data:  x and n\n",
              "number of successes = 70, number of trials = 200, p-value = 0.004423\n",
              "alternative hypothesis: true probability of success is not equal to 0.45\n",
              "95 percent confidence interval:\n",
              " 0.2840707 0.4204506\n",
              "sample estimates:\n",
              "probability of success \n",
              "                  0.35 \n"
            ]
          },
          "metadata": {}
        }
      ]
    },
    {
      "cell_type": "code",
      "metadata": {
        "colab": {
          "base_uri": "https://localhost:8080/",
          "height": 0
        },
        "id": "t0WgO2t_O3Vy",
        "outputId": "a48be2d6-a38f-404a-cd67-4ec5edb89833"
      },
      "source": [
        "# Se hace una prueba de hipótesis usando la distribución binomial\n",
        "# significancia = 0.1\n",
        "binom.test(x, n, p.hipotesis, conf.level = 0.99)"
      ],
      "execution_count": 3,
      "outputs": [
        {
          "output_type": "display_data",
          "data": {
            "text/plain": [
              "\n",
              "\tExact binomial test\n",
              "\n",
              "data:  x and n\n",
              "number of successes = 70, number of trials = 200, p-value = 0.004423\n",
              "alternative hypothesis: true probability of success is not equal to 0.45\n",
              "99 percent confidence interval:\n",
              " 0.2651294 0.4421971\n",
              "sample estimates:\n",
              "probability of success \n",
              "                  0.35 \n"
            ]
          },
          "metadata": {}
        }
      ]
    },
    {
      "cell_type": "markdown",
      "metadata": {
        "id": "PINSVFIEO-Gk"
      },
      "source": [
        "Ni para una confianza del 95% ni del 99% se puede inferir que el 45% de las llamadas son emergencias que atenten a la vida."
      ]
    },
    {
      "cell_type": "markdown",
      "metadata": {
        "id": "uZbmhkP5fyLt"
      },
      "source": [
        "## Introducción a la probabilidad y estadística\n",
        "### William Mendenhall, Robert J. Beaver & Barbara M. Beaver\n"
      ]
    },
    {
      "cell_type": "markdown",
      "metadata": {
        "id": "I8BIe0VBVSX2"
      },
      "source": [
        "### 9.13 __Potencia de un antibiótico__"
      ]
    },
    {
      "cell_type": "markdown",
      "metadata": {
        "id": "w6EoQFk7VSYR"
      },
      "source": [
        "__Un fabricante de medicamentos dijo que la potencia media de uno de sus antibióticos fue 80%. Se probó una muestra aleatoria de n=100 cápsulas y produho una media muestral de 79.7% con una desviación estándar de 0.8%.__\n",
        "\n",
        "__¿Los datos representan suficiente evidencia para refutar lo dicho por el fabricante?__\n",
        "\n",
        "__(a) Exprese la hipótesis nula a ser probada.__\n",
        "\n",
        "__(b) Exprese la hipótesis alternativa.__\n",
        "\n",
        "__(c) Realiza una prueba estadística de la hipótesis nula y exprese su conclusión.__"
      ]
    },
    {
      "cell_type": "markdown",
      "metadata": {
        "id": "haBQ6g-kVSYR"
      },
      "source": [
        "La hipótesis nula es que la potencia media de los antibióticos es mayor o igual a 80%.\n",
        "\n",
        "La hipótesis alternativa es que tienen una potencia media menor a 80%."
      ]
    },
    {
      "cell_type": "code",
      "metadata": {
        "id": "NkfXGFoqVSYS"
      },
      "source": [
        "# El promedio presumido\n",
        "mean <- 0.8\n",
        "\n",
        "# El promedio experimental y su desviación\n",
        "mean.experimental <- 0.797\n",
        "std <- 0.008\n",
        "\n",
        "# El tamaño de la muestra\n",
        "n <- 100"
      ],
      "execution_count": 4,
      "outputs": []
    },
    {
      "cell_type": "code",
      "metadata": {
        "colab": {
          "base_uri": "https://localhost:8080/",
          "height": 0
        },
        "id": "AhUlwhe6VSYU",
        "outputId": "e795e0f5-a65d-4d3f-8794-8fd6e801f72a"
      },
      "source": [
        "# Se calcula el p-value\n",
        "p.value <- pnorm((mean.experimental-mean)/(std/sqrt(n)))\n",
        "\n",
        "p.value"
      ],
      "execution_count": 5,
      "outputs": [
        {
          "output_type": "display_data",
          "data": {
            "text/plain": [
              "[1] 8.841729e-05"
            ],
            "text/latex": "8.84172852008028e-05",
            "text/markdown": "8.84172852008028e-05",
            "text/html": [
              "8.84172852008028e-05"
            ]
          },
          "metadata": {}
        }
      ]
    },
    {
      "cell_type": "markdown",
      "metadata": {
        "id": "rKOTUbBxVSYX"
      },
      "source": [
        "Dado que el p.value es menor a 0.05, se rechaza la hipótesis nula y se concluye que los antibióticos ofrecen una potencia media menor a 80% con una confianza del 95%."
      ]
    },
    {
      "cell_type": "markdown",
      "metadata": {
        "id": "XGdZjJDxVWgS"
      },
      "source": [
        "### 9.37 __¿Café o azul?__"
      ]
    },
    {
      "cell_type": "markdown",
      "metadata": {
        "id": "X_0HpRdIQCPM"
      },
      "source": [
        "__Un artículo del Washington Post expresó que casi 45% de la población de estadounidenses nace con ojos cafés, aún cuando no necesariamente siguen así. Para probar lo dicho por el periódico se seleccionó una muestra aleatoria de 80 personas y 32 de ellas tenían ojos cafés.__\n",
        "\n",
        "__¿Hay suficiente evidencia para impugnar lo dicho por el periódico?__"
      ]
    },
    {
      "cell_type": "code",
      "metadata": {
        "id": "NMbyR86ugGHe",
        "colab": {
          "base_uri": "https://localhost:8080/",
          "height": 0
        },
        "outputId": "c28e55a2-4873-4add-bcef-27b6b0e7bbde"
      },
      "source": [
        "# El promedio presumido\n",
        "p.teorica <- 0.45\n",
        "\n",
        "# Selecciones exitosas\n",
        "x <-32\n",
        "\n",
        "# El tamaño de la muestra\n",
        "n <- 80\n",
        "\n",
        "# Se realiza la prueba de hipótesis sobre la distribución binomial\n",
        "binom.test(x, n, p.teorica)"
      ],
      "execution_count": 6,
      "outputs": [
        {
          "output_type": "display_data",
          "data": {
            "text/plain": [
              "\n",
              "\tExact binomial test\n",
              "\n",
              "data:  x and n\n",
              "number of successes = 32, number of trials = 80, p-value = 0.4317\n",
              "alternative hypothesis: true probability of success is not equal to 0.45\n",
              "95 percent confidence interval:\n",
              " 0.2920094 0.5156231\n",
              "sample estimates:\n",
              "probability of success \n",
              "                   0.4 \n"
            ]
          },
          "metadata": {}
        }
      ]
    },
    {
      "cell_type": "markdown",
      "metadata": {
        "id": "rFYInzk2Wlsp"
      },
      "source": [
        "No se cuenta con evidencia suficiente para impugnar al periódico."
      ]
    },
    {
      "cell_type": "markdown",
      "metadata": {
        "id": "LODBkTIzVlI5"
      },
      "source": [
        "### 10.5"
      ]
    },
    {
      "cell_type": "markdown",
      "metadata": {
        "id": "eLolYBx0VlI6"
      },
      "source": [
        "__Las siguientes 10 observaciones son una muestra de una población normal:__\n",
        "\n",
        "7.4 7.1 6.5 7.5 7.6\n",
        "\n",
        "6.3 6.9 7.7 6.5 7.0\n",
        "\n",
        "__(a) Encuentre la media y desviación estándar de estos datos.__\n",
        "\n",
        "__(b) Encuentre un límite superior de  confianza de una cola, de 99%, para la media poblacional.__\n",
        "\n",
        "__(c) Pruebe H0: m=7.5 contra Ha: m<7.5.__\n",
        "\n",
        "__(d) ¿Los resultados del inciso b apoyan sus conclusiones del inciso c?__"
      ]
    },
    {
      "cell_type": "code",
      "metadata": {
        "colab": {
          "base_uri": "https://localhost:8080/",
          "height": 0
        },
        "id": "lvOVLh6tVlI7",
        "outputId": "02f80951-27da-4d3f-e23a-01e8560b0e69"
      },
      "source": [
        "# Los datos de la muestra\n",
        "data <- c(7.4, 7.1, 6.5, 7.5, 7.6,\n",
        "          6.3, 6.9, 7.7, 6.5, 7.0)\n",
        "\n",
        "# Se calcula el promedio y la desviación de la muestra\n",
        "(mean <- mean(data))\n",
        "(std <- sd(data))\n",
        "n <- length(data)"
      ],
      "execution_count": 7,
      "outputs": [
        {
          "output_type": "display_data",
          "data": {
            "text/plain": [
              "[1] 7.05"
            ],
            "text/latex": "7.05",
            "text/markdown": "7.05",
            "text/html": [
              "7.05"
            ]
          },
          "metadata": {}
        },
        {
          "output_type": "display_data",
          "data": {
            "text/plain": [
              "[1] 0.4994441"
            ],
            "text/latex": "0.499444135459057",
            "text/markdown": "0.499444135459057",
            "text/html": [
              "0.499444135459057"
            ]
          },
          "metadata": {}
        }
      ]
    },
    {
      "cell_type": "code",
      "metadata": {
        "colab": {
          "base_uri": "https://localhost:8080/",
          "height": 0
        },
        "id": "cocGcyRTVlI8",
        "outputId": "7e96992d-1dc3-4700-c3bf-8dca3e4f56f9"
      },
      "source": [
        "# Se calcula la cota superior\n",
        "t.score <- qt(0.99, df=n-1)\n",
        "\n",
        "(cota.superior <- mean + t.score*std/sqrt(n))"
      ],
      "execution_count": 8,
      "outputs": [
        {
          "output_type": "display_data",
          "data": {
            "text/plain": [
              "[1] 7.495613"
            ],
            "text/latex": "7.49561255419326",
            "text/markdown": "7.49561255419326",
            "text/html": [
              "7.49561255419326"
            ]
          },
          "metadata": {}
        }
      ]
    },
    {
      "cell_type": "code",
      "metadata": {
        "colab": {
          "base_uri": "https://localhost:8080/",
          "height": 0
        },
        "id": "f0ppotFmdH06",
        "outputId": "b9b149ac-1eea-4f2b-f257-20824264593a"
      },
      "source": [
        "# Se calcula el p-value\n",
        "p.value <- pt((mean-7.5)/(std/sqrt(n)), df=n-1)\n",
        "\n",
        "p.value"
      ],
      "execution_count": 9,
      "outputs": [
        {
          "output_type": "display_data",
          "data": {
            "text/plain": [
              "[1] 0.009556784"
            ],
            "text/latex": "0.00955678414208498",
            "text/markdown": "0.00955678414208498",
            "text/html": [
              "0.00955678414208498"
            ]
          },
          "metadata": {}
        }
      ]
    },
    {
      "cell_type": "markdown",
      "metadata": {
        "id": "VFvbuh7cdTmT"
      },
      "source": [
        "Como el p-value es menor a 0.01, se rechaza la hipótesis de que la media sea mayor o igual a 7.5 con una confianza del 99%."
      ]
    },
    {
      "cell_type": "markdown",
      "metadata": {
        "id": "OWx1N0iSfMOj"
      },
      "source": [
        "Tanto el cálculo de la cota superior como el del p-value consiguen la misma conclusión. Esto es porque en la cota se calcula el intervalo donde hay 99% de probabilidad de encontrar el valor real y 7.5 no se encuentra en el conjunto de datos. Por su parte, la prueba de hipótesis estudia la distancia entre el promedio de la muestra y 7.5, esa distancia se mide a partir de 7.5, pero también se determina un intervalo del 99% de confianza.\n",
        "\n",
        "En realidad, se puede afirmar que la diferencia entre los cálculos es qué valor se toma como referencia, pero el intervalo de valores en ambos casos significa lo mismo."
      ]
    },
    {
      "cell_type": "markdown",
      "metadata": {
        "id": "nzb5M-hVVmup"
      },
      "source": [
        "### 10.37"
      ]
    },
    {
      "cell_type": "markdown",
      "metadata": {
        "id": "PhxR4sLhVmuy"
      },
      "source": [
        "__Se realizó un experimento de diferencia pareada para comparar las medias de dos poblaciones:__\n",
        "\n",
        "_Población 1_: 1.3 1.6 1.1 1.4 1.7\n",
        "_Población 2_: 1.2 1.5 1.1 1.2 1.8\n",
        "\n",
        "__(a) ¿Los datos dan suficiente evidencia para indicar que m1 difiere de m2?__\n",
        "\n",
        "__(b) Encuentre el valor p aproximado para la prueba e interprete su valor.__\n",
        "\n",
        "__(c) Encuentre un intervalo de confianza del 95% para m1-m2. Compare su interpretación del intervalo de confianza con sus resultados de la prueb en el inciso a.__\n",
        "\n",
        "__(d) ¿Qué suposiciones se deben hacer para lograr que sus inferencias sean válidas?__"
      ]
    },
    {
      "cell_type": "code",
      "metadata": {
        "id": "mU9qXcyQVmu0"
      },
      "source": [
        "# Las muestras\n",
        "poblacion.1 <- c(1.3, 1.6, 1.1, 1.4, 1.7)\n",
        "poblacion.2 <- c(1.2, 1.5, 1.1, 1.2, 1.8)\n",
        "\n",
        "diferencias <- poblacion.1-poblacion.2\n",
        "\n",
        "mean.diff <- mean(diferencias)\n",
        "\n",
        "std.diff <- sd(diferencias)\n",
        "\n",
        "n <- length(diferencias)"
      ],
      "execution_count": 10,
      "outputs": []
    },
    {
      "cell_type": "code",
      "metadata": {
        "colab": {
          "base_uri": "https://localhost:8080/",
          "height": 0
        },
        "id": "haLLFgZQqaO7",
        "outputId": "af563383-9924-421e-a71f-3c4f3764c7fa"
      },
      "source": [
        "# Se calcula el p-value con diferencias pareadas\n",
        "p.value <- pt((mean.diff-0)/(std.diff/sqrt(n)), df=n-1)\n",
        "\n",
        "p.value"
      ],
      "execution_count": 11,
      "outputs": [
        {
          "output_type": "display_data",
          "data": {
            "text/plain": [
              "[1] 0.8477206"
            ],
            "text/latex": "0.847720607659733",
            "text/markdown": "0.847720607659733",
            "text/html": [
              "0.847720607659733"
            ]
          },
          "metadata": {}
        }
      ]
    },
    {
      "cell_type": "markdown",
      "metadata": {
        "id": "p8l4SjD-rHkZ"
      },
      "source": [
        "Como el p-value (así como también su complemento) es mayor a 0.05, se infiere que no hay suficiente evidencia para afirmar que ambas muestras son diferentes. El p-value sugiere que la dispersión de los elementos de las  muestras sólo sugiere que las dos distribuciones están solapadas."
      ]
    },
    {
      "cell_type": "code",
      "metadata": {
        "colab": {
          "base_uri": "https://localhost:8080/",
          "height": 0
        },
        "id": "zL5EaZ7gVmu0",
        "outputId": "9cc3536b-fdb0-4e6c-f501-16d306a5b19f"
      },
      "source": [
        "# Se calcula el intervalo de confianza\n",
        "t.score <- qt(0.95, df=n-1)\n",
        "\n",
        "(cota.inferior <- mean.diff - t.score*std.diff/sqrt(n))\n",
        "(cota.superior <- mean.diff + t.score*std.diff/sqrt(n))"
      ],
      "execution_count": 12,
      "outputs": [
        {
          "output_type": "display_data",
          "data": {
            "text/plain": [
              "[1] -0.04870328"
            ],
            "text/latex": "-0.0487032836346965",
            "text/markdown": "-0.0487032836346965",
            "text/html": [
              "-0.0487032836346965"
            ]
          },
          "metadata": {}
        },
        {
          "output_type": "display_data",
          "data": {
            "text/plain": [
              "[1] 0.1687033"
            ],
            "text/latex": "0.168703283634697",
            "text/markdown": "0.168703283634697",
            "text/html": [
              "0.168703283634697"
            ]
          },
          "metadata": {}
        }
      ]
    },
    {
      "cell_type": "markdown",
      "metadata": {
        "id": "6x3aKjMVVmu1"
      },
      "source": [
        "El intervalo de confianza del 95% de la distribución de la diferencia de las muestras contiene a 0, por lo que no puede afirmarse dentro del nivel de confianza que ambas muestras sean diferentes."
      ]
    },
    {
      "cell_type": "markdown",
      "metadata": {
        "id": "lyx2jZz2tFDv"
      },
      "source": [
        "No parece haber suposiciones suficientes que hagan válida la prueba, visto el valor del p-value, más allá de suponer que no se trata de una distribución con forma de campana. Lo que se puede hacer es hacer muestras más grandes, en espera de disminuir el error estándar así como aumentar el tamaño de las muestras."
      ]
    },
    {
      "cell_type": "markdown",
      "metadata": {
        "id": "Ij_LKwbbinRP"
      },
      "source": [
        "## Biostatistics: A Foundation for Analysis in the Health Sciences\n",
        "### Wayne W. Daniel & Chad L. Cross"
      ]
    },
    {
      "cell_type": "markdown",
      "metadata": {
        "id": "apc8tASFinRQ"
      },
      "source": [
        "### 7.2.2\n"
      ]
    },
    {
      "cell_type": "markdown",
      "metadata": {
        "id": "Y3hSJ6UMv_fJ"
      },
      "source": [
        "__A study by Thienprasiddhi et al. examined a sample of 16 subjects with open-angle glaucoma and unilateral hemifield defects. The ages (years) of the subjects were:__\n",
        "\n",
        "62 62 68 48 51 60 51 57\n",
        "\n",
        "57 41 62 50 53 34 62 61\n",
        "\n",
        "__Can we conclude that the mean age of the population from which the sample may be presumed to have been drawn is less than 60 years?__"
      ]
    },
    {
      "cell_type": "code",
      "metadata": {
        "colab": {
          "base_uri": "https://localhost:8080/",
          "height": 0
        },
        "id": "hu30FOFnVgyW",
        "outputId": "ce6601b0-dbd1-4d91-ce63-fd27d1430751"
      },
      "source": [
        "# Se leen los datos de la muestra\n",
        "data <- c(62, 62, 68, 48, 51, 60, 51, 57,\n",
        "          57, 41, 62, 50, 53, 34, 62, 61)\n",
        "\n",
        "# Se hace una prueba t unilateral (H0: mu >= 60 años)\n",
        "t.test(data, mu=60, alternative = \"less\")"
      ],
      "execution_count": 13,
      "outputs": [
        {
          "output_type": "display_data",
          "data": {
            "text/plain": [
              "\n",
              "\tOne Sample t-test\n",
              "\n",
              "data:  data\n",
              "t = -2.2822, df = 15, p-value = 0.01874\n",
              "alternative hypothesis: true mean is less than 60\n",
              "95 percent confidence interval:\n",
              "     -Inf 58.82618\n",
              "sample estimates:\n",
              "mean of x \n",
              "  54.9375 \n"
            ]
          },
          "metadata": {}
        }
      ]
    },
    {
      "cell_type": "markdown",
      "metadata": {
        "id": "fUTv25ZGWQUE"
      },
      "source": [
        "Como la cota superior del intervalo de confianza del 95% del promedio de la muestra no contiene a 60, se infiere que hay evidencia suficiente para inferir que la media es menor a 60 años."
      ]
    },
    {
      "cell_type": "markdown",
      "metadata": {
        "id": "WcU0PSHDywL_"
      },
      "source": [
        "### 7.2.12\n"
      ]
    },
    {
      "cell_type": "markdown",
      "metadata": {
        "id": "DfMLWnQoywML"
      },
      "source": [
        "__The following data are the oxygen uptakes (milimiters) during incubation of a random sample of 15 cell suspensions:__\n",
        "\n",
        "14.0 14.1 14.5 13.2 11.2 14.0 14.1 12.2\n",
        "\n",
        "11.1 13.7 13.2 16.0 12.8 14.4 12.9\n",
        "\n",
        "__Do these data provide sufficient evidence at the .05 level of significance that the population mean is not 12 ml? What assumptions are necessary?__"
      ]
    },
    {
      "cell_type": "code",
      "metadata": {
        "colab": {
          "base_uri": "https://localhost:8080/",
          "height": 0
        },
        "id": "CLjcOBr5XeGD",
        "outputId": "5ef50d66-50ea-43a2-d176-687f50b3b426"
      },
      "source": [
        "# La muestra\n",
        "data <- c(14.0, 14.1, 14.5, 13.2, 11.2, 14.0, 14.1, 12.2,\n",
        "          11.1, 13.7, 13.2, 16.0, 12.8, 14.4, 12.9)\n",
        "\n",
        "# Se hace la prueba t bilateral (H0: mu=12 ml)\n",
        "t.test(data, mu=12)"
      ],
      "execution_count": 14,
      "outputs": [
        {
          "output_type": "display_data",
          "data": {
            "text/plain": [
              "\n",
              "\tOne Sample t-test\n",
              "\n",
              "data:  data\n",
              "t = 4.31, df = 14, p-value = 0.0007195\n",
              "alternative hypothesis: true mean is not equal to 12\n",
              "95 percent confidence interval:\n",
              " 12.71672 14.13661\n",
              "sample estimates:\n",
              "mean of x \n",
              " 13.42667 \n"
            ]
          },
          "metadata": {}
        }
      ]
    },
    {
      "cell_type": "markdown",
      "metadata": {
        "id": "vtKBMlnpYFeU"
      },
      "source": [
        "Si se supone que la muestra pertenece a una distribución aproximadamente normal (para poder usar una prueba t), entonces se infiere que, con 95% de confianza, el valor de la media es distinto de 12 ml."
      ]
    },
    {
      "cell_type": "markdown",
      "metadata": {
        "id": "BlCG0t7r-64-"
      },
      "source": [
        "### 7.2.18\n"
      ]
    },
    {
      "cell_type": "markdown",
      "metadata": {
        "id": "5C6aNgPi-65A"
      },
      "source": [
        "__A research team is willing to assume that systolic blood pressures in a certain population of males are approximately normally distributed with a standard deviation of 16.__\n",
        "\n",
        "__A simple random sample of 64 males from the population had a mean systolic blood pressure reading of 133.__\n",
        "\n",
        "__At the .05 level of significance, do these data provide sufficient evidence for us to conclude that the population mean is greater than 130?.__"
      ]
    },
    {
      "cell_type": "code",
      "metadata": {
        "colab": {
          "base_uri": "https://localhost:8080/",
          "height": 0
        },
        "id": "F-24CqFEYyFM",
        "outputId": "0084d6b3-3bd4-41ee-aaaa-9de678001ef1"
      },
      "source": [
        "# La media, la desviación y el tamaño de la muestra\n",
        "mean <- 133\n",
        "std <- 16\n",
        "n <- 64\n",
        "\n",
        "# Se realiza la prueba de  hipótesis (H0: mu <= 130)\n",
        "( p <- pnorm( (mean-130)/(std/sqrt(n)) ) )"
      ],
      "execution_count": 15,
      "outputs": [
        {
          "output_type": "display_data",
          "data": {
            "text/plain": [
              "[1] 0.9331928"
            ],
            "text/latex": "0.933192798731142",
            "text/markdown": "0.933192798731142",
            "text/html": [
              "0.933192798731142"
            ]
          },
          "metadata": {}
        }
      ]
    },
    {
      "cell_type": "markdown",
      "metadata": {
        "id": "1qqPPnRBZfPV"
      },
      "source": [
        "Como el p-value del estadístico de prueba es menor a 0.95 (que correspondería a la cota superior del intervalo de confainza del 95%), se infiere que no hay evidencia suficiente para inferir que la media de la población es mayor a 130."
      ]
    },
    {
      "cell_type": "markdown",
      "metadata": {
        "id": "peQ3nfDkVHQW"
      },
      "source": [
        "### 7.3.10"
      ]
    },
    {
      "cell_type": "markdown",
      "metadata": {
        "id": "V4xXFai5VHQs"
      },
      "source": [
        "__Researchers wished to know if they could conclude that two populations of infants differ with respect to mean age at which they walked alone. The following data (ages in months) were collected:__\n",
        "\n",
        "_Sample from population A_: 9.5, 10.5, 9.0, 9.75, 10.0, 13.0,\n",
        "10.0, 13.5, 10.0, 9.5, 10.0, 9.75\n",
        "\n",
        "_Sample from population B_: 12.5, 9.5, 13.5, 13.75, 12.0, 13.75,\n",
        "12.5, 9.5, 12.0, 13.5, 12.0, 12.0\n",
        "\n",
        "__What should the researchers conclude?:__"
      ]
    },
    {
      "cell_type": "code",
      "metadata": {
        "colab": {
          "base_uri": "https://localhost:8080/",
          "height": 0
        },
        "id": "GdhfU3lFaIlh",
        "outputId": "519d5098-f287-424c-eddf-ea19d9df8c5e"
      },
      "source": [
        "# Las muestras\n",
        "data.A <- c(9.5, 10.5, 9.0, 9.75, 10.0, 13.0,\n",
        "            10.0, 13.5, 10.0, 9.5, 10.0, 9.75)\n",
        "\n",
        "data.B <- c(12.5, 9.5, 13.5, 13.75, 12.0, 13.75,\n",
        "            12.5, 9.5, 12.0, 13.5, 12.0, 12.0)\n",
        "\n",
        "# Se hace una prueba t bilateral con varianzas diferentes\n",
        "t.test(data.A, data.B)"
      ],
      "execution_count": 16,
      "outputs": [
        {
          "output_type": "display_data",
          "data": {
            "text/plain": [
              "\n",
              "\tWelch Two Sample t-test\n",
              "\n",
              "data:  data.A and data.B\n",
              "t = -3.1561, df = 21.969, p-value = 0.004587\n",
              "alternative hypothesis: true difference in means is not equal to 0\n",
              "95 percent confidence interval:\n",
              " -3.0381298 -0.6285368\n",
              "sample estimates:\n",
              "mean of x mean of y \n",
              " 10.37500  12.20833 \n"
            ]
          },
          "metadata": {}
        }
      ]
    },
    {
      "cell_type": "markdown",
      "metadata": {
        "id": "P0GW4QIJaqZJ"
      },
      "source": [
        "Dado que el intervalo de confianza del 95% de la diferencia no contiene a 0, se infiere que la media de las muestras es diferente."
      ]
    },
    {
      "cell_type": "markdown",
      "metadata": {
        "id": "6zzg8W7DflCu"
      },
      "source": [
        "### 7.5.2"
      ]
    },
    {
      "cell_type": "markdown",
      "metadata": {
        "id": "-QqBomCQflDK"
      },
      "source": [
        "__In an article in the journal Health and Place, Hui and Bell found that among 2428 boys ages 7 to 12 years, 461 were overweight or obese.__\n",
        "\n",
        "__On the basis of this study, can we conclude that more than 15 percent of the boys ages 7 to 12 in the sampled population are obese or overweight?__"
      ]
    },
    {
      "cell_type": "code",
      "metadata": {
        "id": "I_YimzPsu87t",
        "colab": {
          "base_uri": "https://localhost:8080/",
          "height": 0
        },
        "outputId": "16e42cc0-3264-456e-a0a3-3c1c1dd86534"
      },
      "source": [
        "# Los datos de la muestra\n",
        "n <- 2428 # Tamaño\n",
        "x <- 461 # Casos \"favorables\"\n",
        "\n",
        "# La proporción teórica\n",
        "p.teorica <- 0.15\n",
        "\n",
        "# Se hace una prueba de proporciones\n",
        "binom.test(x, n, p.teorica, alternative = \"greater\")"
      ],
      "execution_count": 17,
      "outputs": [
        {
          "output_type": "display_data",
          "data": {
            "text/plain": [
              "\n",
              "\tExact binomial test\n",
              "\n",
              "data:  x and n\n",
              "number of successes = 461, number of trials = 2428, p-value = 5.74e-08\n",
              "alternative hypothesis: true probability of success is greater than 0.15\n",
              "95 percent confidence interval:\n",
              " 0.1768519 1.0000000\n",
              "sample estimates:\n",
              "probability of success \n",
              "             0.1898682 \n"
            ]
          },
          "metadata": {}
        }
      ]
    },
    {
      "cell_type": "markdown",
      "metadata": {
        "id": "tkktp9Q_b4mb"
      },
      "source": [
        "Dado que la cota inferior del intervalo de confianza del 95% de la proporción de la muestra no contiene a 0.15, se infiere que la proporción poblacional es mayor a 0.15."
      ]
    },
    {
      "cell_type": "markdown",
      "metadata": {
        "id": "okX1ts4Xu9RB"
      },
      "source": [
        "### 7.8.7"
      ]
    },
    {
      "cell_type": "markdown",
      "metadata": {
        "id": "iwt6Y32fu9RC"
      },
      "source": [
        "__Independent simple random samples from two strains of mice used in an experiment yielded the following measurements on plasma glucose levels following a traumatic experience:__\n",
        "\n",
        "_Strain A_: 54; 99; 105; 46; 70; 87; 55; 58; 139; 91\n",
        "\n",
        "_Strain B_: 93; 91; 93; 150; 80; 104; 128; 83; 88; 95; 94; 97\n",
        "\n",
        "__Do these data provide sufficient evidence to indicate that the variance is larger in the population of strain A mice than in the population of strain B mice? Let a ¼ :05. What assumptions are necessary?__"
      ]
    },
    {
      "cell_type": "code",
      "metadata": {
        "colab": {
          "base_uri": "https://localhost:8080/",
          "height": 34
        },
        "id": "wGzSbPZNdB8Z",
        "outputId": "31e0096c-d42c-424e-cef4-15e1a40c4635"
      },
      "source": [
        "# Las muestras\n",
        "data.A <- c(54, 99, 105, 46, 70, 87, 55, 58, 139, 91)\n",
        "\n",
        "data.B <- c(93, 91, 93, 150, 80, 104, 128, 83, 88, 95, 94, 97)\n",
        "\n",
        "# Se calculan las varianzas y los tamaños de las muestras\n",
        "var.A <- var(data.A)\n",
        "var.B <- var(data.B)\n",
        "\n",
        "n.A <- length(data.A)\n",
        "n.B <- length(data.B)\n",
        "\n",
        "# Se calcula el p-value de la distribución de Fisher\n",
        "pf(var.A/var.B, df1 = n.A-1, df2 = n.B-1)"
      ],
      "execution_count": 18,
      "outputs": [
        {
          "output_type": "display_data",
          "data": {
            "text/plain": [
              "[1] 0.883175"
            ],
            "text/latex": "0.883175046729066",
            "text/markdown": "0.883175046729066",
            "text/html": [
              "0.883175046729066"
            ]
          },
          "metadata": {}
        }
      ]
    },
    {
      "cell_type": "code",
      "metadata": {
        "colab": {
          "base_uri": "https://localhost:8080/",
          "height": 34
        },
        "id": "iOXQ9SnZrPLz",
        "outputId": "9147d3e7-5b88-472a-e619-3105865b59e6"
      },
      "source": [
        "# La proporción de las varianzas\n",
        "var.A/var.B"
      ],
      "execution_count": 19,
      "outputs": [
        {
          "output_type": "display_data",
          "data": {
            "text/plain": [
              "[1] 2.141744"
            ],
            "text/latex": "2.14174402678436",
            "text/markdown": "2.14174402678436",
            "text/html": [
              "2.14174402678436"
            ]
          },
          "metadata": {}
        }
      ]
    },
    {
      "cell_type": "markdown",
      "metadata": {
        "id": "3ceCuCFRfRLe"
      },
      "source": [
        "Como el p-value es menor a 0.95, se  infiere que no hay evidencia suficiente para afirmar que la varianza de la muestra A es mayor que la de la muestra B. Todo esto es válido si se supone que las varianzas poblacionales son, a priori, iguales."
      ]
    },
    {
      "cell_type": "markdown",
      "metadata": {
        "id": "jdn5AJe4u-ui"
      },
      "source": [
        "### 7.10.2"
      ]
    },
    {
      "cell_type": "markdown",
      "metadata": {
        "id": "fZ3YwEumu-ui"
      },
      "source": [
        "__Given:__\n",
        "\n",
        "H0: m <= 4.500;\n",
        "\n",
        "HA: m > 4.500\n",
        "\n",
        "__With__ n = 16; s = 0.020; a = 0.01\n",
        "\n",
        "__Let__ b = 0.05 and m1 = 4.52,\n",
        "__and find n and C. State the appropriate decision rule.__"
      ]
    },
    {
      "cell_type": "code",
      "metadata": {
        "colab": {
          "base_uri": "https://localhost:8080/",
          "height": 34
        },
        "id": "mURTNbEXjcty",
        "outputId": "faed9eb2-fc94-4744-9f82-60059b328c60"
      },
      "source": [
        "# Los datos del ejercicio\n",
        "mean.0 <- 4.500 # Hipótesis nula\n",
        "std <- 0.02\n",
        "n <- 16\n",
        "\n",
        "alpha <- 0.01 # Significancia\n",
        "beta <- 0.05 # El complemento de la potencia\n",
        "mean.1 <- 4.520 # Hipótesis 1\n",
        "\n",
        "# Se calculan los z scores de mu0 y mu1\n",
        "z.0 <- qnorm(0.95)\n",
        "z.1 <- qnorm(0.99)\n",
        "\n",
        "# Se calcula el tamaño apropiado de la muestra\n",
        "(n.apropiado <- round(( (z.0+z.1)*std/(mean.0-mean.1) )**2) )"
      ],
      "execution_count": 20,
      "outputs": [
        {
          "output_type": "display_data",
          "data": {
            "text/plain": [
              "[1] 16"
            ],
            "text/latex": "16",
            "text/markdown": "16",
            "text/html": [
              "16"
            ]
          },
          "metadata": {}
        }
      ]
    },
    {
      "cell_type": "markdown",
      "metadata": {
        "id": "hoXwG6bSpFSs"
      },
      "source": [
        "El tamaño apropiado es n=16."
      ]
    },
    {
      "cell_type": "code",
      "metadata": {
        "colab": {
          "base_uri": "https://localhost:8080/",
          "height": 34
        },
        "id": "oDeuAXawo3OT",
        "outputId": "0edb989d-ce64-4203-9f5b-ee783f82757d"
      },
      "source": [
        "# Se calcula C\n",
        "(C <- mean.0 + z.0*(std/sqrt(n.apropiado)))"
      ],
      "execution_count": 21,
      "outputs": [
        {
          "output_type": "display_data",
          "data": {
            "text/plain": [
              "[1] 4.508224"
            ],
            "text/latex": "4.50822426813476",
            "text/markdown": "4.50822426813476",
            "text/html": [
              "4.50822426813476"
            ]
          },
          "metadata": {}
        }
      ]
    },
    {
      "cell_type": "markdown",
      "metadata": {
        "id": "zegns03Tp89u"
      },
      "source": [
        "El valor crítico es C=4.508"
      ]
    },
    {
      "cell_type": "markdown",
      "metadata": {
        "id": "XbOfXIrgqGPs"
      },
      "source": [
        "Por lo tanto, la regla para determinar si H0 es apropiada o no es:\n",
        "_Seleccione una muestra aleatoria de tamaño 16 y compute su promedio. Si el promedio es mayor a 4.508, se rechaza H0. Si el promedio es menor a 4.508, no se rechaza H0._"
      ]
    }
  ]
}