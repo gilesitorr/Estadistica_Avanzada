{
  "nbformat": 4,
  "nbformat_minor": 0,
  "metadata": {
    "colab": {
      "name": "EA_parcial2_tarea4.ipynb",
      "provenance": [],
      "collapsed_sections": [
        "apc8tASFinRQ",
        "WcU0PSHDywL_",
        "BlCG0t7r-64-"
      ],
      "include_colab_link": true
    },
    "kernelspec": {
      "name": "ir",
      "display_name": "R"
    },
    "language_info": {
      "name": "R"
    }
  },
  "cells": [
    {
      "cell_type": "markdown",
      "metadata": {
        "id": "view-in-github",
        "colab_type": "text"
      },
      "source": [
        "<a href=\"https://colab.research.google.com/github/gilesitorr/Estadistica_Avanzada/blob/main/Parcial_2/Tarea_4/EA_parcial2_tarea4.ipynb\" target=\"_parent\"><img src=\"https://colab.research.google.com/assets/colab-badge.svg\" alt=\"Open In Colab\"/></a>"
      ]
    },
    {
      "cell_type": "markdown",
      "metadata": {
        "id": "pW1HRSR2Gr3s"
      },
      "source": [
        "# __Estadística Avanzada__\n",
        "# Parcial 2 - Tarea 4\n",
        "## _Gil Estéfano Rodríguez Rivera_"
      ]
    },
    {
      "cell_type": "markdown",
      "metadata": {
        "id": "BnmoSaZN_6YD"
      },
      "source": [
        "Todas las bases de datos utilizadas así como el desarrollo se encuentra en _GitHub_ en https://github.com/gilesitorr/Estadistica_Avanzada/tree/main/Parcial_2/Tarea_4\n",
        "\n",
        "__Nota:__ En este Notebook se usó el kernel de R, aunque la extensión sea ipynb."
      ]
    },
    {
      "cell_type": "code",
      "metadata": {
        "id": "G-t3LbBtXXRE"
      },
      "source": [
        "# Antes de comenzar, se importan las librerías a usar\n",
        "library(dplyr)"
      ],
      "execution_count": null,
      "outputs": []
    },
    {
      "cell_type": "markdown",
      "metadata": {
        "id": "Ij_LKwbbinRP"
      },
      "source": [
        "## Biostatistics: A Foundation for Analysis in the Health Sciences\n",
        "### Wayne W. Daniel & Chad L. Cross"
      ]
    },
    {
      "cell_type": "markdown",
      "metadata": {
        "id": "apc8tASFinRQ"
      },
      "source": [
        "### 12.3.1\n"
      ]
    },
    {
      "cell_type": "markdown",
      "metadata": {
        "id": "Y3hSJ6UMv_fJ"
      },
      "source": [
        "__The following table shows the distribution of uric acid determinations taken on 250 patients. Test the goodness-of-fit of these data to a normal distribution with $\\mu=5.74$ and $\\sigma=2.01$. Let $\\alpha=0.01$.__\n",
        "\n",
        "< 1, 1 \n",
        "\n",
        "1 to 1.99, 5 \n",
        "\n",
        "2 to 2.99, 15 \n",
        "\n",
        "3 to 3.99, 24 \n",
        "\n",
        "4 to 4.99, 43 \n",
        "\n",
        "5 to 5.99, 50\n",
        "\n",
        "6 to 6.99, 45\n",
        "\n",
        "7 to 7.99, 30\n",
        "\n",
        "8 to 8.99, 22\n",
        "\n",
        "9 to 9.99, 10\n",
        "\n",
        "10 or higher, 5"
      ]
    },
    {
      "cell_type": "code",
      "metadata": {
        "id": "1qlFQYm3Om_U"
      },
      "source": [
        "# Los parámetros de la distribución propuesta\n",
        "mu <- 5.74\n",
        "sigma <- 2.01\n",
        "\n",
        "# Los datos\n",
        "\n",
        "# Las cotas inferiores de los grupos (usa -1000 en lugar de -infinito porque\n",
        "# en la práctica es equivalente)\n",
        "inferior <- c(-1000, 1, 2, 3, 4, 5, 6, 7, 8, 9, 10)\n",
        "# Las cotas superiores de los grupos (usa 1000 en lugar de infinito porque\n",
        "# en la práctica y en este contexto es equivalente)\n",
        "superior <- c(1, 2, 3, 4, 5, 6, 7, 8, 9, 10, 1000)\n",
        "# Las frecuencias de cada grupo\n",
        "values <- c(1, 5, 15, 24, 43, 50, 45, 30, 22, 10, 5)\n",
        "\n",
        "# El tamaño de la muestra\n",
        "numero <- sum(values)\n",
        "\n",
        "# Se ajustan las frecuencias esperadas\n",
        "esperadas <- numero*(pnorm((superior-mu)/sigma)-pnorm((inferior-mu)/sigma))"
      ],
      "execution_count": 50,
      "outputs": []
    },
    {
      "cell_type": "code",
      "metadata": {
        "colab": {
          "base_uri": "https://localhost:8080/",
          "height": 35
        },
        "id": "eYQxcElxSNv5",
        "outputId": "b189891b-adfd-475c-f16e-735f3a429107"
      },
      "source": [
        "# Se calcula el estadístico de prueba\n",
        "diferencias <- (values-esperadas)**2/esperadas\n",
        "(chi_2 <- sum(diferencias))"
      ],
      "execution_count": 64,
      "outputs": [
        {
          "output_type": "display_data",
          "data": {
            "text/plain": [
              "[1] 2.359194"
            ],
            "text/latex": "2.35919391118015",
            "text/markdown": "2.35919391118015",
            "text/html": [
              "2.35919391118015"
            ]
          },
          "metadata": {}
        }
      ]
    },
    {
      "cell_type": "code",
      "metadata": {
        "colab": {
          "base_uri": "https://localhost:8080/",
          "height": 35
        },
        "id": "TfXJprJbTrTW",
        "outputId": "0a5095fb-da06-4509-f954-bb966eadf5b1"
      },
      "source": [
        "# Se calcula el p-value\n",
        "pchisq(chi_2, length(values)-1, lower.tail = FALSE)"
      ],
      "execution_count": 75,
      "outputs": [
        {
          "output_type": "display_data",
          "data": {
            "text/plain": [
              "[1] 0.9927726"
            ],
            "text/latex": "0.992772623899238",
            "text/markdown": "0.992772623899238",
            "text/html": [
              "0.992772623899238"
            ]
          },
          "metadata": {}
        }
      ]
    },
    {
      "cell_type": "markdown",
      "metadata": {
        "id": "yJ0DtVprGlIT"
      },
      "source": [
        "Con un p-value de 0.99 no se puede rechazar la hipótesis nula de que la muestra agrupada sigue una distribución normal. Al contrario, es casi completamente seguro afirmar que sí siga esa distribución, por el p-value tan alto."
      ]
    },
    {
      "cell_type": "markdown",
      "metadata": {
        "id": "WcU0PSHDywL_"
      },
      "source": [
        "### 12.3.5\n"
      ]
    },
    {
      "cell_type": "markdown",
      "metadata": {
        "id": "7qS3hlTKa8iy"
      },
      "source": [
        "__The following are the numbers of a particular organism found in 100 samples of water from a pond:__\n",
        "\n",
        "0, 15 \n",
        "\n",
        "1, 30 \n",
        "\n",
        "2, 25 \n",
        "\n",
        "3, 20 \n",
        "\n",
        "4, 5\n",
        "\n",
        "5, 4\n",
        "\n",
        "6, 1\n",
        "\n",
        "7, 0\n",
        "\n",
        "\n",
        "Test the null hypothesis that these data were drawn from a Poisson distribution. Determine the p value for this test."
      ]
    },
    {
      "cell_type": "code",
      "metadata": {
        "colab": {
          "base_uri": "https://localhost:8080/",
          "height": 35
        },
        "id": "MONUF_Y-Vqq4",
        "outputId": "ea3f269b-7423-4b52-b389-60fdb476c52c"
      },
      "source": [
        "# Los valores y sus frecuencias\n",
        "labels <- 0:7\n",
        "values <- c(15, 30, 25, 20, 5, 4, 1, 0)\n",
        "\n",
        "# El tamaño de la muestra\n",
        "numero <- sum(values)\n",
        "\n",
        "# Se usa que el promedio de la distribución de Poisson es igual al parámmetro\n",
        "# de la distribución, lambda. Esto se hace para determinar la distribución de\n",
        "# Poisson que se ajustará\n",
        "(mean <- sum(labels*values/numero))\n",
        "\n",
        "# Se calcula la distribución de frecuencias esperadas\n",
        "esperadas <- numero*(exp(-mean)*(mean**labels)/factorial(labels))"
      ],
      "execution_count": 1,
      "outputs": [
        {
          "output_type": "display_data",
          "data": {
            "text/plain": [
              "[1] 1.86"
            ],
            "text/latex": "1.86",
            "text/markdown": "1.86",
            "text/html": [
              "1.86"
            ]
          },
          "metadata": {}
        }
      ]
    },
    {
      "cell_type": "code",
      "metadata": {
        "colab": {
          "base_uri": "https://localhost:8080/",
          "height": 35
        },
        "id": "q4uvPO6hVwXC",
        "outputId": "e53e3405-fbba-4bc4-e893-e1e94a132dca"
      },
      "source": [
        "# Se calcula el estadístico de prueba\n",
        "diferencias <- (values-esperadas)**2/esperadas\n",
        "(chi_2 <- sum(diferencias))"
      ],
      "execution_count": 79,
      "outputs": [
        {
          "output_type": "display_data",
          "data": {
            "text/plain": [
              "[1] 2.512458"
            ],
            "text/latex": "2.51245836534592",
            "text/markdown": "2.51245836534592",
            "text/html": [
              "2.51245836534592"
            ]
          },
          "metadata": {}
        }
      ]
    },
    {
      "cell_type": "code",
      "metadata": {
        "colab": {
          "base_uri": "https://localhost:8080/",
          "height": 35
        },
        "id": "xppmPVbLVyqh",
        "outputId": "17f74fa9-cc8a-48af-b998-61ba001b93e5"
      },
      "source": [
        "# Se calcula el p-value\n",
        "# En los grados de libertad se considera la restricción de que se calcula\n",
        "# \"a mano\" el parámetro de la distribución\n",
        "pchisq(chi_2, length(values)-2, lower.tail = FALSE)"
      ],
      "execution_count": 80,
      "outputs": [
        {
          "output_type": "display_data",
          "data": {
            "text/plain": [
              "[1] 0.8670708"
            ],
            "text/latex": "0.867070778571095",
            "text/markdown": "0.867070778571095",
            "text/html": [
              "0.867070778571095"
            ]
          },
          "metadata": {}
        }
      ]
    },
    {
      "cell_type": "markdown",
      "metadata": {
        "id": "7PQQiUN5Hlwf"
      },
      "source": [
        "Con un p-value de 0.87, no se puede rechazar la hipótesis nula de que la muestra agrupada sigue una distribución de Poisson con $\\lambda=1.86$."
      ]
    },
    {
      "cell_type": "markdown",
      "metadata": {
        "id": "BlCG0t7r-64-"
      },
      "source": [
        "### 12.4.6\n"
      ]
    },
    {
      "cell_type": "markdown",
      "metadata": {
        "id": "5C6aNgPi-65A"
      },
      "source": [
        "__The following table shows the results of a survey in which the subjects were a sample of 300 adults residing in a certain metropolitan area. Each subject was asked to indicate which of three policies they favored with respect to smoking in public places.__\n",
        "\n",
        "Can one conclude from these data that, in the sampled population, there is a relationship between level of education and attitude toward smoking in public places? Let $\\alpha = 0.05$."
      ]
    },
    {
      "cell_type": "code",
      "metadata": {
        "id": "vunihcNLj0ta"
      },
      "source": [
        "# Se define la tabla de contingencia a estudiar\n",
        "matriz <- t(matrix(c(5, 44, 23, 3, 75)))\n",
        "matriz <- rbind(matriz, c(15, 100, 30, 5, 150))\n",
        "matriz <- rbind(matriz, c(15, 40, 10, 10, 75))\n",
        "\n",
        "# El tamaño de la matriz\n",
        "dimension <- dim(matriz)\n",
        "\n",
        "# Se calculan las frecuencias marginales\n",
        "suma.columnas <- 1:dimension[2]\n",
        "for (i in 1:dimension[2]){\n",
        "  suma.columnas[i] <- sum(matriz[,i])\n",
        "}\n",
        "\n",
        "suma.filas <- 1:dimension[1]\n",
        "for (i in 1:dimension[1]){\n",
        "  suma.filas[i] <- sum(matriz[i,])\n",
        "}\n",
        "\n",
        "# El tamaño de la muestra\n",
        "total <- sum(suma.filas)\n",
        "\n",
        "# Se calculan las frecuencias esperadas\n",
        "esperadas <- matrix(1, nrow = dimension[1], ncol = dimension[2])\n",
        "for (i in 1:dimension[1]){\n",
        "  for (j in 1:dimension[2]){\n",
        "    esperadas[i,j] <- suma.filas[i]*suma.columnas[j]/total\n",
        "  }\n",
        "}"
      ],
      "execution_count": 111,
      "outputs": []
    },
    {
      "cell_type": "code",
      "metadata": {
        "colab": {
          "base_uri": "https://localhost:8080/",
          "height": 35
        },
        "id": "OHTITqZun5Op",
        "outputId": "b36c68fe-7b26-4b7f-84f1-548635a9d158"
      },
      "source": [
        "# Se calcula el estadístico de prueba\n",
        "diferencias <- (matriz-esperadas)**2/esperadas\n",
        "(chi_2 <- sum(diferencias))"
      ],
      "execution_count": 113,
      "outputs": [
        {
          "output_type": "display_data",
          "data": {
            "text/plain": [
              "[1] 22.50173"
            ],
            "text/latex": "22.5017253278123",
            "text/markdown": "22.5017253278123",
            "text/html": [
              "22.5017253278123"
            ]
          },
          "metadata": {}
        }
      ]
    },
    {
      "cell_type": "code",
      "metadata": {
        "colab": {
          "base_uri": "https://localhost:8080/",
          "height": 35
        },
        "id": "POGt7Ntaob1S",
        "outputId": "05b4d62a-ed22-460b-e9e5-73693f4ed076"
      },
      "source": [
        "# Se calcula el p-value\n",
        "pchisq(chi_2, (dimension[1]-1)*(dimension[2]-1), lower.tail = FALSE)"
      ],
      "execution_count": 116,
      "outputs": [
        {
          "output_type": "display_data",
          "data": {
            "text/plain": [
              "[1] 0.004066488"
            ],
            "text/latex": "0.00406648821965976",
            "text/markdown": "0.00406648821965976",
            "text/html": [
              "0.00406648821965976"
            ]
          },
          "metadata": {}
        }
      ]
    },
    {
      "cell_type": "markdown",
      "metadata": {
        "id": "Lke-NmHvIyzZ"
      },
      "source": [
        "Con un p-value de 0.0041, con una significancia de 0.05, se puede rechazar la hipótesis nula de que no haya relación entre variables. Por lo tanto, el nivel educativo sí tiene una influencia en la percepción sobre fumar en espacios públicos."
      ]
    },
    {
      "cell_type": "markdown",
      "metadata": {
        "id": "jkJVeytZwhdv"
      },
      "source": [
        "### 12.5.5"
      ]
    },
    {
      "cell_type": "markdown",
      "metadata": {
        "id": "kWL9K5WDpQbK"
      },
      "source": [
        "__In a simple random sample of 250 industrial workers with cancer, researchers found that 102 had worked at jobs classified as “high exposure” with respect to suspected cancer-causing agents. Of the remainder, 84 had worked at “moderate exposure” jobs, and 64 had experienced no known exposure because of their jobs. In an independent simple random sample of 250 industrial workers from the same area who had no history of cancer, 31 worked in “high exposure” jobs, 60 worked in “moderate exposure” jobs, and 159 worked in jobs involving no known exposure to suspected cancercausing agents. Does it appear from these data that persons working in jobs that expose them to suspected cancer-causing agents have an increased risk of contracting cancer? Let $\\alpha= 0.05$.__"
      ]
    },
    {
      "cell_type": "code",
      "metadata": {
        "id": "iiGdMomJphPw"
      },
      "source": [
        "# La tabla de contingencia\n",
        "matriz <- t(matrix(c(102, 84, 64)))\n",
        "matriz <- rbind(matriz, c(31, 60, 159))\n",
        "\n",
        "# El tamaño de la matriz\n",
        "dimension <- dim(matriz)\n",
        "\n",
        "# Las frecuencias marginales\n",
        "suma.columnas <- 1:dimension[2]\n",
        "for (i in 1:dimension[2]){\n",
        "  suma.columnas[i] <- sum(matriz[,i])\n",
        "}\n",
        "\n",
        "suma.filas <- 1:dimension[1]\n",
        "for (i in 1:dimension[1]){\n",
        "  suma.filas[i] <- sum(matriz[i,])\n",
        "}\n",
        "\n",
        "# El tamaño de la muestra\n",
        "total <- sum(suma.filas)\n",
        "\n",
        "# Se calculan las frecuencias esperadas\n",
        "esperadas <- matrix(1, nrow = dimension[1], ncol = dimension[2])\n",
        "for (i in 1:dimension[1]){\n",
        "  for (j in 1:dimension[2]){\n",
        "    esperadas[i,j] <- suma.filas[i]*suma.columnas[j]/total\n",
        "  }\n",
        "}"
      ],
      "execution_count": 117,
      "outputs": []
    },
    {
      "cell_type": "code",
      "metadata": {
        "colab": {
          "base_uri": "https://localhost:8080/",
          "height": 35
        },
        "id": "m7NEGa2Iucuq",
        "outputId": "e4b38de8-40cc-4a72-9762-38c98daff3cd"
      },
      "source": [
        "# El estadístico de prueba\n",
        "diferencias <- (matriz-esperadas)**2/esperadas\n",
        "(chi_2 <- sum(diferencias))"
      ],
      "execution_count": 118,
      "outputs": [
        {
          "output_type": "display_data",
          "data": {
            "text/plain": [
              "[1] 82.37311"
            ],
            "text/latex": "82.373107657035",
            "text/markdown": "82.373107657035",
            "text/html": [
              "82.373107657035"
            ]
          },
          "metadata": {}
        }
      ]
    },
    {
      "cell_type": "code",
      "metadata": {
        "colab": {
          "base_uri": "https://localhost:8080/",
          "height": 35
        },
        "id": "2mOOfpTsuebi",
        "outputId": "80ff26cd-59e5-47c0-af63-fb275c374ea4"
      },
      "source": [
        "# El p-value\n",
        "pchisq(chi_2, (dimension[1]-1)*(dimension[2]-1), lower.tail = FALSE)"
      ],
      "execution_count": 119,
      "outputs": [
        {
          "output_type": "display_data",
          "data": {
            "text/plain": [
              "[1] 1.296901e-18"
            ],
            "text/latex": "1.29690135398477e-18",
            "text/markdown": "1.29690135398477e-18",
            "text/html": [
              "1.29690135398477e-18"
            ]
          },
          "metadata": {}
        }
      ]
    },
    {
      "cell_type": "markdown",
      "metadata": {
        "id": "yYr3DtuVJzmF"
      },
      "source": [
        "Con un p-value de $1.3\\times10^{-18}$, para una significancia de 0.05, se puede rechazar la hipótesis nula de que no haya relación entre variables. Por lo tanto, el riesgo asociado a la exposición del trabajo en el que alguien se desempeña sí tiene influencia en su riesgo de contraer cáncer."
      ]
    },
    {
      "cell_type": "markdown",
      "metadata": {
        "id": "hUl4vg_ewnbT"
      },
      "source": [
        "### 12.6.1"
      ]
    },
    {
      "cell_type": "markdown",
      "metadata": {
        "id": "W_QU7a7rvApj"
      },
      "source": [
        "__The goal of a study by Tahmassebi and Curzon (A-13) was to determine if drooling in children with cerebral palsy is due to hypersalivation. One of the procedures toward that end was to examine the salivary buffering capacity of cerebral palsied children and controls. The following table gives the results.__\n",
        "\n",
        "Test for a significant difference between cerebral palsied children and controls with respect to high or low buffering capacity. Let $\\alpha=0.05$ and find the p value."
      ]
    },
    {
      "cell_type": "code",
      "metadata": {
        "id": "RIj_3eVwvsVo"
      },
      "source": [
        "# Los datos\n",
        "df <- data.frame(\n",
        "  \"palsy_no\" = c(3, 7),\n",
        "  \"palsy_yes\" = c(2, 8),\n",
        "  row.names = c(\"medium\", \"high\"),\n",
        "  stringsAsFactors = FALSE\n",
        ")\n",
        "\n",
        "colnames(df) <- c(\"Control\", \"Palsy\")\n",
        "\n",
        "df <- t(df)"
      ],
      "execution_count": 71,
      "outputs": []
    },
    {
      "cell_type": "code",
      "metadata": {
        "colab": {
          "base_uri": "https://localhost:8080/",
          "height": 129
        },
        "id": "ZcfWruK12cmI",
        "outputId": "5bcce28a-0501-49ae-fca1-7a1937de5036"
      },
      "source": [
        "df"
      ],
      "execution_count": 72,
      "outputs": [
        {
          "output_type": "display_data",
          "data": {
            "text/plain": [
              "        medium high\n",
              "Control 3      7   \n",
              "Palsy   2      8   "
            ],
            "text/latex": "A matrix: 2 × 2 of type dbl\n\\begin{tabular}{r|ll}\n  & medium & high\\\\\n\\hline\n\tControl & 3 & 7\\\\\n\tPalsy & 2 & 8\\\\\n\\end{tabular}\n",
            "text/markdown": "\nA matrix: 2 × 2 of type dbl\n\n| <!--/--> | medium | high |\n|---|---|---|\n| Control | 3 | 7 |\n| Palsy | 2 | 8 |\n\n",
            "text/html": [
              "<table class=\"dataframe\">\n",
              "<caption>A matrix: 2 × 2 of type dbl</caption>\n",
              "<thead>\n",
              "\t<tr><th></th><th scope=col>medium</th><th scope=col>high</th></tr>\n",
              "</thead>\n",
              "<tbody>\n",
              "\t<tr><th scope=row>Control</th><td>3</td><td>7</td></tr>\n",
              "\t<tr><th scope=row>Palsy</th><td>2</td><td>8</td></tr>\n",
              "</tbody>\n",
              "</table>\n"
            ]
          },
          "metadata": {}
        }
      ]
    },
    {
      "cell_type": "markdown",
      "metadata": {
        "id": "F0lnKQHBi8jV"
      },
      "source": [
        "Según la tabla J del libro (página A-57), como b=7, aunque la tabla no contiene explícitamente el valor, sí se sabe que el p-value si b=3, sería de p=0.035. Es decir, para b=7, se tiene un p-value de p>0.035. Por lo tanto, para una significancia del 0.05, se tiene que p>0.035>0.025. Es decir, no hay evidencia suficiente para rechazar la hipótesis nula de que hay diferencia entre el grupo de control y el de estudio."
      ]
    },
    {
      "cell_type": "code",
      "metadata": {
        "colab": {
          "base_uri": "https://localhost:8080/",
          "height": 208
        },
        "id": "__ZUpzQv161t",
        "outputId": "89bf5464-af00-46d9-b65e-6a04843b4eab"
      },
      "source": [
        "# Para confirmar, se realiza una prueba de Fisher para verificar el resultado\n",
        "fisher.test(df)"
      ],
      "execution_count": 75,
      "outputs": [
        {
          "output_type": "display_data",
          "data": {
            "text/plain": [
              "\n",
              "\tFisher's Exact Test for Count Data\n",
              "\n",
              "data:  df\n",
              "p-value = 1\n",
              "alternative hypothesis: true odds ratio is not equal to 1\n",
              "95 percent confidence interval:\n",
              "  0.1441618 25.6043943\n",
              "sample estimates:\n",
              "odds ratio \n",
              "  1.668591 \n"
            ]
          },
          "metadata": {}
        }
      ]
    },
    {
      "cell_type": "markdown",
      "metadata": {
        "id": "MkIIFEhNNFrL"
      },
      "source": [
        "Para un p-value similar a 1, se infiere que no se puede rechazar la hipótesis nula."
      ]
    },
    {
      "cell_type": "markdown",
      "metadata": {
        "id": "YcSuvCi4wpOE"
      },
      "source": [
        "### 12.7.5"
      ]
    },
    {
      "cell_type": "markdown",
      "metadata": {
        "id": "of_fNL7zrSm3"
      },
      "source": [
        "__According to Holben et al. (A-22), “Food insecurity implies a limited access to or availability of food or a limited/uncertain ability to acquire food in socially acceptable ways.” These researchers collected data on 297 families with a child in the Head Start nursery program in a rural area of Ohio near Appalachia. The main outcome variable of the study was household status relative to food security. Households that were not food secure are considered to be cases. The risk factor of interest was the absence of a garden from which a household was able to supplement its food supply. In the following table, the data are stratified by the head of household’s employment status outside the\n",
        "home.__\n",
        "\n",
        "Compute the Mantel–Haenszel common odds ratio with stratification by employment status. Use the Mantel–Haenszel chi-square test statistic to determine if we can conclude that there is an association between the risk factor and food insecurity. Let $\\alpha= 0.05$."
      ]
    },
    {
      "cell_type": "code",
      "metadata": {
        "id": "IhuHSnFvxzj7"
      },
      "source": [
        "# Los coeficientes del estrato 1 y 2\n",
        "coeficientes.1 <- c(40, 37, 13, 38)\n",
        "coeficientes.2 <- c(75, 38, 15, 33)\n",
        "\n",
        "# El tamaño de la muestra 1 y 2\n",
        "n.1 <- sum(coeficientes.1)\n",
        "n.2 <- sum(coeficientes.2)\n",
        "\n",
        "# Se calculan los coeficientes del estrato 1 y 2\n",
        "e.1 <- (coeficientes.1[1]+coeficientes.1[2])*\n",
        "       (coeficientes.1[1]+coeficientes.1[3])/n.1\n",
        "\n",
        "e.2 <- (coeficientes.2[1]+coeficientes.2[2])*\n",
        "       (coeficientes.2[1]+coeficientes.2[3])/n.2\n",
        "\n",
        "v.1 <- (coeficientes.1[1]+coeficientes.1[2])*\n",
        "       (coeficientes.1[3]+coeficientes.1[4])*\n",
        "       (coeficientes.1[1]+coeficientes.1[3])*\n",
        "       (coeficientes.1[2]+coeficientes.1[4])/((n.1**2)*(n.1-1))\n",
        "\n",
        "v.2 <- (coeficientes.2[1]+coeficientes.2[2])*\n",
        "       (coeficientes.2[3]+coeficientes.2[4])*\n",
        "       (coeficientes.2[1]+coeficientes.2[3])*\n",
        "       (coeficientes.2[2]+coeficientes.2[4])/((n.2**2)*(n.2-1))"
      ],
      "execution_count": 7,
      "outputs": []
    },
    {
      "cell_type": "code",
      "metadata": {
        "colab": {
          "base_uri": "https://localhost:8080/",
          "height": 52
        },
        "id": "8Io-m-MtQMt3",
        "outputId": "eb9a469a-8d6c-44c3-e3ed-54b871314d4b"
      },
      "source": [
        "# El estadístico de prueba y el p-value\n",
        "(chi.2 <- (coeficientes.1[1]+coeficientes.2[1]-e.1-e.2)**2/(v.1+v.2))\n",
        "pchisq(chi.2, 1, lower.tail = FALSE)"
      ],
      "execution_count": 6,
      "outputs": [
        {
          "output_type": "display_data",
          "data": {
            "text/plain": [
              "[1] 25.09515"
            ],
            "text/latex": "25.095145535557",
            "text/markdown": "25.095145535557",
            "text/html": [
              "25.095145535557"
            ]
          },
          "metadata": {}
        },
        {
          "output_type": "display_data",
          "data": {
            "text/plain": [
              "[1] 5.457006e-07"
            ],
            "text/latex": "5.45700622267947e-07",
            "text/markdown": "5.45700622267947e-07",
            "text/html": [
              "5.45700622267947e-07"
            ]
          },
          "metadata": {}
        }
      ]
    },
    {
      "cell_type": "markdown",
      "metadata": {
        "id": "pgC8TCtzP97k"
      },
      "source": [
        "Con un p-value de  $5.5\\times10^{-7}$ , para una significancia de 0.05, se puede rechazar la hipótesis nula de que no haya relación entre variables. Por lo tanto, que la cabeza de familia trabaje fuera o dentro de casa afecta la proporción de infantes con seguridad alimenticia y que el hogar tenga un jardín o no."
      ]
    },
    {
      "cell_type": "code",
      "metadata": {
        "colab": {
          "base_uri": "https://localhost:8080/",
          "height": 35
        },
        "id": "2qRFGFySQcHR",
        "outputId": "1eb08074-1924-4751-b221-5b3229bab41e"
      },
      "source": [
        "# El odds ratio\n",
        "(or <- (coeficientes.1[1]*coeficientes.1[4]/n.1+coeficientes.2[1]*coeficientes.2[4]/n.2)/\n",
        "      (coeficientes.1[2]*coeficientes.1[3]/n.1+coeficientes.2[2]*coeficientes.2[3]/n.2))"
      ],
      "execution_count": 8,
      "outputs": [
        {
          "output_type": "display_data",
          "data": {
            "text/plain": [
              "[1] 3.733486"
            ],
            "text/latex": "3.733485814589",
            "text/markdown": "3.733485814589",
            "text/html": [
              "3.733485814589"
            ]
          },
          "metadata": {}
        }
      ]
    },
    {
      "cell_type": "markdown",
      "metadata": {
        "id": "0cITxM7xXmkz"
      },
      "source": [
        "El odds ratio sugiere que los hogares sin hortaliza y sin sustentablidad alimenticia ocurren son 3.7 veces más prevalentes que en los hogares con hortaliza."
      ]
    }
  ]
}