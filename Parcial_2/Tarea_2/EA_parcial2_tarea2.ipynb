{
  "nbformat": 4,
  "nbformat_minor": 0,
  "metadata": {
    "colab": {
      "name": "EA_parcial2_tarea2.ipynb",
      "provenance": [],
      "collapsed_sections": [
        "apc8tASFinRQ",
        "WcU0PSHDywL_",
        "BlCG0t7r-64-"
      ],
      "include_colab_link": true
    },
    "kernelspec": {
      "name": "ir",
      "display_name": "R"
    },
    "language_info": {
      "name": "R"
    }
  },
  "cells": [
    {
      "cell_type": "markdown",
      "metadata": {
        "id": "view-in-github",
        "colab_type": "text"
      },
      "source": [
        "<a href=\"https://colab.research.google.com/github/gilesitorr/Estadistica_Avanzada/blob/main/Parcial_2/Tarea_2/EA_parcial2_tarea2.ipynb\" target=\"_parent\"><img src=\"https://colab.research.google.com/assets/colab-badge.svg\" alt=\"Open In Colab\"/></a>"
      ]
    },
    {
      "cell_type": "markdown",
      "metadata": {
        "id": "pW1HRSR2Gr3s"
      },
      "source": [
        "# __Estadística Avanzada__\n",
        "# Parcial 2 - Tarea 2\n",
        "## _Gil Estéfano Rodríguez Rivera_"
      ]
    },
    {
      "cell_type": "markdown",
      "metadata": {
        "id": "BnmoSaZN_6YD"
      },
      "source": [
        "Todas las bases de datos utilizadas así como el desarrollo se encuentra en _GitHub_ en https://github.com/gilesitorr/Estadistica_Avanzada/tree/main/Parcial_2/Tarea_2\n",
        "\n",
        "__Nota:__ En este Notebook se usó el kernel de R, aunque la extensión sea ipynb."
      ]
    },
    {
      "cell_type": "markdown",
      "metadata": {
        "id": "Ij_LKwbbinRP"
      },
      "source": [
        "## Biostatistics: A Foundation for Analysis in the Health Sciences\n",
        "### Wayne W. Daniel & Chad L. Cross"
      ]
    },
    {
      "cell_type": "markdown",
      "metadata": {
        "id": "apc8tASFinRQ"
      },
      "source": [
        "### 10.3.1\n"
      ]
    },
    {
      "cell_type": "markdown",
      "metadata": {
        "id": "Y3hSJ6UMv_fJ"
      },
      "source": [
        "Obtain the regression equation for each of the following data set\n",
        "\n",
        "__Machiel Naeije (A-2) studied the relationship between maximum mouth opening and measurements of the lower jaw (mandible). He measured the dependent variable, maximum mouth opening (MMO, measured in mm), as well as predictor variables, mandibular length (ML, measured in mm) and angle of rotation of the mandible (RA, measured in degrees) of 35 subjects.__"
      ]
    },
    {
      "cell_type": "code",
      "metadata": {
        "id": "vOfhxmc7Jn0S"
      },
      "source": [
        "# Se define el url donde está guardado el archivo csv a usar\n",
        "url = \"https://github.com/gilesitorr/Estadistica_Avanzada/raw/main/Parcial_2/Tarea_2/EXR_C10_S03_01.csv\"\n",
        "\n",
        "# Se lee el archivo csv desde el url que se definió\n",
        "df <- read.csv(url, header=TRUE)"
      ],
      "execution_count": 1,
      "outputs": []
    },
    {
      "cell_type": "code",
      "metadata": {
        "colab": {
          "base_uri": "https://localhost:8080/",
          "height": 141
        },
        "id": "-iLHaXH8QjEz",
        "outputId": "496ca3a4-ed2a-49a2-c914-5a77d95b1274"
      },
      "source": [
        "# Se realiza la regresión múltiple\n",
        "ajuste <- lm(Y~X1+X2, data=df)\n",
        "ajuste"
      ],
      "execution_count": 2,
      "outputs": [
        {
          "output_type": "display_data",
          "data": {
            "text/plain": [
              "\n",
              "Call:\n",
              "lm(formula = Y ~ X1 + X2, data = df)\n",
              "\n",
              "Coefficients:\n",
              "(Intercept)           X1           X2  \n",
              "   -31.4248       0.4732       1.0712  \n"
            ]
          },
          "metadata": {}
        }
      ]
    },
    {
      "cell_type": "markdown",
      "metadata": {
        "id": "NcHPN-gOQ-v1"
      },
      "source": [
        "La ecuación de la regresión múltiple es:\n",
        "\n",
        "_$Y = 0.4732 X_1 + 1.0712 X_2 - 31.4248$_"
      ]
    },
    {
      "cell_type": "markdown",
      "metadata": {
        "id": "WcU0PSHDywL_"
      },
      "source": [
        "### 10.4.1\n"
      ]
    },
    {
      "cell_type": "markdown",
      "metadata": {
        "id": "7qS3hlTKa8iy"
      },
      "source": [
        "__Refer to Exercise 10.3.1.__\n",
        "\n",
        "(a) Calculate the coefficient of multiple determination;\n",
        "\n",
        "(b) perform an analysis of variance;\n",
        "\n",
        "(c) test the significance of each beta_i (i > 0) . Let a = 0.05 for all tests of\n",
        "significance and determine the p value for all tests;\n",
        "\n",
        "(d) construct a 95 percent confidence interval for each significant sample slope."
      ]
    },
    {
      "cell_type": "markdown",
      "metadata": {
        "id": "2bmZ3kyJchY_"
      },
      "source": [
        "Se utilizará el trabajo realizado en el ejercicio anterior (no es necesario utilizar otra variable para el dataframe ni para el ajuste de la regresión así como no es necesario cargar más información)"
      ]
    },
    {
      "cell_type": "code",
      "metadata": {
        "colab": {
          "base_uri": "https://localhost:8080/",
          "height": 355
        },
        "id": "SGhIFemda8i1",
        "outputId": "90d244c7-7a0c-4b9d-c467-e3c2d925674d"
      },
      "source": [
        "summary(ajuste)"
      ],
      "execution_count": 3,
      "outputs": [
        {
          "output_type": "display_data",
          "data": {
            "text/plain": [
              "\n",
              "Call:\n",
              "lm(formula = Y ~ X1 + X2, data = df)\n",
              "\n",
              "Residuals:\n",
              "    Min      1Q  Median      3Q     Max \n",
              "-3.6219 -0.9816  0.1288  1.2022  6.2728 \n",
              "\n",
              "Coefficients:\n",
              "             Estimate Std. Error t value Pr(>|t|)    \n",
              "(Intercept) -31.42480    6.14747  -5.112 1.44e-05 ***\n",
              "X1            0.47317    0.06117   7.736 8.05e-09 ***\n",
              "X2            1.07117    0.06280  17.058  < 2e-16 ***\n",
              "---\n",
              "Signif. codes:  0 ‘***’ 0.001 ‘**’ 0.01 ‘*’ 0.05 ‘.’ 0.1 ‘ ’ 1\n",
              "\n",
              "Residual standard error: 2.064 on 32 degrees of freedom\n",
              "Multiple R-squared:  0.9204,\tAdjusted R-squared:  0.9155 \n",
              "F-statistic: 185.1 on 2 and 32 DF,  p-value: < 2.2e-16\n"
            ]
          },
          "metadata": {}
        }
      ]
    },
    {
      "cell_type": "markdown",
      "metadata": {
        "id": "bXToP0cgeV7B"
      },
      "source": [
        "El __coeficiente de determinación múltiple__ es _$R^2=0.9204$_.\n",
        "\n",
        "De acuerdo con la prueba F, puede verse que, con una significancia del 5%, __al menos una de las pendientes de la recta, beta_1 y beta_2, son distintas de cero__, con p-value _$p < 2 \\times 10^{-16}$_.\n",
        "\n",
        "De acuerdo a las prueba t bilateral, con una significancia del 5%, tanto __$\\beta_1$ como $\\beta_2$ son diferentes de 0__, con p-values, respectivamente, $p_1=1.44\\times10^{-5}$ y $p_2=8.05\\times10^{-9}$."
      ]
    },
    {
      "cell_type": "code",
      "metadata": {
        "colab": {
          "base_uri": "https://localhost:8080/",
          "height": 159
        },
        "id": "tUT1l0ZZhsXd",
        "outputId": "67840c51-4fec-4cc9-ced0-de27d32a4a2a"
      },
      "source": [
        "# Se calcula el intervalo de confianza del 95% de beta_1\n",
        "confint(ajuste, level=0.95)"
      ],
      "execution_count": 4,
      "outputs": [
        {
          "output_type": "display_data",
          "data": {
            "text/plain": [
              "            2.5 %       97.5 %     \n",
              "(Intercept) -43.9467785 -18.9028184\n",
              "X1            0.3485846   0.5977639\n",
              "X2            0.9432598   1.1990851"
            ],
            "text/latex": "A matrix: 3 × 2 of type dbl\n\\begin{tabular}{r|ll}\n  & 2.5 \\% & 97.5 \\%\\\\\n\\hline\n\t(Intercept) & -43.9467785 & -18.9028184\\\\\n\tX1 &   0.3485846 &   0.5977639\\\\\n\tX2 &   0.9432598 &   1.1990851\\\\\n\\end{tabular}\n",
            "text/markdown": "\nA matrix: 3 × 2 of type dbl\n\n| <!--/--> | 2.5 % | 97.5 % |\n|---|---|---|\n| (Intercept) | -43.9467785 | -18.9028184 |\n| X1 |   0.3485846 |   0.5977639 |\n| X2 |   0.9432598 |   1.1990851 |\n\n",
            "text/html": [
              "<table class=\"dataframe\">\n",
              "<caption>A matrix: 3 × 2 of type dbl</caption>\n",
              "<thead>\n",
              "\t<tr><th></th><th scope=col>2.5 %</th><th scope=col>97.5 %</th></tr>\n",
              "</thead>\n",
              "<tbody>\n",
              "\t<tr><th scope=row>(Intercept)</th><td>-43.9467785</td><td>-18.9028184</td></tr>\n",
              "\t<tr><th scope=row>X1</th><td>  0.3485846</td><td>  0.5977639</td></tr>\n",
              "\t<tr><th scope=row>X2</th><td>  0.9432598</td><td>  1.1990851</td></tr>\n",
              "</tbody>\n",
              "</table>\n"
            ]
          },
          "metadata": {}
        }
      ]
    },
    {
      "cell_type": "markdown",
      "metadata": {
        "id": "rE-s4bXZiOHH"
      },
      "source": [
        "El __intervalo de confianza__ del 95% de cada pendiente son:\n",
        "\n",
        "$\\beta_1$ : (0.3486, 0.5978)\n",
        "\n",
        "$\\beta_2$ : (0.9433, 1.1991)"
      ]
    },
    {
      "cell_type": "markdown",
      "metadata": {
        "id": "BlCG0t7r-64-"
      },
      "source": [
        "### 10.5.1\n"
      ]
    },
    {
      "cell_type": "markdown",
      "metadata": {
        "id": "5C6aNgPi-65A"
      },
      "source": [
        "__Refer to Exercise 10.3.1 and let $x_{1j}$=95 and $x_{2j}$=35:.__\n",
        "\n",
        "For each of the following exercises compute the y value and construct\n",
        "\n",
        "(a) 95 percent confidence\n",
        "\n",
        "(b) 95 percent prediction intervals for the specified values of Xi."
      ]
    },
    {
      "cell_type": "markdown",
      "metadata": {
        "id": "Jzk6yHCqU9G0"
      },
      "source": [
        "Se utilizará el trabajo realizado en el ejercicio 10.3.1 (no es necesario utilizar otra variable para el dataframe ni para el ajuste de la regresión así como no es necesario cargar más información)"
      ]
    },
    {
      "cell_type": "code",
      "metadata": {
        "colab": {
          "base_uri": "https://localhost:8080/",
          "height": 97
        },
        "id": "SqswncCRkW-s",
        "outputId": "0172a2fa-ba4f-432f-8eee-f4b260071453"
      },
      "source": [
        "# Se construyen los intervalos de confianza del 95% para X=1.6\n",
        "predict(ajuste, data.frame(X1=95, X2=35), interval=\"confidence\")"
      ],
      "execution_count": 5,
      "outputs": [
        {
          "output_type": "display_data",
          "data": {
            "text/plain": [
              "  fit      lwr      upr     \n",
              "1 51.01779 50.28862 51.74696"
            ],
            "text/latex": "A matrix: 1 × 3 of type dbl\n\\begin{tabular}{r|lll}\n  & fit & lwr & upr\\\\\n\\hline\n\t1 & 51.01779 & 50.28862 & 51.74696\\\\\n\\end{tabular}\n",
            "text/markdown": "\nA matrix: 1 × 3 of type dbl\n\n| <!--/--> | fit | lwr | upr |\n|---|---|---|---|\n| 1 | 51.01779 | 50.28862 | 51.74696 |\n\n",
            "text/html": [
              "<table class=\"dataframe\">\n",
              "<caption>A matrix: 1 × 3 of type dbl</caption>\n",
              "<thead>\n",
              "\t<tr><th></th><th scope=col>fit</th><th scope=col>lwr</th><th scope=col>upr</th></tr>\n",
              "</thead>\n",
              "<tbody>\n",
              "\t<tr><th scope=row>1</th><td>51.01779</td><td>50.28862</td><td>51.74696</td></tr>\n",
              "</tbody>\n",
              "</table>\n"
            ]
          },
          "metadata": {}
        }
      ]
    },
    {
      "cell_type": "code",
      "metadata": {
        "colab": {
          "base_uri": "https://localhost:8080/",
          "height": 97
        },
        "id": "v7jNDOmLk26B",
        "outputId": "476f6f8d-410a-4ddd-ba7e-6024ae8d5754"
      },
      "source": [
        "# Se construyen los intervalos de predicción del 95% para X=1.6\n",
        "predict(ajuste, data.frame(X1=95, X2=35), interval=\"prediction\")"
      ],
      "execution_count": 6,
      "outputs": [
        {
          "output_type": "display_data",
          "data": {
            "text/plain": [
              "  fit      lwr      upr     \n",
              "1 51.01779 46.75122 55.28436"
            ],
            "text/latex": "A matrix: 1 × 3 of type dbl\n\\begin{tabular}{r|lll}\n  & fit & lwr & upr\\\\\n\\hline\n\t1 & 51.01779 & 46.75122 & 55.28436\\\\\n\\end{tabular}\n",
            "text/markdown": "\nA matrix: 1 × 3 of type dbl\n\n| <!--/--> | fit | lwr | upr |\n|---|---|---|---|\n| 1 | 51.01779 | 46.75122 | 55.28436 |\n\n",
            "text/html": [
              "<table class=\"dataframe\">\n",
              "<caption>A matrix: 1 × 3 of type dbl</caption>\n",
              "<thead>\n",
              "\t<tr><th></th><th scope=col>fit</th><th scope=col>lwr</th><th scope=col>upr</th></tr>\n",
              "</thead>\n",
              "<tbody>\n",
              "\t<tr><th scope=row>1</th><td>51.01779</td><td>46.75122</td><td>55.28436</td></tr>\n",
              "</tbody>\n",
              "</table>\n"
            ]
          },
          "metadata": {}
        }
      ]
    },
    {
      "cell_type": "markdown",
      "metadata": {
        "id": "BwIPYIxm6yhT"
      },
      "source": [
        "La predicción para $X_1=95$, $X_2=35$ es $y=51.0178$.\n",
        "\n",
        "Este valor predicho tiene dos intervalos asociados (ambos del 95%).\n",
        "\n",
        "1) El de __confianza__ es de (50.2886, 51.7470)\n",
        "\n",
        "2) El de __predicción__ es de (46.7512, 55.2844)."
      ]
    },
    {
      "cell_type": "markdown",
      "metadata": {
        "id": "peQ3nfDkVHQW"
      },
      "source": [
        "### 10.6.1"
      ]
    },
    {
      "cell_type": "markdown",
      "metadata": {
        "id": "V4xXFai5VHQs"
      },
      "source": [
        "__The objective of a study by Anton et al. (A-5) was to investigate the correlation structure of multiple measures of HIV burden in blood and tissue samples. They measured HIV burden four ways. Two measurements were derived from blood samples, and two measurements were made on rectal tissue. The two blood measures were based on HIV DNA assays and a second co-culture assay that was a modification of the first measure. The third and fourth measurements were quantitations of HIV-1 DNA and RNA from rectal biopsy tissue. The table below gives data on HIV levels from these measurements for 34 subjects.__\n",
        "\n",
        "(a) Compute the simple correlation coefficients between all possible pairs of variables.\n",
        "\n",
        "(b) Compute the multiple correlation coefficient among the four variables. Test the overall correlation for significance.\n",
        "\n",
        "(c) Calculate the partial correlations between HIV DNA blood and each one of the other variables while controlling for the other two. (These are called second-order partial correlation coefficients.)\n",
        "\n",
        "(d) Calculate the partial correlation between HIV co-culture blood and HIV DNA, controlling for the other two variables.\n",
        "\n",
        "(e) Calculate the partial correlation between HIV co-culture blood and HIV RNA, controlling for the other two variables.\n",
        "\n",
        "(f) Calculate the partial correlations between HIV DNA and HIV RNA, controlling for the other two variables."
      ]
    },
    {
      "cell_type": "code",
      "metadata": {
        "id": "s_PnEBOznl6X"
      },
      "source": [
        "# Se define el url donde está guardado el archivo csv a usar\n",
        "url = \"https://github.com/gilesitorr/Estadistica_Avanzada/raw/main/Parcial_2/Tarea_2/EXR_C10_S06_01.csv\"\n",
        "\n",
        "# Se lee el archivo csv desde el url que se definió\n",
        "df <- read.csv(url, header=TRUE)"
      ],
      "execution_count": 7,
      "outputs": []
    },
    {
      "cell_type": "code",
      "metadata": {
        "colab": {
          "base_uri": "https://localhost:8080/",
          "height": 119
        },
        "id": "iIXkyeVCoxIv",
        "outputId": "58887875-0bac-4c72-bd2f-4114d23e7752"
      },
      "source": [
        "# Se aculcula el coeficiente de correlación de Pearson entre ambas variables\n",
        "# de la muestra\n",
        "(r <- cor(df$Y, df$X1))\n",
        "(r <- cor(df$Y, df$X2))\n",
        "(r <- cor(df$Y, df$X3))\n",
        "(r <- cor(df$X1, df$X2))\n",
        "(r <- cor(df$X1, df$X3))\n",
        "(r <- cor(df$X2, df$X3))"
      ],
      "execution_count": 8,
      "outputs": [
        {
          "output_type": "display_data",
          "data": {
            "text/plain": [
              "[1] 0.3604168"
            ],
            "text/latex": "0.360416799389031",
            "text/markdown": "0.360416799389031",
            "text/html": [
              "0.360416799389031"
            ]
          },
          "metadata": {}
        },
        {
          "output_type": "display_data",
          "data": {
            "text/plain": [
              "[1] 0.5320713"
            ],
            "text/latex": "0.532071263846291",
            "text/markdown": "0.532071263846291",
            "text/html": [
              "0.532071263846291"
            ]
          },
          "metadata": {}
        },
        {
          "output_type": "display_data",
          "data": {
            "text/plain": [
              "[1] 0.2022809"
            ],
            "text/latex": "0.202280930632941",
            "text/markdown": "0.202280930632941",
            "text/html": [
              "0.202280930632941"
            ]
          },
          "metadata": {}
        },
        {
          "output_type": "display_data",
          "data": {
            "text/plain": [
              "[1] 0.3025645"
            ],
            "text/latex": "0.302564513149272",
            "text/markdown": "0.302564513149272",
            "text/html": [
              "0.302564513149272"
            ]
          },
          "metadata": {}
        },
        {
          "output_type": "display_data",
          "data": {
            "text/plain": [
              "[1] 0.6740663"
            ],
            "text/latex": "0.674066299449783",
            "text/markdown": "0.674066299449783",
            "text/html": [
              "0.674066299449783"
            ]
          },
          "metadata": {}
        },
        {
          "output_type": "display_data",
          "data": {
            "text/plain": [
              "[1] 0.4295396"
            ],
            "text/latex": "0.429539553850267",
            "text/markdown": "0.429539553850267",
            "text/html": [
              "0.429539553850267"
            ]
          },
          "metadata": {}
        }
      ]
    },
    {
      "cell_type": "markdown",
      "metadata": {
        "id": "j9iQcSDHXFWK"
      },
      "source": [
        "Los __coeficientes de correlación simples__ de cada par de variables son:\n",
        "\n",
        "$Y$, $X_1$ : 0.3604\n",
        "\n",
        "$Y$, $X_2$ : 0.5321\n",
        "\n",
        "$Y$, $X_3$ : 0.2023\n",
        "\n",
        "$X_1$, $X_2$ : 0.3026\n",
        "\n",
        "$X_1$, $X_3$ : 0.6741\n",
        "\n",
        "$X_2$, $X_3$ : 0.4295"
      ]
    },
    {
      "cell_type": "code",
      "metadata": {
        "colab": {
          "base_uri": "https://localhost:8080/",
          "height": 372
        },
        "id": "ib1-kESVc47o",
        "outputId": "e54c0c36-c0c3-4ba5-e058-a5bde463e5e9"
      },
      "source": [
        "# Para calcular el coeficiente de correlación múltiple, se hace el ajuste\n",
        "# lineal, se calcula el summary del ajuste y se extrae el valor del R^2\n",
        "ajuste <- lm(Y~X1+X2+X3, data=df)\n",
        "summary(ajuste)"
      ],
      "execution_count": 20,
      "outputs": [
        {
          "output_type": "display_data",
          "data": {
            "text/plain": [
              "\n",
              "Call:\n",
              "lm(formula = Y ~ X1 + X2 + X3, data = df)\n",
              "\n",
              "Residuals:\n",
              "    Min      1Q  Median      3Q     Max \n",
              "-76.923 -26.748  -8.207  18.544 246.083 \n",
              "\n",
              "Coefficients:\n",
              "            Estimate Std. Error t value Pr(>|t|)    \n",
              "(Intercept) 27.79546   12.90719   2.153 0.038053 *  \n",
              "X1          62.58296   28.17667   2.221 0.032724 *  \n",
              "X2           0.04801    0.01303   3.683 0.000751 ***\n",
              "X3          -0.06229    0.03956  -1.574 0.124133    \n",
              "---\n",
              "Signif. codes:  0 ‘***’ 0.001 ‘**’ 0.01 ‘*’ 0.05 ‘.’ 0.1 ‘ ’ 1\n",
              "\n",
              "Residual standard error: 54.08 on 36 degrees of freedom\n",
              "Multiple R-squared:  0.3702,\tAdjusted R-squared:  0.3178 \n",
              "F-statistic: 7.055 on 3 and 36 DF,  p-value: 0.0007527\n"
            ]
          },
          "metadata": {}
        }
      ]
    },
    {
      "cell_type": "markdown",
      "metadata": {
        "id": "gYhM_QtrdUjr"
      },
      "source": [
        "$R^2=0.3702$\n",
        "\n",
        "El __coeficiente de correlación múltiple__ es $R=0.6085$. (Se toma la solución positiva porque la correlación individual de Y con las $X_i$ es positiva). De acuerdo a una prueba __F__, se infiere que con una significancia menor a 5%, se tieneal menos una de las pendientes $\\beta_i$, i=1,2,3 es diferente de cero, con un p-value de $p=0.0008$."
      ]
    },
    {
      "cell_type": "code",
      "metadata": {
        "colab": {
          "base_uri": "https://localhost:8080/"
        },
        "id": "ZQz7BXFWm5ZD",
        "outputId": "3944f04b-cdf9-4d38-c219-abbd5da688b2"
      },
      "source": [
        "# La libreria para estudiar correlaciones parciales\n",
        "install.packages(\"ppcor\")\n",
        "library(ppcor)"
      ],
      "execution_count": 13,
      "outputs": [
        {
          "output_type": "stream",
          "name": "stderr",
          "text": [
            "Installing package into ‘/usr/local/lib/R/site-library’\n",
            "(as ‘lib’ is unspecified)\n",
            "\n",
            "Loading required package: MASS\n",
            "\n"
          ]
        }
      ]
    },
    {
      "cell_type": "code",
      "metadata": {
        "colab": {
          "base_uri": "https://localhost:8080/",
          "height": 190
        },
        "id": "Ug_R4-JDnam3",
        "outputId": "a4f26917-5aa4-47df-d9e9-291a0fff6922"
      },
      "source": [
        "# La matriz de correlaciones parciales\n",
        "pcor(df)$estimate"
      ],
      "execution_count": 21,
      "outputs": [
        {
          "output_type": "display_data",
          "data": {
            "text/plain": [
              "   Y          X1         X2         X3        \n",
              "Y   1.0000000  0.3471589  0.5231596 -0.2538148\n",
              "X1  0.3471589  1.0000000 -0.1660120  0.6615325\n",
              "X2  0.5231596 -0.1660120  1.0000000  0.3969161\n",
              "X3 -0.2538148  0.6615325  0.3969161  1.0000000"
            ],
            "text/latex": "A matrix: 4 × 4 of type dbl\n\\begin{tabular}{r|llll}\n  & Y & X1 & X2 & X3\\\\\n\\hline\n\tY &  1.0000000 &  0.3471589 &  0.5231596 & -0.2538148\\\\\n\tX1 &  0.3471589 &  1.0000000 & -0.1660120 &  0.6615325\\\\\n\tX2 &  0.5231596 & -0.1660120 &  1.0000000 &  0.3969161\\\\\n\tX3 & -0.2538148 &  0.6615325 &  0.3969161 &  1.0000000\\\\\n\\end{tabular}\n",
            "text/markdown": "\nA matrix: 4 × 4 of type dbl\n\n| <!--/--> | Y | X1 | X2 | X3 |\n|---|---|---|---|---|\n| Y |  1.0000000 |  0.3471589 |  0.5231596 | -0.2538148 |\n| X1 |  0.3471589 |  1.0000000 | -0.1660120 |  0.6615325 |\n| X2 |  0.5231596 | -0.1660120 |  1.0000000 |  0.3969161 |\n| X3 | -0.2538148 |  0.6615325 |  0.3969161 |  1.0000000 |\n\n",
            "text/html": [
              "<table class=\"dataframe\">\n",
              "<caption>A matrix: 4 × 4 of type dbl</caption>\n",
              "<thead>\n",
              "\t<tr><th></th><th scope=col>Y</th><th scope=col>X1</th><th scope=col>X2</th><th scope=col>X3</th></tr>\n",
              "</thead>\n",
              "<tbody>\n",
              "\t<tr><th scope=row>Y</th><td> 1.0000000</td><td> 0.3471589</td><td> 0.5231596</td><td>-0.2538148</td></tr>\n",
              "\t<tr><th scope=row>X1</th><td> 0.3471589</td><td> 1.0000000</td><td>-0.1660120</td><td> 0.6615325</td></tr>\n",
              "\t<tr><th scope=row>X2</th><td> 0.5231596</td><td>-0.1660120</td><td> 1.0000000</td><td> 0.3969161</td></tr>\n",
              "\t<tr><th scope=row>X3</th><td>-0.2538148</td><td> 0.6615325</td><td> 0.3969161</td><td> 1.0000000</td></tr>\n",
              "</tbody>\n",
              "</table>\n"
            ]
          },
          "metadata": {}
        }
      ]
    },
    {
      "cell_type": "markdown",
      "metadata": {
        "id": "E8GUmP2mr4_8"
      },
      "source": [
        "De la matriz de __correlaciones parciales__ puede verse que la correlación que guarda $Y$ con cada una de las variables es la siguiente:\n",
        "\n",
        "$Y$, $X_1$ : 0.3472\n",
        "\n",
        "$Y$, $X_2$ : 0.5232\n",
        "\n",
        "$Y$, $X_3$ : -0.2538"
      ]
    },
    {
      "cell_type": "markdown",
      "metadata": {
        "id": "3x2MDebds-DQ"
      },
      "source": [
        "La __correlación parcial__ entre $X_1$ y $X_2$ es $-0.1660$."
      ]
    },
    {
      "cell_type": "markdown",
      "metadata": {
        "id": "uTGoab3MtJUt"
      },
      "source": [
        "La __correlación parcial__ entre $X_1$ y $X_3$ es $0.6615$."
      ]
    },
    {
      "cell_type": "markdown",
      "metadata": {
        "id": "EGDrnq-VtPlH"
      },
      "source": [
        "La __correlación parcial__ entre $X_2$ y $X_3$ es $0.3969$."
      ]
    }
  ]
}