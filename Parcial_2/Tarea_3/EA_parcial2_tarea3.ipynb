{
  "nbformat": 4,
  "nbformat_minor": 0,
  "metadata": {
    "colab": {
      "name": "EA_parcial2_tarea3.ipynb",
      "provenance": [],
      "collapsed_sections": [
        "apc8tASFinRQ",
        "WcU0PSHDywL_",
        "BlCG0t7r-64-"
      ],
      "include_colab_link": true
    },
    "kernelspec": {
      "name": "ir",
      "display_name": "R"
    },
    "language_info": {
      "name": "R"
    }
  },
  "cells": [
    {
      "cell_type": "markdown",
      "metadata": {
        "id": "view-in-github",
        "colab_type": "text"
      },
      "source": [
        "<a href=\"https://colab.research.google.com/github/gilesitorr/Estadistica_Avanzada/blob/main/Parcial_2/Tarea_3/EA_parcial2_tarea3.ipynb\" target=\"_parent\"><img src=\"https://colab.research.google.com/assets/colab-badge.svg\" alt=\"Open In Colab\"/></a>"
      ]
    },
    {
      "cell_type": "markdown",
      "metadata": {
        "id": "pW1HRSR2Gr3s"
      },
      "source": [
        "# __Estadística Avanzada__\n",
        "# Parcial 2 - Tarea 3\n",
        "## _Gil Estéfano Rodríguez Rivera_"
      ]
    },
    {
      "cell_type": "markdown",
      "metadata": {
        "id": "BnmoSaZN_6YD"
      },
      "source": [
        "Todas las bases de datos utilizadas así como el desarrollo se encuentra en _GitHub_ en https://github.com/gilesitorr/Estadistica_Avanzada/tree/main/Parcial_2/Tarea_3\n",
        "\n",
        "__Nota:__ En este Notebook se usó el kernel de R, aunque la extensión sea ipynb."
      ]
    },
    {
      "cell_type": "code",
      "metadata": {
        "id": "G-t3LbBtXXRE"
      },
      "source": [
        "# Antes de comenzar, se importan las librerías a usar\n",
        "library(dplyr)"
      ],
      "execution_count": 85,
      "outputs": []
    },
    {
      "cell_type": "markdown",
      "metadata": {
        "id": "Ij_LKwbbinRP"
      },
      "source": [
        "## Biostatistics: A Foundation for Analysis in the Health Sciences\n",
        "### Wayne W. Daniel & Chad L. Cross"
      ]
    },
    {
      "cell_type": "markdown",
      "metadata": {
        "id": "apc8tASFinRQ"
      },
      "source": [
        "### 11.2.1\n"
      ]
    },
    {
      "cell_type": "markdown",
      "metadata": {
        "id": "Y3hSJ6UMv_fJ"
      },
      "source": [
        "__For subjects undergoing stem cell transplants, dendritic cells (DCs) are antigen-presenting cells that are critical to the generation of immunologic tumor responses. Bolwell et al. (A-2) studied lymphoid DCs in 44 subjects who underwent autologous stem cell transplantation. The outcome variable is the concentration of DC2 cells as measured by flow cytometry. One of the independent variables is the age of the subject (years), and the second independent variable is the mobilization method. During chemotherapy, 11 subjects received granulocyte colony-stimulating factor (G-CSF) mobilizer (mg/kg/day) and 33 received etoposide (2 g=m2). The mobilizer is a kind of blood progenitor cell that triggers the formation of the DC cells. The results were as follows:__\n",
        "\n",
        "(a) Draw a scatter diagram of the data using different symbols for the different categorical variables.\n",
        "\n",
        "(b) Use dummy variable coding and regression to analyze the data.\n",
        "\n",
        "(c) Perform appropriate hypothesis tests and construct appropriate confidence intervals using your choice of significance and confidence levels.\n",
        "\n",
        "(d) Find the p value for each test that you perform."
      ]
    },
    {
      "cell_type": "code",
      "metadata": {
        "id": "vOfhxmc7Jn0S"
      },
      "source": [
        "# Se define el url donde está guardado el archivo csv a usar\n",
        "url = \"https://github.com/gilesitorr/Estadistica_Avanzada/raw/main/Parcial_2/Tarea_3/EXR_C11_S02_01.csv\"\n",
        "\n",
        "# Se lee el archivo csv desde el url que se definió\n",
        "df <- read.csv(url, header=TRUE)"
      ],
      "execution_count": 86,
      "outputs": []
    },
    {
      "cell_type": "code",
      "metadata": {
        "colab": {
          "base_uri": "https://localhost:8080/",
          "height": 437
        },
        "id": "jUzAzSZqPW7y",
        "outputId": "04133767-2ae8-4e7e-ddf1-bae480208438"
      },
      "source": [
        "# Se codifica como dummy variable el método\n",
        "# NOTA\n",
        "# G-CSF es el método METHOD=0\n",
        "# El métoco METHOD=1 corresponde a Etoposide\n",
        "df$METHOD.1 <- as.factor(df$METHOD)\n",
        "\n",
        "# Se hace la gráfica y se pone un color distinto para cada método\n",
        "with(df, plot(AGE, DC, col = METHOD.1, pch=16))\n",
        "legend(20, 25, legend=c(\"Method 1\", \"Method 0\"),\n",
        "       col=c(\"red\", \"black\"), pch=c(16,16), cex=1.5)"
      ],
      "execution_count": 87,
      "outputs": [
        {
          "output_type": "display_data",
          "data": {
            "image/png": "[encoded data removed]",
            "text/plain": [
              "plot without title"
            ]
          },
          "metadata": {
            "image/png": {
              "width": 420,
              "height": 420
            }
          }
        }
      ]
    },
    {
      "cell_type": "code",
      "metadata": {
        "id": "K38emWW0zolf"
      },
      "source": [
        "# Se realiza la regresión lineal\n",
        "ajuste <- lm(DC~AGE+METHOD.1, data=df)"
      ],
      "execution_count": 88,
      "outputs": []
    },
    {
      "cell_type": "code",
      "metadata": {
        "colab": {
          "base_uri": "https://localhost:8080/",
          "height": 355
        },
        "id": "a3sj-Fg1ZI_7",
        "outputId": "d1e4355b-eac4-46e9-df3a-c69c3e75cf81"
      },
      "source": [
        "# Se muestra la pruba t de los coeficientes\n",
        "summary(ajuste)"
      ],
      "execution_count": 90,
      "outputs": [
        {
          "output_type": "display_data",
          "data": {
            "text/plain": [
              "\n",
              "Call:\n",
              "lm(formula = DC ~ AGE + METHOD.1, data = df)\n",
              "\n",
              "Residuals:\n",
              "    Min      1Q  Median      3Q     Max \n",
              "-4.9503 -1.8686 -0.9299  0.7822 19.0828 \n",
              "\n",
              "Coefficients:\n",
              "            Estimate Std. Error t value Pr(>|t|)    \n",
              "(Intercept) 12.93349    2.78660   4.641 3.53e-05 ***\n",
              "AGE         -0.07566    0.04388  -1.724 0.092217 .  \n",
              "METHOD.11   -5.47993    1.42945  -3.834 0.000427 ***\n",
              "---\n",
              "Signif. codes:  0 ‘***’ 0.001 ‘**’ 0.01 ‘*’ 0.05 ‘.’ 0.1 ‘ ’ 1\n",
              "\n",
              "Residual standard error: 3.965 on 41 degrees of freedom\n",
              "Multiple R-squared:  0.2713,\tAdjusted R-squared:  0.2358 \n",
              "F-statistic: 7.633 on 2 and 41 DF,  p-value: 0.00152\n"
            ]
          },
          "metadata": {}
        }
      ]
    },
    {
      "cell_type": "markdown",
      "metadata": {
        "id": "IxrLYymLyVbA"
      },
      "source": [
        "Se realizó una prueba ANOVA sobre todos los coeficientes de la regresión con una significancia de 0.05. Como puede verse en la celda anterior en la sección _F-statistic_, el p-value de la prueba es de 0.0152, que es menor a 0.05, por lo que puede inferirse que, con un 95% de confianza, al menos uno de los coeficientes de la regresión es diferente de cero.\n",
        "\n",
        "Para dar continuidad al resultado anterior, se realizó una prueba t bilateral sobre cada coeficiente de la regresión con una significancia de 0.05. Como puede verse, todos los p-values de la tabla _Coefficients_ en la celda anterior son menores a 0.025, por lo que puede inferirse que, con un 95% de confianza, cada uno de los coeficientes es, individualmente, diferente de cero."
      ]
    },
    {
      "cell_type": "code",
      "metadata": {
        "colab": {
          "base_uri": "https://localhost:8080/",
          "height": 159
        },
        "id": "9O0EMgZ8YkMG",
        "outputId": "f636c8e0-4a2e-4ad8-d546-a4082c920bce"
      },
      "source": [
        "# Se calcula el intervalo de confianza del 95% del ajuste 0\n",
        "confint(ajuste, level=0.95)"
      ],
      "execution_count": 91,
      "outputs": [
        {
          "output_type": "display_data",
          "data": {
            "text/plain": [
              "            2.5 %      97.5 %     \n",
              "(Intercept)  7.3058318 18.56114449\n",
              "AGE         -0.1642726  0.01296244\n",
              "METHOD.11   -8.3667560 -2.59310908"
            ],
            "text/latex": "A matrix: 3 × 2 of type dbl\n\\begin{tabular}{r|ll}\n  & 2.5 \\% & 97.5 \\%\\\\\n\\hline\n\t(Intercept) &  7.3058318 & 18.56114449\\\\\n\tAGE & -0.1642726 &  0.01296244\\\\\n\tMETHOD.11 & -8.3667560 & -2.59310908\\\\\n\\end{tabular}\n",
            "text/markdown": "\nA matrix: 3 × 2 of type dbl\n\n| <!--/--> | 2.5 % | 97.5 % |\n|---|---|---|\n| (Intercept) |  7.3058318 | 18.56114449 |\n| AGE | -0.1642726 |  0.01296244 |\n| METHOD.11 | -8.3667560 | -2.59310908 |\n\n",
            "text/html": [
              "<table class=\"dataframe\">\n",
              "<caption>A matrix: 3 × 2 of type dbl</caption>\n",
              "<thead>\n",
              "\t<tr><th></th><th scope=col>2.5 %</th><th scope=col>97.5 %</th></tr>\n",
              "</thead>\n",
              "<tbody>\n",
              "\t<tr><th scope=row>(Intercept)</th><td> 7.3058318</td><td>18.56114449</td></tr>\n",
              "\t<tr><th scope=row>AGE</th><td>-0.1642726</td><td> 0.01296244</td></tr>\n",
              "\t<tr><th scope=row>METHOD.11</th><td>-8.3667560</td><td>-2.59310908</td></tr>\n",
              "</tbody>\n",
              "</table>\n"
            ]
          },
          "metadata": {}
        }
      ]
    },
    {
      "cell_type": "markdown",
      "metadata": {
        "id": "E7rv45E01sDG"
      },
      "source": [
        "Para concluir el análisis de la regresión, se calcularon los intervalos de confianza del 95% de cada uno de los coeficientes de la regresión. Estos coeficientes se muestran en la tabla de la celda anterior. Es justo notar que, efectivamente, ninguno de los intervalos contiene a 0."
      ]
    },
    {
      "cell_type": "markdown",
      "metadata": {
        "id": "WcU0PSHDywL_"
      },
      "source": [
        "### 11.3.1\n"
      ]
    },
    {
      "cell_type": "markdown",
      "metadata": {
        "id": "7qS3hlTKa8iy"
      },
      "source": [
        "__Refer to the data of Exercise 10.3.2 reported by Son et al. (A-6), who studied family caregiving in Korea of older adults with dementia. The outcome variable, caregiver burden (BURDEN), was measured by the Korean Burden Inventory (KBI) where scores ranged from 28 to 140 with higher scores indicating higher burden. Perform a stepwise regression analysis on the following independent variables reported by the researchers:__\n",
        "\n",
        "CGAGE: caregiver age (years)\n",
        "\n",
        "CGINCOME: caregiver income (Won-Korean currency)\n",
        "\n",
        "CGDUR: caregiver-duration of caregiving (month)\n",
        "\n",
        "ADL: total activities of daily living where low scores indicate the elderly perform activities independently.\n",
        "\n",
        "MEM: memory and behavioral problems with higher scores indicating more problems.\n",
        "\n",
        "COG: cognitive impairment with lower scores indicating a greater degree of cognitive impairment.\n",
        "\n",
        "SOCIALSU: total score of perceived social support (25–175, higher values indicating more support).\n",
        "\n",
        "__The reported data are as follows.__"
      ]
    },
    {
      "cell_type": "code",
      "metadata": {
        "id": "Dp_k7yWqbg_G"
      },
      "source": [
        "# Se define el url donde está guardado el archivo csv a usar\n",
        "url = \"https://github.com/gilesitorr/Estadistica_Avanzada/raw/main/Parcial_2/Tarea_3/EXR_C11_S03_01.csv\"\n",
        "\n",
        "# Se lee el archivo csv desde el url que se definió\n",
        "df <- read.csv(url, header=TRUE)"
      ],
      "execution_count": 7,
      "outputs": []
    },
    {
      "cell_type": "code",
      "metadata": {
        "id": "0HT8KJGiOmBl"
      },
      "source": [
        "# Se define el modelo donde sólo se ajusta la intersección de la recta\n",
        "interseccion <- lm(BURDEN ~ 1, data=df)\n",
        "\n",
        "# Se define el modelo donde se consideran todas las variables independientes\n",
        "completo <- lm(BURDEN ~ ., data=df)\n",
        "\n",
        "# Se hace regresión stepwise con la función \"step\" de R\n",
        "stepwise <- step(intercept_only, direction='both', scope=formula(all), trace=0)"
      ],
      "execution_count": 13,
      "outputs": []
    },
    {
      "cell_type": "code",
      "metadata": {
        "colab": {
          "base_uri": "https://localhost:8080/",
          "height": 372
        },
        "id": "wekUAOPWOyoR",
        "outputId": "5a08abe7-15bd-4163-ed5e-614dfa88c60c"
      },
      "source": [
        "# Se hace el resumen\n",
        "summary(stepwise)"
      ],
      "execution_count": 14,
      "outputs": [
        {
          "output_type": "display_data",
          "data": {
            "text/plain": [
              "\n",
              "Call:\n",
              "lm(formula = BURDEN ~ MEM + SOCIALSU + CGDUR, data = df)\n",
              "\n",
              "Residuals:\n",
              "    Min      1Q  Median      3Q     Max \n",
              "-32.672  -9.977   0.367   7.774  31.523 \n",
              "\n",
              "Coefficients:\n",
              "             Estimate Std. Error t value Pr(>|t|)    \n",
              "(Intercept) 115.53922   12.36816   9.342 3.86e-15 ***\n",
              "MEM           0.56612    0.10232   5.533 2.73e-07 ***\n",
              "SOCIALSU     -0.49237    0.08930  -5.514 2.96e-07 ***\n",
              "CGDUR         0.12168    0.06486   1.876   0.0637 .  \n",
              "---\n",
              "Signif. codes:  0 ‘***’ 0.001 ‘**’ 0.01 ‘*’ 0.05 ‘.’ 0.1 ‘ ’ 1\n",
              "\n",
              "Residual standard error: 15.25 on 96 degrees of freedom\n",
              "Multiple R-squared:  0.4397,\tAdjusted R-squared:  0.4222 \n",
              "F-statistic: 25.12 on 3 and 96 DF,  p-value: 4.433e-12\n"
            ]
          },
          "metadata": {}
        }
      ]
    },
    {
      "cell_type": "markdown",
      "metadata": {
        "id": "-0uI77cG266U"
      },
      "source": [
        "En la primera columna de la tabla _Coefficients_ de la celda anterior se muestran los coeficientes estimados de la regresión _óptima_ de acuerdo con el método de _stepwise regression_. Estos coeficietes óptimos producen un coeficiente de determinación múltiple $R^2=0.44$ y un coeficiente de determinación ajustado de $R^2=0.42$.\n",
        "\n",
        "Con una prueba t bilateral sobre cada coeficiente de la regresión, con una significancia de 0.05, puede verse en la tabla _Coefficients_ que todos los p-values son menores a 0.025, por lo que puede inferirse que, con un 95% de confianza, cada uno de los coeficientes es, individualmente, diferente de cero."
      ]
    },
    {
      "cell_type": "markdown",
      "metadata": {
        "id": "BlCG0t7r-64-"
      },
      "source": [
        "### 11.4.1\n"
      ]
    },
    {
      "cell_type": "markdown",
      "metadata": {
        "id": "5C6aNgPi-65A"
      },
      "source": [
        "__In a study of violent victimization of women and men, Porcerelli et al. (A-11) collected information from 679 women and 345 men ages 18 to 64 years at several family-practice centers in the metropolitan Detroit area. Patients filled out a health history questionnaire that included a question about victimization. The following table shows the sample subjects cross-classified by gender and whether the subject self-identified as being “hit, kicked, punched, or otherwise hurt by someone within the past year.” Subjects answering yes to that question are classified “violently victimized.”__\n",
        "\n",
        "__Use logistic regression analysis to find the regression coefficients and the estimate of the odds ratio. Write an interpretation of your results.__"
      ]
    },
    {
      "cell_type": "code",
      "metadata": {
        "id": "g-5b4lEAQauH"
      },
      "source": [
        "# Se define el url donde está guardado el archivo csv a usar\n",
        "url = \"https://github.com/gilesitorr/Estadistica_Avanzada/raw/main/Parcial_2/Tarea_3/EXR_C11_S04_01.csv\"\n",
        "\n",
        "# Se lee el archivo csv desde el url que se definió\n",
        "df <- read.csv(url, header=TRUE)\n",
        "\n",
        "# Se corrige el error encontrado en la base de datos\n",
        "df$vict[1] <- 1\n",
        "df$vict[4] <- 0\n",
        "\n",
        "# NOTAS\n",
        "# sex=0 representa al sexo masculino\n",
        "# sex=1 representa al sexo femenino\n",
        "# vict=0 representa victimización violenta\n",
        "# vict=1 representa no victimización"
      ],
      "execution_count": 80,
      "outputs": []
    },
    {
      "cell_type": "code",
      "metadata": {
        "colab": {
          "base_uri": "https://localhost:8080/",
          "height": 221
        },
        "id": "DF78IESfhy9t",
        "outputId": "ac528b63-90f7-45ad-b7e4-e84757d1d97e"
      },
      "source": [
        "# La base de datos correcta\n",
        "df"
      ],
      "execution_count": 81,
      "outputs": [
        {
          "output_type": "display_data",
          "data": {
            "text/plain": [
              "  sex vict count\n",
              "1 0   1    308  \n",
              "2 0   0     37  \n",
              "3 1   1    611  \n",
              "4 1   0     68  "
            ],
            "text/latex": "A data.frame: 4 × 3\n\\begin{tabular}{lll}\n sex & vict & count\\\\\n <int> & <dbl> & <int>\\\\\n\\hline\n\t 0 & 1 & 308\\\\\n\t 0 & 0 &  37\\\\\n\t 1 & 1 & 611\\\\\n\t 1 & 0 &  68\\\\\n\\end{tabular}\n",
            "text/markdown": "\nA data.frame: 4 × 3\n\n| sex &lt;int&gt; | vict &lt;dbl&gt; | count &lt;int&gt; |\n|---|---|---|\n| 0 | 1 | 308 |\n| 0 | 0 |  37 |\n| 1 | 1 | 611 |\n| 1 | 0 |  68 |\n\n",
            "text/html": [
              "<table class=\"dataframe\">\n",
              "<caption>A data.frame: 4 × 3</caption>\n",
              "<thead>\n",
              "\t<tr><th scope=col>sex</th><th scope=col>vict</th><th scope=col>count</th></tr>\n",
              "\t<tr><th scope=col>&lt;int&gt;</th><th scope=col>&lt;dbl&gt;</th><th scope=col>&lt;int&gt;</th></tr>\n",
              "</thead>\n",
              "<tbody>\n",
              "\t<tr><td>0</td><td>1</td><td>308</td></tr>\n",
              "\t<tr><td>0</td><td>0</td><td> 37</td></tr>\n",
              "\t<tr><td>1</td><td>1</td><td>611</td></tr>\n",
              "\t<tr><td>1</td><td>0</td><td> 68</td></tr>\n",
              "</tbody>\n",
              "</table>\n"
            ]
          },
          "metadata": {}
        }
      ]
    },
    {
      "cell_type": "code",
      "metadata": {
        "id": "ZyBBsSCfRRvu"
      },
      "source": [
        "# Se hace la regresión logística\n",
        "logistica <- glm(vict ~ sex, weights=count,\n",
        "                 family=binomial(\"logit\"), data=df)"
      ],
      "execution_count": 82,
      "outputs": []
    },
    {
      "cell_type": "code",
      "metadata": {
        "colab": {
          "base_uri": "https://localhost:8080/",
          "height": 426
        },
        "id": "t-WisLYLSwSY",
        "outputId": "72814f37-eb8e-4115-919a-fe50eee761db"
      },
      "source": [
        "# Las estadísticas de prueba de la regresión\n",
        "summary(logistica)"
      ],
      "execution_count": 83,
      "outputs": [
        {
          "output_type": "display_data",
          "data": {
            "text/plain": [
              "\n",
              "Call:\n",
              "glm(formula = vict ~ sex, family = binomial(\"logit\"), data = df, \n",
              "    weights = count)\n",
              "\n",
              "Deviance Residuals: \n",
              "     1       2       3       4  \n",
              "  8.36  -12.85   11.36  -17.69  \n",
              "\n",
              "Coefficients:\n",
              "            Estimate Std. Error z value Pr(>|z|)    \n",
              "(Intercept)  2.11918    0.17398  12.180   <2e-16 ***\n",
              "sex          0.07641    0.21589   0.354    0.723    \n",
              "---\n",
              "Signif. codes:  0 ‘***’ 0.001 ‘**’ 0.01 ‘*’ 0.05 ‘.’ 0.1 ‘ ’ 1\n",
              "\n",
              "(Dispersion parameter for binomial family taken to be 1)\n",
              "\n",
              "    Null deviance: 677.12  on 3  degrees of freedom\n",
              "Residual deviance: 677.00  on 2  degrees of freedom\n",
              "AIC: 681\n",
              "\n",
              "Number of Fisher Scoring iterations: 5\n"
            ]
          },
          "metadata": {}
        }
      ]
    },
    {
      "cell_type": "markdown",
      "metadata": {
        "id": "uhPrWsr64kMI"
      },
      "source": [
        "La regresión logística ajustada $\\hat{y}=0.0764\\hat{sex}+2.1192$, donde $\\hat{y}$ es el logaritmo de la proporción entre la probabilidad de que una persona de un sexo dado sufra un acto de violencia contra la probabilidad de que no experimente violencia.\n",
        "\n"
      ]
    },
    {
      "cell_type": "code",
      "metadata": {
        "colab": {
          "base_uri": "https://localhost:8080/",
          "height": 34
        },
        "id": "njlGHdXkjmrA",
        "outputId": "0e2b22e9-3de5-40ab-f4b2-4c31072da9e7"
      },
      "source": [
        "# El odds ratio es la componente de la componente \"sex\"\n",
        "exp(logistica$coefficients)"
      ],
      "execution_count": 98,
      "outputs": [
        {
          "output_type": "display_data",
          "data": {
            "text/plain": [
              "(Intercept)         sex \n",
              "   8.324324    1.079402 "
            ],
            "text/latex": "\\begin{description*}\n\\item[(Intercept)] 8.32432424826797\n\\item[sex] 1.07940219115324\n\\end{description*}\n",
            "text/markdown": "(Intercept)\n:   8.32432424826797sex\n:   1.07940219115324\n\n",
            "text/html": [
              "<style>\n",
              ".dl-inline {width: auto; margin:0; padding: 0}\n",
              ".dl-inline>dt, .dl-inline>dd {float: none; width: auto; display: inline-block}\n",
              ".dl-inline>dt::after {content: \":\\0020\"; padding-right: .5ex}\n",
              ".dl-inline>dt:not(:first-of-type) {padding-left: .5ex}\n",
              "</style><dl class=dl-inline><dt>(Intercept)</dt><dd>8.32432424826797</dd><dt>sex</dt><dd>1.07940219115324</dd></dl>\n"
            ]
          },
          "metadata": {}
        }
      ]
    },
    {
      "cell_type": "markdown",
      "metadata": {
        "id": "T3ao2eXY9Tpi"
      },
      "source": [
        "El odds ratio es de 1.0794. Esto significa que se tiene una proporción aproximada de 108 actos de violencia contra el sexo femenino por cada 100 casos de no violencia.\n",
        "\n",
        "Recordando que el valor 0 se asocia al sexo masculino (por lo que funge como grupo de control) y el valor 1 al sexo femenino, se infiere que el sexo femenino tiene un incremento del 8% en los _odds_ de sufrir violencia que el sexo masculino."
      ]
    }
  ]
}