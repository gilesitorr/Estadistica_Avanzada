{
  "nbformat": 4,
  "nbformat_minor": 0,
  "metadata": {
    "colab": {
      "name": "EA_parcial_1.ipynb",
      "provenance": [],
      "collapsed_sections": [
        "DVvXm6LrhgaY",
        "gGU_nOMXG2-b",
        "wB-53ymhOxEx",
        "fbZ6s8yq7VcX",
        "uZbmhkP5fyLt",
        "oGQcg1I73rRV",
        "Ij_LKwbbinRP",
        "U2DZpvHnzuBN",
        "apc8tASFinRQ",
        "WcU0PSHDywL_",
        "BlCG0t7r-64-",
        "peQ3nfDkVHQW",
        "6zzg8W7DflCu",
        "9xGrjeAzr4zA"
      ],
      "include_colab_link": true
    },
    "kernelspec": {
      "name": "ir",
      "display_name": "R"
    },
    "language_info": {
      "name": "R"
    }
  },
  "cells": [
    {
      "cell_type": "markdown",
      "metadata": {
        "id": "view-in-github",
        "colab_type": "text"
      },
      "source": [
        "<a href=\"https://colab.research.google.com/github/gilesitorr/Estadistica_Avanzada/blob/main/Parcial_1/EA_parcial_1.ipynb\" target=\"_parent\"><img src=\"https://colab.research.google.com/assets/colab-badge.svg\" alt=\"Open In Colab\"/></a>"
      ]
    },
    {
      "cell_type": "markdown",
      "metadata": {
        "id": "pW1HRSR2Gr3s"
      },
      "source": [
        "# __Estadística Avanzada__\n",
        "# Parcial 1\n",
        "## _Gil Estéfano Rodríguez Rivera_"
      ]
    },
    {
      "cell_type": "markdown",
      "metadata": {
        "id": "BnmoSaZN_6YD"
      },
      "source": [
        "__Nota:__ En este Notebook se usó el kernel de R, aunque la extensión sea ipynb."
      ]
    },
    {
      "cell_type": "markdown",
      "metadata": {
        "id": "NXg8mQgU26hP"
      },
      "source": [
        "## Pregunta 1"
      ]
    },
    {
      "cell_type": "markdown",
      "metadata": {
        "id": "X4I0C9h427_J"
      },
      "source": [
        "Define analysis of variance. What is an ANOVA table? \n",
        "\n",
        "Son métodos que buscan estudiar la relación entre variables categóricas y numéricas. Y los efectos que las primeras pueden inducir en las segundas.\n",
        "\n",
        "Una tabla ANOVA muestra un resumen del análisis de varianza. Muestra los errores entre los promedios de las muestras, las desvaciones que hay dentro de cada muestra así como los valores de los estadísticos de prueba que se calculan con los distintos pares de errores."
      ]
    },
    {
      "cell_type": "markdown",
      "metadata": {
        "id": "ivCj0Lx4Fw8V"
      },
      "source": [
        "## 4"
      ]
    },
    {
      "cell_type": "markdown",
      "metadata": {
        "id": "GKmYNWSXwf0Y"
      },
      "source": [
        "__Type 1 error__\n",
        "\n",
        "El error derivado de rechazar una hipótesis nula verdadera\n"
      ]
    },
    {
      "cell_type": "markdown",
      "metadata": {
        "id": "OCEx1N8jws4E"
      },
      "source": [
        "__Type 2 error__\n",
        "\n",
        "El error derivado de no rechazar una hipótesis nula falsa"
      ]
    },
    {
      "cell_type": "markdown",
      "metadata": {
        "id": "1g7t6ox4wymH"
      },
      "source": [
        "__The power of a test__\n",
        "\n",
        "Es la probabilidad complementaria de la probabilidad de cometer un error de tipo 2. Es decir, es la probabilidad de rechazar (correctamente) una hipótesis nula que es falsa."
      ]
    },
    {
      "cell_type": "markdown",
      "metadata": {
        "id": "s1RcMYp_yoWY"
      },
      "source": [
        "__Power function__\n",
        "\n",
        "Es el complemento de la potencia. Este valor muestra la probabilidad de cometer un error de tipo 2 en una prueba de hipótesis para distintos valores del promedio de una muestra alternativa a la de la muestra original."
      ]
    },
    {
      "cell_type": "markdown",
      "metadata": {
        "id": "Z4BtDrCWxDOf"
      },
      "source": [
        "__Power curve__\n",
        "\n",
        "Es una curva que muestra la potencia de una prueba de hipótesis para distintos valores del promedio de una muestra alternativa a la de la muestra original. Es decir, es la gráfica de la función de potencia."
      ]
    },
    {
      "cell_type": "markdown",
      "metadata": {
        "id": "5AXGCml3zdya"
      },
      "source": [
        "__Operating characteristic curve__\n",
        "\n",
        "Es similar a la power curve pero grafica la probabilidad de rechazar correctamente una hipótesis nula falsa."
      ]
    },
    {
      "cell_type": "markdown",
      "metadata": {
        "id": "Pq42RyepFz1x"
      },
      "source": [
        "## 5"
      ]
    },
    {
      "cell_type": "markdown",
      "metadata": {
        "id": "BoB7XNgL0BZE"
      },
      "source": [
        "__Reliability coefficient__\n",
        "\n",
        "Es el valor de la distribución estandarizada (ya sea la z, la t, la chi cuadrada, la F, etc) que se asocia al coeficiente de confianza que se desea.\n"
      ]
    },
    {
      "cell_type": "markdown",
      "metadata": {
        "id": "OmcSXVE00E9N"
      },
      "source": [
        "__Confidence coefficient__\n",
        "\n",
        "En el sentido práctico, es el valor entre 1 y 0 que determina cuánta certeza hay de que el parámetro real que se está estimando se encuentre dentro del intervalo de confianza. El intervalo se define como:\n",
        "\n",
        "estimador +/- ( coeficiente de confiabilidad )x( error estándar )"
      ]
    },
    {
      "cell_type": "markdown",
      "metadata": {
        "id": "66w_L6da0H6C"
      },
      "source": [
        "__Precision__\n",
        "\n",
        "Es la distancia del estimador hacia uno de los extremos del intervalo de confianza:\n",
        "\n",
        "precisión = ( coeficiente de confiabilidad )x( error estándar de la media )"
      ]
    },
    {
      "cell_type": "markdown",
      "metadata": {
        "id": "JKdjtvQe0JV5"
      },
      "source": [
        "__Standard error__\n",
        "\n",
        "Es la desviación estándar de un estimador. Es decir, es una medida de la dispersión de la muestra en torno a ese estadístico."
      ]
    },
    {
      "cell_type": "markdown",
      "metadata": {
        "id": "CPHhTddS0LPk"
      },
      "source": [
        "__Estimator__\n",
        "\n",
        "Es una regla que indica cómo estimar un parámetro. Puede haber diversos estimadores para calcular un mismo parámetro."
      ]
    },
    {
      "cell_type": "markdown",
      "metadata": {
        "id": "fMx95fbq0M2j"
      },
      "source": [
        "__Margin error__\n",
        "\n",
        "Es un sinónimo de la precisión."
      ]
    },
    {
      "cell_type": "markdown",
      "metadata": {
        "id": "bMkJ7PEg05Pt"
      },
      "source": [
        "## 9"
      ]
    },
    {
      "cell_type": "markdown",
      "metadata": {
        "id": "eDQ56zPl07np"
      },
      "source": [
        "In testing a hypothesis about the difference between two population means, what is the rationale behind pooling the sample variances?\n",
        "\n",
        "Se supone que ambas muestras de estudio vienen de poblaciones normalmente distribuidas. Entonces, tiene sentido que si son distribuciones iguales, la diferencia entre las desviaciones se deba a factores como el tamaño de la muestra. Por eso, se calcula una desviación que sea un promedio ponderado de las desviaciones de cada muestra individual y su tamaño (a mayor tamaño de muestra, la desviación es más representativa de la población)."
      ]
    },
    {
      "cell_type": "markdown",
      "metadata": {
        "id": "O1DRN4FT2bmz"
      },
      "source": [
        "## 11"
      ]
    },
    {
      "cell_type": "markdown",
      "metadata": {
        "id": "5e0Xf5xk2csj"
      },
      "source": [
        "What is the finite population correction? When can it be ignored?\n",
        "\n",
        "El cálculo del tamaño de población más elemental parte de suponer que se tienen poblaciones grandes (o infinitas, en el sentido práctico). En éstas, se supone que los muestreos sin reemplazo no suponen un traslape de datos en distintas muestras. Es decir, es un método que funciona cuando se tiene certeza de que un mismo elemento no va a aparecer en dos muestras diferentes. Esta fórmula no depende del tamaño de la población (pues éste no tiene efecto al ser infinito).\n",
        "\n",
        "Cuando no se puede asegurar lo último, es decir, cuando la muestra es suficientemente pequeña (o finita), se utiliza una corrección para el cálculo de la muestra. Esa corrección depende del tamaño de la población.\n"
      ]
    },
    {
      "cell_type": "markdown",
      "metadata": {
        "id": "B1KeCWchF4zS"
      },
      "source": [
        "## 6.10.7"
      ]
    },
    {
      "cell_type": "markdown",
      "metadata": {
        "id": "4-8hTidC4dbN"
      },
      "source": [
        "__Measurements of gastric secretion of hydrochloric acid (milliequivalents per hour) in 16 normal subjects and 10 subjects with duodenal ulcer yielded the following results:__\n",
        "\n",
        "Normal subjects: 6.3, 2.0, 2.3, 0.5, 1.9, 3.2, 4.1, 4.0, 6.2, 6.1, 3.5, 1.3, 1.7, 4.5, 6.3, 6.2\n",
        "\n",
        "Ulcer subjects: 13.7, 20.6, 15.9, 28.4, 29.4, 18.4, 21.1, 3.0, 26.2, 13.0\n",
        "\n",
        "__Construct a 95 percent confidence interval for the ratio of the two population variances.__\n",
        "\n",
        "__What assumptions must be met for this procedure to be valid?__"
      ]
    },
    {
      "cell_type": "code",
      "metadata": {
        "id": "tqmPzF2H4RQH"
      },
      "source": [
        "#Los datos de las dos muestras\n",
        "data.1 <- c(6.3, 2.0, 2.3, 0.5, 1.9, 3.2, 4.1, 4.0,\n",
        "            6.2, 6.1, 3.5, 1.3, 1.7, 4.5, 6.3, 6.2)\n",
        "data.2 <- c(13.7, 20.6, 15.9, 28.4, 29.4,\n",
        "            18.4, 21.1, 3.0, 26.2, 13.0)\n",
        "\n",
        "#El tamaño\n",
        "n.1 <- length(data.1)\n",
        "n.2 <- length(data.2)\n",
        "\n",
        "#Las varianzas\n",
        "var.1 <- var(data.1)\n",
        "var.2 <- var(data.2)\n",
        "\n",
        "#La proproción de las varianzas\n",
        "var.proportion <- var.2/var.1"
      ],
      "execution_count": 1,
      "outputs": []
    },
    {
      "cell_type": "code",
      "metadata": {
        "id": "WrtHrqUU5Go2"
      },
      "source": [
        "alpha <- 0.05 #Significancia deseada\n",
        "\n",
        "f.value.down <- qf(1-alpha/2, df1 = n.2-1, df2 = n.1-1) #Valor de F_{1-\\alpha/2}\n",
        "f.value.up <- qf(alpha/2, df1 = n.2-1, df2 = n.1-1) #Valor de F_{\\alpha/2}"
      ],
      "execution_count": 2,
      "outputs": []
    },
    {
      "cell_type": "code",
      "metadata": {
        "id": "h-Phi4so5UY1"
      },
      "source": [
        "confidence.up <- var.proportion/f.value.up #Intervalo superior\n",
        "confidence.down <- var.proportion/f.value.down #Intervalo inferior"
      ],
      "execution_count": 3,
      "outputs": []
    },
    {
      "cell_type": "markdown",
      "metadata": {
        "id": "bUTAxpzU9zGr"
      },
      "source": [
        "El intervalo de confianza y la proporción obtenida:"
      ]
    },
    {
      "cell_type": "code",
      "metadata": {
        "colab": {
          "base_uri": "https://localhost:8080/"
        },
        "id": "OMw12R7J5d_-",
        "outputId": "ac79118c-fdf5-4bd6-f8af-52275d12738a"
      },
      "source": [
        "print(\"Cota inferior / Proporción / Cota superior\")\n",
        "print(paste(round(confidence.down, 4), round(var.proportion, 4),\n",
        "            round(confidence.up, 4)))"
      ],
      "execution_count": 4,
      "outputs": [
        {
          "output_type": "stream",
          "name": "stdout",
          "text": [
            "[1] \"Cota inferior / Proporción / Cota superior\"\n",
            "[1] \"5.1219 15.9942 60.2878\"\n"
          ]
        }
      ]
    },
    {
      "cell_type": "markdown",
      "metadata": {
        "id": "M201V9B2MFXS"
      },
      "source": [
        "Se infiere que, con 95% de confianza, las varianzas son distintas (porque el itervalo no contiene a 1)"
      ]
    },
    {
      "cell_type": "markdown",
      "metadata": {
        "id": "24ayJuHk6npg"
      },
      "source": [
        "Para el análisis, se debe suponer antes que las varianzas muestrales de ambas muestras provienen de muestras independientes. Ademas, se supone que ambas muestras provienen de poblaciones que siguen una distribución normal."
      ]
    },
    {
      "cell_type": "code",
      "metadata": {
        "colab": {
          "base_uri": "https://localhost:8080/",
          "height": 437
        },
        "id": "K_FtrIP5Iiug",
        "outputId": "768b3446-0b6e-4afd-dabc-cd86a28b3f49"
      },
      "source": [
        "boxplot(data.1, data.2, main=\"Diferentes mediciones en pacientes con y sin úlceras\", ylab=\"Secreción gástrica\", names = c(\"No úlceras\", \"Con úlceras\"))"
      ],
      "execution_count": 5,
      "outputs": [
        {
          "output_type": "display_data",
          "data": {
            "image/png": "[encoded data removed]",
            "text/plain": [
              "Plot with title “Diferentes mediciones en pacientes con y sin úlceras”"
            ]
          },
          "metadata": {
            "image/png": {
              "width": 420,
              "height": 420
            }
          }
        }
      ]
    },
    {
      "cell_type": "markdown",
      "metadata": {
        "id": "406isiaZ4Noq"
      },
      "source": [
        "## 7.4.5"
      ]
    },
    {
      "cell_type": "markdown",
      "metadata": {
        "id": "jhUdpuTg7XYE"
      },
      "source": [
        "__One of the purposes of an investigation by Porcellini et al. (A-19) was to investigate the effect on CD4 T cell count of administration of intermittent interleukin (IL-2) in addition to highly active antiretroviral therapy (HAART). The following table shows the CD4 T cell count at baseline and then again after 12 months of HAART therapy with IL-2. Do the data show, at the .05 level, a significant change in CD4 T cell count?__\n",
        "\n",
        "_Muestra 1_: 173 58 103 181 105 301 169\n",
        "\n",
        "_Muestra 2_: 257 108 315 362 141 549 369"
      ]
    },
    {
      "cell_type": "code",
      "metadata": {
        "colab": {
          "base_uri": "https://localhost:8080/",
          "height": 0
        },
        "id": "sH-23unH4RyD",
        "outputId": "993b2f6a-6832-4f5b-d389-fcdf1eef393c"
      },
      "source": [
        "# Muestras\n",
        "data.1 <- c(173, 58, 103, 181, 105, 301, 169)\n",
        "data.2 <- c(257, 108, 315, 362, 141, 549, 369)\n",
        "\n",
        "# Se usará diferencia a pares\n",
        "# (porque estamos estudiando los mismos sujetos antes y después de un procedimiento)\n",
        "differ <- data.1-data.2\n",
        "\n",
        "# Estadísticos\n",
        "mean <- mean(differ)\n",
        "var <- var(differ)\n",
        "n <- length(differ)\n",
        "\n",
        "# p-value pruea t\n",
        "round(pt(mean/sqrt(var/n), df=n-1), 4)"
      ],
      "execution_count": 6,
      "outputs": [
        {
          "output_type": "display_data",
          "data": {
            "text/plain": [
              "[1] 0.0021"
            ],
            "text/latex": "0.0021",
            "text/markdown": "0.0021",
            "text/html": [
              "0.0021"
            ]
          },
          "metadata": {}
        }
      ]
    },
    {
      "cell_type": "markdown",
      "metadata": {
        "id": "xtSKnZOo9BZP"
      },
      "source": [
        "Como el p-value es menor que 0.025 (significancia/2, porque es una prueba bilateral), se infiere que sí hay diferencia entre antes y después del tratamiento en el conteo de células."
      ]
    },
    {
      "cell_type": "code",
      "metadata": {
        "colab": {
          "base_uri": "https://localhost:8080/",
          "height": 0
        },
        "id": "MflrDOzzJP6-",
        "outputId": "900dac78-18c3-4f43-aeaa-a94480b30a02"
      },
      "source": [
        "boxplot(data.1, data.2, main=\"Conteo de células antes y después de un tratamiento\", ylab=\"Conteo de células\", names = c(\"Antes\", \"Después\"))"
      ],
      "execution_count": 7,
      "outputs": [
        {
          "output_type": "display_data",
          "data": {
            "image/png": "[encoded data removed]",
            "text/plain": [
              "Plot with title “Conteo de células antes y después de un tratamiento”"
            ]
          },
          "metadata": {
            "image/png": {
              "width": 420,
              "height": 420
            }
          }
        }
      ]
    },
    {
      "cell_type": "markdown",
      "metadata": {
        "id": "R9TEP0Gl4KLS"
      },
      "source": [
        "## 25"
      ]
    },
    {
      "cell_type": "markdown",
      "metadata": {
        "id": "0icGFk0--32j"
      },
      "source": [
        "__The following table shows the vital capacity measurements of 60 adult males classified by occupation and age group:__\n",
        "\n",
        "(Los datos están en [GitHub](https://github.com/gilesitorr/Estadistica_Avanzada/tree/main/Parcial_1))"
      ]
    },
    {
      "cell_type": "code",
      "metadata": {
        "id": "dFcOw4buAvU5"
      },
      "source": [
        "library(tidyverse) # Para leer datos\n",
        "library(dplyr) # Para filtrar datos"
      ],
      "execution_count": 14,
      "outputs": []
    },
    {
      "cell_type": "code",
      "metadata": {
        "id": "oUV7VHXyF6Ue",
        "colab": {
          "base_uri": "https://localhost:8080/"
        },
        "outputId": "d731494b-fa15-4234-86bd-d52760dfe16f"
      },
      "source": [
        "# Se lee la base de datos\n",
        "df <- read_csv(\"REV_C08_25.csv\")\n",
        "colnames(df) <- c(\"VC\", \"AGEGROUP\", \"OCC\")"
      ],
      "execution_count": 15,
      "outputs": [
        {
          "output_type": "stream",
          "name": "stderr",
          "text": [
            "\u001b[1m\u001b[1mRows: \u001b[1m\u001b[22m\u001b[34m\u001b[34m60\u001b[34m\u001b[39m \u001b[1m\u001b[1mColumns: \u001b[1m\u001b[22m\u001b[34m\u001b[34m3\u001b[34m\u001b[39m\n",
            "\n",
            "\u001b[36m──\u001b[39m \u001b[1m\u001b[1mColumn specification\u001b[1m\u001b[22m \u001b[36m────────────────────────────────────────────────────────\u001b[39m\n",
            "\u001b[1mDelimiter:\u001b[22m \",\"\n",
            "\u001b[31mchr\u001b[39m (1): OCC\n",
            "\u001b[32mdbl\u001b[39m (2): VC, AGEGROUP\n",
            "\n",
            "\n",
            "\u001b[36mℹ\u001b[39m Use \u001b[30m\u001b[47m\u001b[30m\u001b[47m`spec()`\u001b[47m\u001b[30m\u001b[49m\u001b[39m to retrieve the full column specification for this data.\n",
            "\u001b[36mℹ\u001b[39m Specify the column types or set \u001b[30m\u001b[47m\u001b[30m\u001b[47m`show_col_types = FALSE`\u001b[47m\u001b[30m\u001b[49m\u001b[39m to quiet this message.\n",
            "\n"
          ]
        }
      ]
    },
    {
      "cell_type": "code",
      "metadata": {
        "colab": {
          "base_uri": "https://localhost:8080/",
          "height": 141
        },
        "id": "2oknMDhFHo_j",
        "outputId": "230d00b1-1c6a-4089-8806-3275cd54d9ab"
      },
      "source": [
        "summary(aov(VC ~ AGEGROUP*OCC, data=df))"
      ],
      "execution_count": 16,
      "outputs": [
        {
          "output_type": "display_data",
          "data": {
            "text/plain": [
              "             Df Sum Sq Mean Sq F value   Pr(>F)    \n",
              "AGEGROUP      1  1.201   1.201   2.429   0.1252    \n",
              "OCC           3 19.779   6.593  13.340 1.41e-06 ***\n",
              "AGEGROUP:OCC  3  4.411   1.470   2.975   0.0399 *  \n",
              "Residuals    52 25.700   0.494                     \n",
              "---\n",
              "Signif. codes:  0 ‘***’ 0.001 ‘**’ 0.01 ‘*’ 0.05 ‘.’ 0.1 ‘ ’ 1"
            ]
          },
          "metadata": {}
        }
      ]
    },
    {
      "cell_type": "markdown",
      "metadata": {
        "id": "57rujOxBHupb"
      },
      "source": [
        "Puede verse que no hay diferencias entre grupos de edad. Hay una diferencia estadísticamente significativa, con significancia de 0.05, entre las distintas ocupaciones así como en la interacción entre grupos de edad y ocupaciones (sin embargo, el efeccto del término de la interacción es considerablemente menor al de las puras ocupaciones).\n",
        "\n",
        "Esto es incorrecto. El error puede verse en que los graados de libertaad del agegroup son 1 en lugar de 2 (pues hay 3 grupos de edad). Esto puede deberse a que R tiene problemas porque son variables numéricas.\n",
        "\n",
        "Para hacer un análisis apropiado, se hará un cambio de tipo de variables en la columna."
      ]
    },
    {
      "cell_type": "code",
      "metadata": {
        "colab": {
          "base_uri": "https://localhost:8080/",
          "height": 141
        },
        "id": "dLm4DJM9BxRt",
        "outputId": "be11a041-eacf-4008-9467-42cbb5ace415"
      },
      "source": [
        "df.casted <- transform(df, AGEGROUP = as.character(AGEGROUP))\n",
        "summary(aov(VC ~ AGEGROUP*OCC, data=df.casted))"
      ],
      "execution_count": 17,
      "outputs": [
        {
          "output_type": "display_data",
          "data": {
            "text/plain": [
              "             Df Sum Sq Mean Sq F value   Pr(>F)    \n",
              "AGEGROUP      2 12.309   6.154   29.38 4.65e-09 ***\n",
              "OCC           3 19.779   6.593   31.48 2.13e-11 ***\n",
              "AGEGROUP:OCC  6  8.949   1.491    7.12 1.83e-05 ***\n",
              "Residuals    48 10.054   0.209                     \n",
              "---\n",
              "Signif. codes:  0 ‘***’ 0.001 ‘**’ 0.01 ‘*’ 0.05 ‘.’ 0.1 ‘ ’ 1"
            ]
          },
          "metadata": {}
        }
      ]
    },
    {
      "cell_type": "markdown",
      "metadata": {
        "id": "6GkPdFfcCLUm"
      },
      "source": [
        "Luego de hacer el casting de variable, se nota que todos los grados de libertad tienen sentido. Por lo tanto, ya se puede confiar en el análisis de R. Se nota que hay diferencia en todos los rubros: agegroup, ocupación y la interacción."
      ]
    },
    {
      "cell_type": "code",
      "metadata": {
        "colab": {
          "base_uri": "https://localhost:8080/",
          "height": 437
        },
        "id": "xYx1bSX-J8vV",
        "outputId": "997d6ab6-1de3-4e7d-81c7-9523ce36c576"
      },
      "source": [
        "df.1 <- filter(df.casted, AGEGROUP==\"1\")\n",
        "df.2 <- filter(df.casted, AGEGROUP==\"2\")\n",
        "df.3 <- filter(df.casted, AGEGROUP==\"3\")\n",
        "\n",
        "boxplot(df.1$VC, df.2$VC, df.3$VC, main=\"VC por grupo de edad\", ylab=\"VC\", names = c(\"1\", \"2\", \"3\"))"
      ],
      "execution_count": 18,
      "outputs": [
        {
          "output_type": "display_data",
          "data": {
            "image/png": "[encoded data removed]",
            "text/plain": [
              "Plot with title “VC por grupo de edad”"
            ]
          },
          "metadata": {
            "image/png": {
              "width": 420,
              "height": 420
            }
          }
        }
      ]
    },
    {
      "cell_type": "code",
      "metadata": {
        "colab": {
          "base_uri": "https://localhost:8080/",
          "height": 437
        },
        "id": "mazg476bLnsC",
        "outputId": "d0dcddd7-7fc6-4aa2-c5da-f9f151917f77"
      },
      "source": [
        "df.1 <- filter(df.casted, OCC==\"a\")\n",
        "df.2 <- filter(df.casted, OCC==\"b\")\n",
        "df.3 <- filter(df.casted, OCC==\"c\")\n",
        "df.4 <- filter(df.casted, OCC==\"d\")\n",
        "\n",
        "boxplot(df.1$VC, df.2$VC, df.3$VC, df.4$VC, main=\"VC por ocupación\", ylab=\"VC\", names = c(\"a\", \"b\", \"c\", \"d\"))"
      ],
      "execution_count": 19,
      "outputs": [
        {
          "output_type": "display_data",
          "data": {
            "image/png": "[encoded data removed]",
            "text/plain": [
              "Plot with title “VC por ocupación”"
            ]
          },
          "metadata": {
            "image/png": {
              "width": 420,
              "height": 420
            }
          }
        }
      ]
    }
  ]
}