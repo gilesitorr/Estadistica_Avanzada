{
  "nbformat": 4,
  "nbformat_minor": 0,
  "metadata": {
    "colab": {
      "name": "EA_tarea_4.ipynb",
      "provenance": [],
      "collapsed_sections": [
        "DVvXm6LrhgaY",
        "gGU_nOMXG2-b",
        "wB-53ymhOxEx",
        "fbZ6s8yq7VcX",
        "uZbmhkP5fyLt",
        "oGQcg1I73rRV",
        "Ij_LKwbbinRP",
        "U2DZpvHnzuBN",
        "apc8tASFinRQ",
        "WcU0PSHDywL_",
        "BlCG0t7r-64-",
        "peQ3nfDkVHQW",
        "6zzg8W7DflCu",
        "9xGrjeAzr4zA"
      ],
      "include_colab_link": true
    },
    "kernelspec": {
      "name": "ir",
      "display_name": "R"
    },
    "language_info": {
      "name": "R"
    }
  },
  "cells": [
    {
      "cell_type": "markdown",
      "metadata": {
        "id": "view-in-github",
        "colab_type": "text"
      },
      "source": [
        "<a href=\"https://colab.research.google.com/github/gilesitorr/Estadistica_Avanzada/blob/main/Tarea_4/EA_tarea_4.ipynb\" target=\"_parent\"><img src=\"https://colab.research.google.com/assets/colab-badge.svg\" alt=\"Open In Colab\"/></a>"
      ]
    },
    {
      "cell_type": "markdown",
      "metadata": {
        "id": "pW1HRSR2Gr3s"
      },
      "source": [
        "# __Estadística Avanzada__\n",
        "# Tarea 4\n",
        "## _Gil Estéfano Rodríguez Rivera_"
      ]
    },
    {
      "cell_type": "markdown",
      "metadata": {
        "id": "BnmoSaZN_6YD"
      },
      "source": [
        "__Nota:__ En este Notebook se usó el kernel de R, aunque la extensión sea ipynb.\n",
        "\n",
        "__Nota:__ También puede encontrar el desarrollo en _GitHub_ en https://github.com/gilesitorr/Estadistica_Avanzada/tree/main/Tarea_4"
      ]
    },
    {
      "cell_type": "markdown",
      "metadata": {
        "id": "Ij_LKwbbinRP"
      },
      "source": [
        "## Biostatistics: A Foundation for Analysis in the Health Sciences\n",
        "### Wayne W. Daniel & Chad L. Cross"
      ]
    },
    {
      "cell_type": "markdown",
      "metadata": {
        "id": "CNThzj3b-2pI"
      },
      "source": [
        "In Exercise 8.2.1 to 8.2.7, go through the ten steps of analysis of variance hypothesis testing to see if you can conclude that there is a difference among population means. Let a=05 for each test. Use Tukey’s HSD procedure to test for significant differences among individual pairs of means (if appropriate). Use the same a value for the F test. Construct a dot plot and side-by-side boxplots of the data."
      ]
    },
    {
      "cell_type": "markdown",
      "metadata": {
        "id": "apc8tASFinRQ"
      },
      "source": [
        "### 8.2.5\n"
      ]
    },
    {
      "cell_type": "markdown",
      "metadata": {
        "id": "Y3hSJ6UMv_fJ"
      },
      "source": [
        "__In a study by Wang et al. (A-6), researchers examined bone strength. They collected 10 cadaveric femurs from subjects in three age groups: young (19–49 years), middle-aged (50–69 years), and elderly (70 years or older) (Note: one value was missing in the middle-aged group). One of the outcome measures (W) was the force in Newtons required to fracture the bone. The following table shows the data for the three age groups.__\n",
        "\n",
        "_Young (Y)_: 193.6, 137.5, 122.0, 145.4, 117.0, 105.4, 99.9, 74.0, 74.4, 112.8\n",
        "\n",
        "_Middle-Aged (MA)_: 125.4, 126.5, 115.9, 98.8, 94.3, 99.9, 83.3, 72.8, 83.5\n",
        "\n",
        "_Elderly (E)_: 59.0, 87.2, 84.4, 78.1, 51.9, 57.1, 54.7, 78.6, 53.7, 96.0"
      ]
    },
    {
      "cell_type": "code",
      "metadata": {
        "id": "2tDrlFP645fI"
      },
      "source": [
        "# Los datos\n",
        "y <- c(193.6, 137.5, 122.0, 145.4, 117.0, 105.4, 99.9, 74.0, 74.4, 112.8)\n",
        "ma <- c(125.4, 126.5, 115.9, 98.8, 94.3, 99.9, 83.3, 72.8, 83.5)\n",
        "e <- c(59.0, 87.2, 84.4, 78.1, 51.9, 57.1, 54.7, 78.6, 53.7, 96.0)\n",
        "\n",
        "# Todos los datos\n",
        "total <- c(y, ma, e)\n",
        "\n",
        "# Los promedios de cada dataset\n",
        "mean.y <- mean(y)\n",
        "mean.ma <- mean(ma)\n",
        "mean.e <- mean(e)\n",
        "mean.total <- mean(total)\n",
        "\n",
        "# Los tamaños de cada dataset\n",
        "n.y <- length(y)\n",
        "n.ma <- length(ma)\n",
        "n.e <- length(e)\n",
        "n.total <- length(total)\n",
        "\n",
        "# El número de grupos\n",
        "k <- 3\n",
        "\n",
        "# Cálculo de los valores de la prueba\n",
        "ssw <- sum((y-mean.y)**2) + sum((ma-mean.ma)**2) + sum((e-mean.e)**2)\n",
        "ssa <- n.y*((mean.y-mean.total)**2) + n.ma*((mean.ma-mean.total)**2) + n.e*((mean.e-mean.total)**2)\n",
        "\n",
        "msw <- ssw/(n.total-k)\n",
        "msa <- ssa/(k-1)\n",
        "\n",
        "# El estadístico de prueba\n",
        "vr <- msa/msw"
      ],
      "execution_count": 1,
      "outputs": []
    },
    {
      "cell_type": "code",
      "metadata": {
        "colab": {
          "base_uri": "https://localhost:8080/",
          "height": 0
        },
        "id": "_mAtyJUQGdV6",
        "outputId": "0badc7ea-ac1e-4dfa-f2f8-da1501e57771"
      },
      "source": [
        "# El p-value de la prueba F\n",
        "1-pf(vr, k-1, n.total-k)"
      ],
      "execution_count": 2,
      "outputs": [
        {
          "output_type": "display_data",
          "data": {
            "text/plain": [
              "[1] 0.0009214117"
            ],
            "text/latex": "0.000921411745083534",
            "text/markdown": "0.000921411745083534",
            "text/html": [
              "0.000921411745083534"
            ]
          },
          "metadata": {}
        }
      ]
    },
    {
      "cell_type": "markdown",
      "metadata": {
        "id": "BFXTy_OuIjPZ"
      },
      "source": [
        "Como el p-value es menor que 0.05, se rechaza la hipótesis de que todas las medias son iguales. Por lo tanto, la media de al menos de uno de los grupos es diferente de las demás."
      ]
    },
    {
      "cell_type": "code",
      "metadata": {
        "colab": {
          "base_uri": "https://localhost:8080/",
          "height": 0
        },
        "id": "EQVFD2KSU-zl",
        "outputId": "95a5b454-0011-42ad-ccef-92176360dcfe"
      },
      "source": [
        "boxplot(y, ma, e, main=\"Force in Newtons required to fracture a femur\", ylab=\"Newtons\", names = c(\"Young\", \"Middle-aged\", \"Elderly\"))"
      ],
      "execution_count": 3,
      "outputs": [
        {
          "output_type": "display_data",
          "data": {
            "image/png": "[encoded data removed]",
            "text/plain": [
              "Plot with title “Force in Newtons required to fracture a femur”"
            ]
          },
          "metadata": {
            "image/png": {
              "width": 420,
              "height": 420
            }
          }
        }
      ]
    },
    {
      "cell_type": "markdown",
      "metadata": {
        "id": "WcU0PSHDywL_"
      },
      "source": [
        "### 8.2.7\n"
      ]
    },
    {
      "cell_type": "markdown",
      "metadata": {
        "id": "DfMLWnQoywML"
      },
      "source": [
        "__Thrombocytopaenia is a condition of abnormally low platelets that often occurs during necrotizing enterocolitis (NEC)—a serious illness in infants that can cause tissue damage to the intestines. Ragazzi et al. (A-8) investigated differences in the log10 of platelet counts in 178 infants with NEC. Patients were grouped into four categories of NEC status. Group 0 referred to infants with no gangrene, group 1 referred to subjects in whom gangrene was limited to a single intestinal segment,\n",
        "group 2 referred to patients with two or more intestinal segments of gangrene, and group 3 referred to patients with the majority of small and large bowel involved. The following table gives the log10 platelet counts for these subjects.__\n",
        "\n",
        "_0:_ 1.97, 2.33, 2.48, 0.85, 2.60, 2.23,\n",
        "     1.79, 1.88, 2.51, 2.30, 2.33, 2.38,\n",
        "     1.71, 2.48, 2.31, 2.66, 2.15, 2.08,\n",
        "     2.66, 2.15, 2.08, 2.49, 1.41, 2.49,\n",
        "     2.37, 2.03, 2.21, 1.81, 2.59, 2.45,\n",
        "     2.51, 2.23, 1.96, 2.38, 1.61, 2.29,\n",
        "     2.58, 2.33, 2.23, 2.84, 2.34, 2.78,\n",
        "     2.55, 1.38, 2.36, 1.90, 2.52, 1.89,\n",
        "     2.28, 2.35, 2.26, 2.33, 2.63, 1.79,\n",
        "     1.77, 2.03, 1.87, 1.83, 1.08, 2.51,\n",
        "     1.67, 2.40, 2.29, 2.67, 1.77, 2.38,\n",
        "     1.80\n",
        "\n",
        "_1:_ 1.38, 2.45, 1.86, 2.60, 2.26, 1.83,\n",
        "     1.99, 2.47, 1.32, 1.92, 2.11, 2.51,\n",
        "     2.54, 1.79, 2.06, 2.17, 2.41, 2.18,\n",
        "     2.23, 2.53, 2.00, 1.98, 2.74, 1.93,\n",
        "     2.00, 2.42, 2.51, 0.79, 2.08, 1.38\n",
        "\n",
        "_2:_ 1.87, 2.37, 1.90, 1.75, 2.43, 2.57,\n",
        "     1.32, 1.51, 2.06, 1.08, 1.04, 2.36,\n",
        "     1.99, 2.55, 2.52, 1.80, 1.93, 2.44,\n",
        "     2.29, 2.81, 1.75, 2.17, 2.16, 2.72,\n",
        "     1.81, 2.44, 2.46, 1.98, 1.66, 1.57,\n",
        "     2.51, 2.05, 1.76, 2.30, 1.72, 1.36,\n",
        "     2.57, 2.48, 2.30, 1.40, 0.70, 1.75,\n",
        "     2.16, 2.67, 2.17, 2.37, 2.12, 1.46,\n",
        "     2.27, 1.91\n",
        "\n",
        "_3:_ 1.77, 1.68, 1.46, 1.53, 1.36, 1.65,\n",
        "     2.12, 1.73, 1.91, 1.57, 2.27, 1.00,\n",
        "     1.81, 2.27, 2.43, 1.74, 1.60, 2.08,\n",
        "     2.34, 1.89, 1.75, 1.69, 2.49, 1.75,\n",
        "     1.86, 1.26, 2.36"
      ]
    },
    {
      "cell_type": "code",
      "metadata": {
        "id": "hJ-mXa7tQHdu"
      },
      "source": [
        "# Los datos\n",
        "\n",
        "data.0 <- c(1.97, 2.33, 2.48,\n",
        "            0.85, 2.60, 2.23,\n",
        "            1.79, 1.88, 2.51,\n",
        "            2.30, 2.33, 2.38,\n",
        "            1.71, 2.48, 2.31,\n",
        "            2.66, 2.15, 2.08,\n",
        "            2.49, 1.41, 2.49,\n",
        "            2.37, 2.03, 2.21,\n",
        "            1.81, 2.59, 2.45,\n",
        "            2.51, 2.23, 1.96,\n",
        "            2.38, 1.61, 2.29,\n",
        "            2.58, 1.86, 2.54,\n",
        "            2.58, 2.33, 2.23,\n",
        "            2.84, 2.34, 2.78,\n",
        "            2.55, 1.38, 2.36,\n",
        "            1.90, 2.52, 1.89,\n",
        "            2.28, 2.35, 2.26,\n",
        "            2.33, 2.63, 1.79,\n",
        "            1.77, 2.03, 1.87,\n",
        "            1.83, 1.08, 2.51,\n",
        "            1.67, 2.40, 2.29,\n",
        "            2.67, 1.77, 2.38, 1.80) \n",
        " \n",
        "\n",
        "data.1 <- c(1.38, 2.45, \n",
        "            1.86, 2.60, \n",
        "            2.26, 1.83, \n",
        "            1.99, 2.47, \n",
        "            1.32, 1.92, \n",
        "            2.11, 2.51, \n",
        "            2.54, 1.79, \n",
        "            2.06, 2.17, \n",
        "            2.41, 2.18, \n",
        "            2.23, 2.53, \n",
        "            2.00, 1.98, \n",
        "            2.74, 1.93, \n",
        "            2.00, 2.42, \n",
        "            2.51, 0.79, \n",
        "            2.08, 1.38)\n",
        "\n",
        "data.2 <- c(1.87, 2.37, \n",
        "            1.90, 1.75, \n",
        "            2.43, 2.57, \n",
        "            1.32, 1.51, \n",
        "            2.06, 1.08, \n",
        "            1.04, 2.36,\n",
        "            1.99, 1.58, \n",
        "            1.52, 1.83, \n",
        "            1.99, 2.55, \n",
        "            2.52, 1.80, \n",
        "            1.93, 2.44, \n",
        "            2.29, 2.81, \n",
        "            1.75, 2.17, \n",
        "            2.16, 2.72, \n",
        "            1.81, 2.44, \n",
        "            2.46, 1.98, \n",
        "            1.66, 1.57, \n",
        "            2.51, 2.05, \n",
        "            1.76, 2.30, \n",
        "            1.72, 1.36, \n",
        "            2.57, 2.48, \n",
        "            2.30, 1.40,\n",
        "            0.70, 1.75,\n",
        "            2.16, 2.67,\n",
        "            2.17, 2.37,\n",
        "            2.12, 1.46,\n",
        "            2.27, 1.91)\n",
        "\n",
        "data.3 <- c(1.77,\n",
        "            1.68,\n",
        "            1.46,\n",
        "            1.53,\n",
        "            1.36,\n",
        "            1.65,\n",
        "            2.12,\n",
        "            1.73,\n",
        "            1.91,\n",
        "            1.57,\n",
        "            2.27,\n",
        "            1.00,\n",
        "            1.81,\n",
        "            2.27,\n",
        "            2.43,\n",
        "            1.74,\n",
        "            1.60,\n",
        "            2.08,\n",
        "            2.34,\n",
        "            1.89,\n",
        "            1.75,\n",
        "            1.69,\n",
        "            2.49,\n",
        "            1.75,\n",
        "            1.86,\n",
        "            1.26,\n",
        "            2.36)\n",
        "\n",
        "# Todos los datos\n",
        "total <- c(data.0, data.1, data.2, data.3)"
      ],
      "execution_count": 4,
      "outputs": []
    },
    {
      "cell_type": "code",
      "metadata": {
        "id": "uFUaVvjIKvkz"
      },
      "source": [
        "# Los promedios de cada dataset\n",
        "mean.0 <- mean(data.0)\n",
        "mean.1 <- mean(data.1)\n",
        "mean.2 <- mean(data.2)\n",
        "mean.3 <- mean(data.3)\n",
        "mean.total <- mean(total)\n",
        "\n",
        "# Los tamaños de cada dataset\n",
        "n.0 <- length(data.0)\n",
        "n.1 <- length(data.1)\n",
        "n.2 <- length(data.2)\n",
        "n.3 <- length(data.3)\n",
        "n.total <- length(total)\n",
        "\n",
        "# El número de grupos\n",
        "k <- 4\n",
        "\n",
        "# Cálculo de los valores de la prueba\n",
        "ssw <- sum((data.0-mean.0)**2) + sum((data.1-mean.1)**2) + sum((data.2-mean.2)**2) + sum((data.3-mean.3)**2) \n",
        "ssa <- n.0*((mean.0-mean.total)**2) + n.1*((mean.1-mean.total)**2) + n.2*((mean.2-mean.total)**2) + n.3*((mean.3-mean.total)**2)\n",
        "\n",
        "msw <- ssw/(n.total-k)\n",
        "msa <- ssa/(k-1)\n",
        "\n",
        "# El estadístico de prueba\n",
        "vr <- msa/msw"
      ],
      "execution_count": 5,
      "outputs": []
    },
    {
      "cell_type": "code",
      "metadata": {
        "colab": {
          "base_uri": "https://localhost:8080/",
          "height": 0
        },
        "id": "qM7Jk1OBKzlF",
        "outputId": "a6c517ea-f80b-48d7-822f-31b2e8844fea"
      },
      "source": [
        "# El p-value de la prueba F\n",
        "1-pf(vr, k-1, n.total-k)"
      ],
      "execution_count": 6,
      "outputs": [
        {
          "output_type": "display_data",
          "data": {
            "text/plain": [
              "[1] 0.002554792"
            ],
            "text/latex": "0.00255479156800686",
            "text/markdown": "0.00255479156800686",
            "text/html": [
              "0.00255479156800686"
            ]
          },
          "metadata": {}
        }
      ]
    },
    {
      "cell_type": "markdown",
      "metadata": {
        "id": "sIw_0PQ2RZUn"
      },
      "source": [
        "Como el p-value es menor que 0.05, se rechaza la hipótesis de que todas las medias son iguales. Por lo tanto, la media de al menos de uno de los grupos es diferente de las demás."
      ]
    },
    {
      "cell_type": "code",
      "metadata": {
        "colab": {
          "base_uri": "https://localhost:8080/",
          "height": 0
        },
        "id": "w9r6stADV6Al",
        "outputId": "3b133d59-88d4-4903-943b-417df72cb411"
      },
      "source": [
        "boxplot(data.0, data.1, data.2, data.3, main=\"Infants with intestinal gangrene\", ylab=\"log_10 of platelet counts\", names = c(\"No gangrene\", \"Single segment\", \"Many segments\", \"Majority\"))"
      ],
      "execution_count": 7,
      "outputs": [
        {
          "output_type": "display_data",
          "data": {
            "image/png": "[encoded data removed]",
            "text/plain": [
              "Plot with title “Infants with intestinal gangrene”"
            ]
          },
          "metadata": {
            "image/png": {
              "width": 420,
              "height": 420
            }
          }
        }
      ]
    },
    {
      "cell_type": "markdown",
      "metadata": {
        "id": "BlCG0t7r-64-"
      },
      "source": [
        "### 8.3.5\n"
      ]
    },
    {
      "cell_type": "markdown",
      "metadata": {
        "id": "5C6aNgPi-65A"
      },
      "source": [
        "__Four subjects participated in an experiment to compare three methods of relieving stress. Each\n",
        "subject was placed in a stressful situation on three different occasions. Each time a different method\n",
        "for reducing stress was used with the subject. The response variable is the amount of decrease in stress\n",
        "level as measured before and after treatment application. The results were as follows:__\n",
        "\n",
        "_Subject 1:_ 16, 26, 22\n",
        "\n",
        "_Subject 2:_ 16, 20, 23\n",
        "\n",
        "_Subject 3:_ 17, 21, 22\n",
        "\n",
        "_Subject 4:_ 28, 29, 36\n",
        "\n",
        "__Can we conclude from these data that the three methods differ in effectiveness?__"
      ]
    },
    {
      "cell_type": "code",
      "metadata": {
        "id": "GfQcl3vXPYQn"
      },
      "source": [
        "# Los datos por sujeto\n",
        "subject.1 <- c(16, 26, 22)\n",
        "subject.2 <- c(16, 20, 23)\n",
        "subject.3 <- c(17, 21, 22)\n",
        "subject.4 <- c(28, 29, 36)\n",
        "\n",
        "# Los datos por tratamiento\n",
        "treatment.1 <- c(16, 16, 17, 28)\n",
        "treatment.2 <- c(26, 20, 21, 29)\n",
        "treatment.3 <- c(22, 23, 22, 36)\n",
        "\n",
        "# Todos los datos\n",
        "total <- c(treatment.1, treatment.2, treatment.3)\n",
        "mean.total <- mean(total)\n",
        "\n",
        "# Los promedios por tratamientp\n",
        "mean.1 <- mean(treatment.1)\n",
        "mean.2 <- mean(treatment.2)\n",
        "mean.3 <- mean(treatment.3)\n",
        "\n",
        "# Los promedios por sujeto\n",
        "mean1. <- mean(subject.1)\n",
        "mean2. <- mean(subject.2)\n",
        "mean3. <- mean(subject.3)\n",
        "mean4. <- mean(subject.4)\n",
        "\n",
        "# Tamaños\n",
        "n <- 4\n",
        "k <- 3\n",
        "\n",
        "# Los cálculos necesarios\n",
        "sst <- sum( (treatment.1-mean.total)**2 ) + sum( (treatment.2-mean.total)**2 ) + sum( (treatment.3-mean.total)**2 )\n",
        "ssbi <- k*( (mean1.-mean.total)**2 + (mean2.-mean.total)**2 + (mean3.-mean.total)**2 + (mean4.-mean.total)**2 )\n",
        "sstr <- n*( (mean.1-mean.total)**2 + (mean.2-mean.total)**2 + (mean.3-mean.total)**2 )\n",
        "sse <- sst-ssbi-sstr\n",
        "\n",
        "mstr <- sstr/(k-1)\n",
        "mse <- sse/((n-1)*(k-1))"
      ],
      "execution_count": 8,
      "outputs": []
    },
    {
      "cell_type": "code",
      "metadata": {
        "colab": {
          "base_uri": "https://localhost:8080/",
          "height": 0
        },
        "id": "dt9mVB09V9Cf",
        "outputId": "7d367c5e-cebb-496e-de3c-bcd1b4e2b8d6"
      },
      "source": [
        "# El estadístico de prueba\n",
        "vr <- mstr/mse\n",
        "\n",
        "# El cálculo del p-value usando la distribución F\n",
        "1-pf(vr, k-1, (n-1)*(k-1))"
      ],
      "execution_count": 9,
      "outputs": [
        {
          "output_type": "display_data",
          "data": {
            "text/plain": [
              "[1] 0.02420454"
            ],
            "text/latex": "0.0242045350904172",
            "text/markdown": "0.0242045350904172",
            "text/html": [
              "0.0242045350904172"
            ]
          },
          "metadata": {}
        }
      ]
    },
    {
      "cell_type": "markdown",
      "metadata": {
        "id": "1qqPPnRBZfPV"
      },
      "source": [
        "Como el p-value del estadístico de prueba es menor a 0.05, se infiere que al menos un tratamiento difiere en efectividad."
      ]
    },
    {
      "cell_type": "markdown",
      "metadata": {
        "id": "peQ3nfDkVHQW"
      },
      "source": [
        "### 8.3.7"
      ]
    },
    {
      "cell_type": "markdown",
      "metadata": {
        "id": "V4xXFai5VHQs"
      },
      "source": [
        "__Hodgson et al. (A-14) conducted a study in which they induced gastric dilatation in six anesthetized dogs maintained with constant-dose isoflurane in oxygen. Cardiopulmonary measurements prior to stomach distension (baseline) were compared with measurements taken during .1, .5, 1.0, 1.5, 2.5, and 3.5 hours of stomach distension by analyzing the change from baseline. After distending the stomach, cardiac index increased from 1.5 to 3.5 hours. Stroke volume did not change. During inflation, increases were observed in systemic arterial, pulmonary\n",
        "arterial, and right atrial pressure. Respiratory frequency was unchanged. PaO2 tended to decrease during gastric dilatation. What are the experimental units? The blocks? Treatment variable? Response variable(s)? Can you think of any extraneous variable whose effect would contribute to the error term? Construct an ANOVA table for this study in which you identify the sources of variability and specify the degrees of freedom__"
      ]
    },
    {
      "cell_type": "markdown",
      "metadata": {
        "id": "BiEI99lkcROv"
      },
      "source": [
        "La variable del tratamiento son las horas después de la distensión. La variable de respuesta es el cambio de volumen estomacal.\n",
        "\n",
        "Una variable que puede inducir errores es la diferencia de volumen que ocurre cuando el corazón impulsa el flujo de sangre.\n",
        "\n",
        "Una fuente de variabilidad puede ser la raza y la edad del perrom, pues afectan en su tamaño. Una manera apropiada de estudiar por igual a todos los sujetos sería normalizar las diferencias del volumen en términos del cambio de volumen usual del estómago."
      ]
    },
    {
      "cell_type": "markdown",
      "metadata": {
        "id": "-huuh0K_Y1q1"
      },
      "source": [
        "```\n",
        "                    Treatments\n",
        "        __________________________________\n",
        "Blocks |  0.1   0.5   1.0   1.5   2.5   3.5 (hours after stomach distension)\n",
        "Dog 1  |\n",
        "Dog 2  |\n",
        "Dog 3  |\n",
        "Dog 4  |\n",
        "Dog 5  |\n",
        "Dog 6  |\n",
        "\n",
        "```"
      ]
    },
    {
      "cell_type": "markdown",
      "metadata": {
        "id": "6JOhHJJha3TZ"
      },
      "source": [
        "```\n",
        "Source      SS   d.f.   MS      V.R.\n",
        "______________________________________\n",
        "Treatments   -    5      -    MSTr/MSE\n",
        "Blocks       -    5      -\n",
        "Residual     -    25     -\n",
        "______________________________________\n",
        "Total        -    35\n",
        "\n",
        "```"
      ]
    },
    {
      "cell_type": "markdown",
      "metadata": {
        "id": "6zzg8W7DflCu"
      },
      "source": [
        "### 8.4.3"
      ]
    },
    {
      "cell_type": "markdown",
      "metadata": {
        "id": "-QqBomCQflDK"
      },
      "source": [
        "__Holben et al. (A-19) designed a study to evaluate selenium intake in young women in the years of puberty. The researchers studied a cohort of 16 women for three consecutive summers. One of the outcome variables was the selenium intake per day. The researchers examined dietary journals of the subjects over the course of 2 weeks and then computed the average daily selenium intake. The following table shows the average daily selenium intake values in \\mu g=d for the 16 women in years 1, 2, and 3 of the study.__\n",
        "\n",
        "_Subject 1:_ 112.51, 121.28, 94.99\n",
        "\n",
        "_Subject 2:_ 106.20, 121.14, 145.69\n",
        "\n",
        "_Subject 3:_ 102.00, 121.14, 130.37\n",
        "\n",
        "_Subject 4:_ 103.74, 90.21, 135.91\n",
        "\n",
        "_Subject 5:_ 103.17, 121.14, 145.69\n",
        "\n",
        "_Subject 6:_ 112.65, 98.11, 145.69\n",
        "\n",
        "_Subject 7:_ 106.20, 121.14, 136.43\n",
        "\n",
        "_Subject 8:_ 83.57, 102.87, 144.35\n",
        "\n",
        "_Subject 9:_ 95.05, 93.89, 73.26\n",
        "\n",
        "_Subject 10:_ 112.65, 100.47, 145.69\n",
        "\n",
        "_Subject 11:_ 103.74, 121.14, 123.97\n",
        "\n",
        "_Subject 12:_ 103.74, 121.14, 135.91\n",
        "\n",
        "_Subject 13:_ 112.67, 104.66, 136.87\n",
        "\n",
        "_Subject 14:_ 106.20, 121.14, 126.42\n",
        "\n",
        "_Subject 15:_ 103.74, 121.14, 136.43\n",
        "\n",
        "_Subject 16:_ 106.20, 100.47, 135.91"
      ]
    },
    {
      "cell_type": "code",
      "metadata": {
        "id": "EDYXIGJ7j2J3"
      },
      "source": [
        "# Los sujetos\n",
        "subject.1 <- c(112.51, 121.28, 94.99)\n",
        "subject.2 <- c(106.20, 121.14, 145.69)\n",
        "subject.3 <- c(102.00, 121.14, 130.37)\n",
        "subject.4 <- c(103.74, 90.21, 135.91)\n",
        "subject.5 <- c(103.17, 121.14, 145.69)\n",
        "subject.6 <- c(112.65, 98.11, 145.69)\n",
        "subject.7 <- c(106.20, 121.14, 136.43)\n",
        "subject.8 <- c(83.57, 102.87, 144.35)\n",
        "subject.9 <- c(95.05, 93.89, 73.26)\n",
        "subject.10 <- c(112.65, 100.47, 145.69)\n",
        "subject.11 <- c(103.74, 121.14, 123.97)\n",
        "subject.12 <- c(103.74, 121.14, 135.91)\n",
        "subject.13 <- c(112.67, 104.66, 136.87)\n",
        "subject.14 <- c(106.20, 121.14, 126.42)\n",
        "subject.15 <- c(103.74, 121.14, 136.43)\n",
        "subject.16 <- c(106.20, 100.47, 135.91)\n",
        "\n",
        "total <- rbind(subject.1, subject.2, subject.3, subject.4,\n",
        "               subject.5, subject.6, subject.7, subject.8,\n",
        "               subject.9, subject.10, subject.11, subject.12,\n",
        "               subject.13, subject.14, subject.15, subject.16)\n",
        "\n",
        "# Los tratamientos\n",
        "year.1 <- c()\n",
        "year.2 <- c()\n",
        "year.3 <- c()\n",
        "for (i in 1:16){\n",
        "  year.1 <- c(year.1, total[i, 1])\n",
        "  year.2 <- c(year.2, total[i, 2])\n",
        "  year.3 <- c(year.3, total[i, 3])\n",
        "}"
      ],
      "execution_count": 10,
      "outputs": []
    },
    {
      "cell_type": "code",
      "metadata": {
        "id": "c9C0ZIWxvZYt"
      },
      "source": [
        "# Los promedios del total\n",
        "mean.total <- mean(total)\n",
        "\n",
        "# Los promedios por tratamiento\n",
        "mean.1 <- mean(year.1)\n",
        "mean.2 <- mean(year.2)\n",
        "mean.3 <- mean(year.3)\n",
        "\n",
        "# Los promedios por sujeto\n",
        "mean.subject <- c(mean(subject.1))\n",
        "for (i in 1:16){\n",
        "  mean.subject <- c(mean.subject, mean(total[i,]))\n",
        "}\n",
        "\n",
        "# Tamaños\n",
        "n <- 16\n",
        "k <- 3\n",
        "\n",
        "# Los cálculos necesarios\n",
        "sst <- sum( (year.1-mean.total)**2 ) + sum( (year.2-mean.total)**2 ) + sum( (year.3-mean.total)**2 )\n",
        "ssbi <- 0\n",
        "for (i in 1:16){\n",
        "  ssbi <- ssbi + (mean.subject[i]-mean.total)**2\n",
        "}\n",
        "ssbi <- k*ssbi\n",
        "sstr <- n*( (mean.1-mean.total)**2 + (mean.2-mean.total)**2 + (mean.3-mean.total)**2 )\n",
        "sse <- sst-ssbi-sstr\n",
        "\n",
        "mstr <- sstr/(k-1)\n",
        "mse <- sse/((n-1)*(k-1))"
      ],
      "execution_count": 11,
      "outputs": []
    },
    {
      "cell_type": "code",
      "metadata": {
        "colab": {
          "base_uri": "https://localhost:8080/",
          "height": 0
        },
        "id": "DqYivebnw2km",
        "outputId": "edfd3165-edfe-49f8-e268-ac4517df31a2"
      },
      "source": [
        "# El estadístico de prueba\n",
        "vr <- mstr/mse\n",
        "\n",
        "# El cálculo del p-value usando la distribución F\n",
        "1-pf(vr, k-1, (n-1)*(k-1))"
      ],
      "execution_count": 12,
      "outputs": [
        {
          "output_type": "display_data",
          "data": {
            "text/plain": [
              "[1] 1.291641e-05"
            ],
            "text/latex": "1.29164112516733e-05",
            "text/markdown": "1.29164112516733e-05",
            "text/html": [
              "1.29164112516733e-05"
            ]
          },
          "metadata": {}
        }
      ]
    },
    {
      "cell_type": "markdown",
      "metadata": {
        "id": "fOJ6TJUZw-Fv"
      },
      "source": [
        "Como el p-value del estadístico de prueba es menor a 0.05, se infiere que al menos un año hubo una diferencia de consumo."
      ]
    },
    {
      "cell_type": "markdown",
      "metadata": {
        "id": "okX1ts4Xu9RB"
      },
      "source": [
        "### 8.4.5"
      ]
    },
    {
      "cell_type": "markdown",
      "metadata": {
        "id": "iwt6Y32fu9RC"
      },
      "source": [
        "__Werther et al. (A-21) examined the vascular endothelial growth factor (VEGF) concentration in blood from colon cancer patients. Research suggests that inhibiting VEGF may disrupt tumor growth. The researchers measured VEGF concentration (ng/L) for 10 subjects and found an upward trend in VEGF concentrations during the clotting time measured at baseline, and hours 1 and 2. What is the response variable? What is the treatment variable? Construct an ANOVA table for this study in which you identify the sources of variability and specify the degrees of freedom for each.__"
      ]
    },
    {
      "cell_type": "markdown",
      "metadata": {
        "id": "lpaWqhww5RCV"
      },
      "source": [
        "La variable de respuesta es la concentración de VEGF. La variable del tratamiento es las horas que transcurrieron desde el tiempo de _clotting_."
      ]
    },
    {
      "cell_type": "markdown",
      "metadata": {
        "id": "6SWEYBcY4gtn"
      },
      "source": [
        "```\n",
        "                       Treatments\n",
        "            __________________________________\n",
        "Blocks     |       1                 2         (hours in clotting time)\n",
        "Subject 1  |\n",
        "Subject 2  |\n",
        "   ...     |\n",
        "Subject 10 |\n",
        "\n",
        "```"
      ]
    },
    {
      "cell_type": "markdown",
      "metadata": {
        "id": "T6Fmq01P4hfE"
      },
      "source": [
        "```\n",
        "Source      SS   d.f.   MS      V.R.\n",
        "______________________________________\n",
        "Treatments   -    1      -    MSTr/MSE\n",
        "Blocks       -    9      -\n",
        "Residual     -    9      -\n",
        "______________________________________\n",
        "Total        -    19\n",
        "\n",
        "```"
      ]
    },
    {
      "cell_type": "markdown",
      "metadata": {
        "id": "jdn5AJe4u-ui"
      },
      "source": [
        "### 8.5.3"
      ]
    },
    {
      "cell_type": "markdown",
      "metadata": {
        "id": "fZ3YwEumu-ui"
      },
      "source": [
        "__Main et al. (A-24) state, “Primary headache is a very common condition and one that nurses encounter in many different care settings. Yet, there is a lack of evidence as to whether advice\n",
        "given to sufferers is effective and what improvements may be expected in the conditions.” The researchers assessed frequency of headaches at the beginning and end of the study for 19 subjects in an intervention group (treatment 1) and 25 subjects in a control group (treatment 2).\n",
        "Subjects in the intervention group received health education from a nurse, while the control group did not receive education. In the 6 months between pre- and post-evaluation, the subjects kept a headache diary. The following table gives as the response variable the difference (pre – post) in frequency of headaches over the 6 months for two factors: (1) treatment with two levels (intervention and control), and (2) migraine status with two levels (migraine sufferer and nonmigraine sufferer).__\n",
        "\n",
        "__Can one conclude on the basis of these data that there is a difference in the reduction of headache frequency between the control and treatment groups? Can one conclude that there is a difference in the reduction of headache frequency between migraine and non-migraine sufferers? Can one conclude that there is interaction between treatments and migraine status?__"
      ]
    },
    {
      "cell_type": "code",
      "metadata": {
        "id": "c4FtwH3P6UKM"
      },
      "source": [
        "# Los datos\n",
        "data <- rbind(c(-2, 1, 1),\n",
        "              c(-3, 2, 2),\n",
        "              c(2, 2, 1),\n",
        "              c(-6, 2, 2),\n",
        "              c(33, 1, 1),\n",
        "              c(11, 1, 2),\n",
        "              c(-6, 2, 1),\n",
        "              c(64, 1, 2),\n",
        "              c(6, 2, 1),\n",
        "              c(65, 1, 2),\n",
        "              c(98, 1, 1),\n",
        "              c(14, 1, 2),\n",
        "              c(2, 2, 1),\n",
        "              c(8, 1, 2),\n",
        "              c(6, 2, 1),\n",
        "              c(6, 2, 2),\n",
        "              c(33, 1, 1),\n",
        "              c(14, 1, 2),\n",
        "              c(-7, 2, 1),\n",
        "              c(-11, 2, 2),\n",
        "              c(-1, 2, 1),\n",
        "              c(53, 1, 2),\n",
        "              c(-12, 2, 1),\n",
        "              c(26, 2, 2),\n",
        "              c(12, 1, 1),\n",
        "              c(3, 1, 2),\n",
        "              c(64, 1, 1),\n",
        "              c(15, 1, 2),\n",
        "              c(36, 2, 1),\n",
        "              c(3, 1, 2),\n",
        "              c(6, 2, 1),\n",
        "              c(41, 1, 2),\n",
        "              c(4, 2, 1),\n",
        "              c(16, 1, 2),\n",
        "              c(11, 2, 1),\n",
        "              c(-4, 2, 2),\n",
        "              c(0, 2, 1),\n",
        "              c(-6, 2, 2),\n",
        "              c(9, 1, 2),\n",
        "              c(9, 2, 2),\n",
        "              c(-3, 2, 2),\n",
        "              c(9, 2, 2),\n",
        "              c(3, 1, 2),\n",
        "              c(4, 2, 2))\n",
        "\n",
        "# Se convierte la matriz de datos en un dataframe\n",
        "df <- as.data.frame(data)\n",
        "# Se nombran las columnas\n",
        "colnames(df) <- c(\"cambio\", \"migraña\", \"tratamiento\")"
      ],
      "execution_count": 13,
      "outputs": []
    },
    {
      "cell_type": "code",
      "metadata": {
        "colab": {
          "base_uri": "https://localhost:8080/",
          "height": 139
        },
        "id": "alu1ChLRKUja",
        "outputId": "a6324f39-9465-48c5-89e3-0280705d06f3"
      },
      "source": [
        "# Se hace el two-way anova y se muestra la tabla anova\n",
        "summary( aov(cambio ~ migraña*tratamiento, data = df) )"
      ],
      "execution_count": 14,
      "outputs": [
        {
          "output_type": "display_data",
          "data": {
            "text/plain": [
              "                    Df Sum Sq Mean Sq F value   Pr(>F)    \n",
              "migraña              1   6827    6827  17.090 0.000177 ***\n",
              "tratamiento          1    647     647   1.619 0.210523    \n",
              "migraña:tratamiento  1    567     567   1.420 0.240430    \n",
              "Residuals           40  15980     399                     \n",
              "---\n",
              "Signif. codes:  0 ‘***’ 0.001 ‘**’ 0.01 ‘*’ 0.05 ‘.’ 0.1 ‘ ’ 1"
            ]
          },
          "metadata": {}
        }
      ]
    },
    {
      "cell_type": "markdown",
      "metadata": {
        "id": "9OHacrTubeK4"
      },
      "source": [
        "Vistos los p-values, sólo el p-value de la migraña es menor que 0.05. Entonces, que el paciente tenga migraña o no es el único factor relevante en el cambio del dolor."
      ]
    },
    {
      "cell_type": "markdown",
      "metadata": {
        "id": "gDV-D1Z7dveg"
      },
      "source": [
        "### 8.5.5"
      ]
    },
    {
      "cell_type": "markdown",
      "metadata": {
        "id": "IcAChTXxdvek"
      },
      "source": [
        "__A study by Gorecka et al. (A-26) assessed the manner in which among middle-aged smokers the diagnosis of airflow limitation (AL) combined with advice to stop smoking influences the smoking cessation rate. Their concerns were whether having AL, whether the subject successfully quit smoking, and whether interaction between AL and smoking status were significant factors in regard to baseline variables and lung capacity variables at the end of the study. Some of the variables of interest were previous years of smoking (pack years), age at which subject first began smoking, forced expiratory volume in one second FEV1, and forced vital capacity (FVC). There were 368 subjects in the study. What are the factors in this study? At how many levels does each occur? Who are the subjects? What is (are) the response variable(s)? Can you think of any extraneous variables whose effects are included in the error term?__"
      ]
    },
    {
      "cell_type": "markdown",
      "metadata": {
        "id": "D40c291IDNgV"
      },
      "source": [
        "Los factores del estudio son si el sujeto tiene limitaciones ventilatorias y si dejó de fumar. En ambos factores se tienen dos niveles: sí o no.\n",
        "\n",
        "Los sujetos de la muestra son fumadores de mediana edad.\n",
        "\n",
        "Las variables de respuesta tienen que ver con la capacidad pulmonar y algunas condiciones de salud.\n",
        "\n",
        "Algunas variables que pueden inducir error son la cantidad de cajetillas que fumaba al año: no es lo mismo un fumador que consume 52 cajetillas al año que uno que consume 250 en el mismo período. O si los años de tabaquismo más intenso son recientes o si lleva tiempo tratando dejar de fumar."
      ]
    }
  ]
}